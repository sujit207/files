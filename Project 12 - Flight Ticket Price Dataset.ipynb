{
 "cells": [
  {
   "cell_type": "markdown",
   "metadata": {},
   "source": [
    "# Predict The Flight Ticket Price (dynamice project -12)"
   ]
  },
  {
   "cell_type": "code",
   "execution_count": 79,
   "metadata": {},
   "outputs": [],
   "source": [
    "import numpy as np\n",
    "import pandas as pd\n",
    "import seaborn as sns\n",
    "import sklearn\n",
    "import matplotlib.pyplot as plt\n",
    "from sklearn.linear_model import LinearRegression\n",
    "import scipy\n",
    "from scipy.stats import zscore\n",
    "from sklearn.metrics import mean_squared_error,mean_absolute_error\n",
    "from sklearn.model_selection import train_test_split\n",
    "from sklearn.ensemble import RandomForestRegressor\n",
    "from sklearn.ensemble import AdaBoostRegressor\n",
    "from sklearn.ensemble import GradientBoostingRegressor\n",
    "from sklearn.preprocessing import LabelEncoder\n",
    "from sklearn.metrics import r2_score\n",
    "from sklearn.model_selection import cross_val_score\n",
    "from sklearn.linear_model import Lasso,Ridge\n",
    "from sklearn.linear_model import ElasticNet\n",
    "from sklearn.svm import SVR\n",
    "from sklearn.preprocessing import StandardScaler\n",
    "from sklearn.model_selection import GridSearchCV\n",
    "from scipy.stats import boxcox\n",
    "from sklearn.svm import SVR\n",
    "from sklearn.externals import joblib\n",
    "import warnings\n",
    "warnings.filterwarnings('ignore')"
   ]
  },
  {
   "cell_type": "code",
   "execution_count": 2,
   "metadata": {},
   "outputs": [
    {
     "data": {
      "text/html": [
       "<div>\n",
       "<style scoped>\n",
       "    .dataframe tbody tr th:only-of-type {\n",
       "        vertical-align: middle;\n",
       "    }\n",
       "\n",
       "    .dataframe tbody tr th {\n",
       "        vertical-align: top;\n",
       "    }\n",
       "\n",
       "    .dataframe thead th {\n",
       "        text-align: right;\n",
       "    }\n",
       "</style>\n",
       "<table border=\"1\" class=\"dataframe\">\n",
       "  <thead>\n",
       "    <tr style=\"text-align: right;\">\n",
       "      <th></th>\n",
       "      <th>Airline</th>\n",
       "      <th>Date_of_Journey</th>\n",
       "      <th>Source</th>\n",
       "      <th>Destination</th>\n",
       "      <th>Route</th>\n",
       "      <th>Dep_Time</th>\n",
       "      <th>Arrival_Time</th>\n",
       "      <th>Duration</th>\n",
       "      <th>Total_Stops</th>\n",
       "      <th>Additional_Info</th>\n",
       "      <th>Price</th>\n",
       "    </tr>\n",
       "  </thead>\n",
       "  <tbody>\n",
       "    <tr>\n",
       "      <th>0</th>\n",
       "      <td>IndiGo</td>\n",
       "      <td>2019-03-24</td>\n",
       "      <td>Banglore</td>\n",
       "      <td>New Delhi</td>\n",
       "      <td>BLR → DEL</td>\n",
       "      <td>22:20</td>\n",
       "      <td>2020-03-22 01:10:00</td>\n",
       "      <td>2h 50m</td>\n",
       "      <td>non-stop</td>\n",
       "      <td>No info</td>\n",
       "      <td>3897</td>\n",
       "    </tr>\n",
       "    <tr>\n",
       "      <th>1</th>\n",
       "      <td>Air India</td>\n",
       "      <td>2019-01-05</td>\n",
       "      <td>Kolkata</td>\n",
       "      <td>Banglore</td>\n",
       "      <td>CCU → IXR → BBI → BLR</td>\n",
       "      <td>05:50</td>\n",
       "      <td>2020-09-11 13:15:00</td>\n",
       "      <td>7h 25m</td>\n",
       "      <td>2 stops</td>\n",
       "      <td>No info</td>\n",
       "      <td>7662</td>\n",
       "    </tr>\n",
       "    <tr>\n",
       "      <th>2</th>\n",
       "      <td>Jet Airways</td>\n",
       "      <td>2019-09-06</td>\n",
       "      <td>Delhi</td>\n",
       "      <td>Cochin</td>\n",
       "      <td>DEL → LKO → BOM → COK</td>\n",
       "      <td>09:25</td>\n",
       "      <td>2020-06-10 04:25:00</td>\n",
       "      <td>19h</td>\n",
       "      <td>2 stops</td>\n",
       "      <td>No info</td>\n",
       "      <td>13882</td>\n",
       "    </tr>\n",
       "    <tr>\n",
       "      <th>3</th>\n",
       "      <td>IndiGo</td>\n",
       "      <td>2019-12-05</td>\n",
       "      <td>Kolkata</td>\n",
       "      <td>Banglore</td>\n",
       "      <td>CCU → NAG → BLR</td>\n",
       "      <td>18:05</td>\n",
       "      <td>2020-09-11 23:30:00</td>\n",
       "      <td>5h 25m</td>\n",
       "      <td>1 stop</td>\n",
       "      <td>No info</td>\n",
       "      <td>6218</td>\n",
       "    </tr>\n",
       "    <tr>\n",
       "      <th>4</th>\n",
       "      <td>IndiGo</td>\n",
       "      <td>2019-01-03</td>\n",
       "      <td>Banglore</td>\n",
       "      <td>New Delhi</td>\n",
       "      <td>BLR → NAG → DEL</td>\n",
       "      <td>16:50</td>\n",
       "      <td>2020-09-11 21:35:00</td>\n",
       "      <td>4h 45m</td>\n",
       "      <td>1 stop</td>\n",
       "      <td>No info</td>\n",
       "      <td>13302</td>\n",
       "    </tr>\n",
       "    <tr>\n",
       "      <th>...</th>\n",
       "      <td>...</td>\n",
       "      <td>...</td>\n",
       "      <td>...</td>\n",
       "      <td>...</td>\n",
       "      <td>...</td>\n",
       "      <td>...</td>\n",
       "      <td>...</td>\n",
       "      <td>...</td>\n",
       "      <td>...</td>\n",
       "      <td>...</td>\n",
       "      <td>...</td>\n",
       "    </tr>\n",
       "    <tr>\n",
       "      <th>10678</th>\n",
       "      <td>Air Asia</td>\n",
       "      <td>2019-09-04</td>\n",
       "      <td>Kolkata</td>\n",
       "      <td>Banglore</td>\n",
       "      <td>CCU → BLR</td>\n",
       "      <td>19:55</td>\n",
       "      <td>2020-09-11 22:25:00</td>\n",
       "      <td>2h 30m</td>\n",
       "      <td>non-stop</td>\n",
       "      <td>No info</td>\n",
       "      <td>4107</td>\n",
       "    </tr>\n",
       "    <tr>\n",
       "      <th>10679</th>\n",
       "      <td>Air India</td>\n",
       "      <td>2019-04-27</td>\n",
       "      <td>Kolkata</td>\n",
       "      <td>Banglore</td>\n",
       "      <td>CCU → BLR</td>\n",
       "      <td>20:45</td>\n",
       "      <td>2020-09-11 23:20:00</td>\n",
       "      <td>2h 35m</td>\n",
       "      <td>non-stop</td>\n",
       "      <td>No info</td>\n",
       "      <td>4145</td>\n",
       "    </tr>\n",
       "    <tr>\n",
       "      <th>10680</th>\n",
       "      <td>Jet Airways</td>\n",
       "      <td>2019-04-27</td>\n",
       "      <td>Banglore</td>\n",
       "      <td>Delhi</td>\n",
       "      <td>BLR → DEL</td>\n",
       "      <td>08:20</td>\n",
       "      <td>2020-09-11 11:20:00</td>\n",
       "      <td>3h</td>\n",
       "      <td>non-stop</td>\n",
       "      <td>No info</td>\n",
       "      <td>7229</td>\n",
       "    </tr>\n",
       "    <tr>\n",
       "      <th>10681</th>\n",
       "      <td>Vistara</td>\n",
       "      <td>2019-01-03</td>\n",
       "      <td>Banglore</td>\n",
       "      <td>New Delhi</td>\n",
       "      <td>BLR → DEL</td>\n",
       "      <td>11:30</td>\n",
       "      <td>2020-09-11 14:10:00</td>\n",
       "      <td>2h 40m</td>\n",
       "      <td>non-stop</td>\n",
       "      <td>No info</td>\n",
       "      <td>12648</td>\n",
       "    </tr>\n",
       "    <tr>\n",
       "      <th>10682</th>\n",
       "      <td>Air India</td>\n",
       "      <td>2019-09-05</td>\n",
       "      <td>Delhi</td>\n",
       "      <td>Cochin</td>\n",
       "      <td>DEL → GOI → BOM → COK</td>\n",
       "      <td>10:55</td>\n",
       "      <td>2020-09-11 19:15:00</td>\n",
       "      <td>8h 20m</td>\n",
       "      <td>2 stops</td>\n",
       "      <td>No info</td>\n",
       "      <td>11753</td>\n",
       "    </tr>\n",
       "  </tbody>\n",
       "</table>\n",
       "<p>10683 rows × 11 columns</p>\n",
       "</div>"
      ],
      "text/plain": [
       "           Airline Date_of_Journey    Source Destination  \\\n",
       "0           IndiGo      2019-03-24  Banglore   New Delhi   \n",
       "1        Air India      2019-01-05   Kolkata    Banglore   \n",
       "2      Jet Airways      2019-09-06     Delhi      Cochin   \n",
       "3           IndiGo      2019-12-05   Kolkata    Banglore   \n",
       "4           IndiGo      2019-01-03  Banglore   New Delhi   \n",
       "...            ...             ...       ...         ...   \n",
       "10678     Air Asia      2019-09-04   Kolkata    Banglore   \n",
       "10679    Air India      2019-04-27   Kolkata    Banglore   \n",
       "10680  Jet Airways      2019-04-27  Banglore       Delhi   \n",
       "10681      Vistara      2019-01-03  Banglore   New Delhi   \n",
       "10682    Air India      2019-09-05     Delhi      Cochin   \n",
       "\n",
       "                       Route Dep_Time        Arrival_Time Duration  \\\n",
       "0                  BLR → DEL    22:20 2020-03-22 01:10:00   2h 50m   \n",
       "1      CCU → IXR → BBI → BLR    05:50 2020-09-11 13:15:00   7h 25m   \n",
       "2      DEL → LKO → BOM → COK    09:25 2020-06-10 04:25:00      19h   \n",
       "3            CCU → NAG → BLR    18:05 2020-09-11 23:30:00   5h 25m   \n",
       "4            BLR → NAG → DEL    16:50 2020-09-11 21:35:00   4h 45m   \n",
       "...                      ...      ...                 ...      ...   \n",
       "10678              CCU → BLR    19:55 2020-09-11 22:25:00   2h 30m   \n",
       "10679              CCU → BLR    20:45 2020-09-11 23:20:00   2h 35m   \n",
       "10680              BLR → DEL    08:20 2020-09-11 11:20:00       3h   \n",
       "10681              BLR → DEL    11:30 2020-09-11 14:10:00   2h 40m   \n",
       "10682  DEL → GOI → BOM → COK    10:55 2020-09-11 19:15:00   8h 20m   \n",
       "\n",
       "      Total_Stops Additional_Info  Price  \n",
       "0        non-stop         No info   3897  \n",
       "1         2 stops         No info   7662  \n",
       "2         2 stops         No info  13882  \n",
       "3          1 stop         No info   6218  \n",
       "4          1 stop         No info  13302  \n",
       "...           ...             ...    ...  \n",
       "10678    non-stop         No info   4107  \n",
       "10679    non-stop         No info   4145  \n",
       "10680    non-stop         No info   7229  \n",
       "10681    non-stop         No info  12648  \n",
       "10682     2 stops         No info  11753  \n",
       "\n",
       "[10683 rows x 11 columns]"
      ]
     },
     "execution_count": 2,
     "metadata": {},
     "output_type": "execute_result"
    }
   ],
   "source": [
    "data1=pd.read_csv('flighttrain.csv',sep='\\t',parse_dates=['Date_of_Journey','Arrival_Time'],na_values='nan')\n",
    "data1\n",
    "# Flight ticket prices can be something hard to guess, today we might see a price, check out the price of the same flight tomorrow, it will be a different story.\n",
    "# We might have often heard travellers saying that flight ticket prices are so unpredictable.\n",
    "# Here we are provided with prices of flight tickets for various airlines between the months of March and June of 2019 and between various cities.\n",
    "#Size of training set: 10683 records\n",
    "#Size of test set: 2671 records\n",
    "# FEATURES:\n",
    "## Airline: The name of the airline.\n",
    "## Date_of_Journey: The date of the journey\n",
    "## Source: The source from which the service begins.\n",
    "## Destination: The destination where the service ends.\n",
    "## Route: The route taken by the flight to reach the destination.\n",
    "## Dep_Time: The time when the journey starts from the source.\n",
    "## Arrival_Time: Time of arrival at the destination.\n",
    "## Duration: Total duration of the flight.\n",
    "## Total_Stops: Total stops between the source and destination.\n",
    "## Additional_Info: Additional information about the flight\n",
    "## Price: The price of the ticket (TARGET)"
   ]
  },
  {
   "cell_type": "code",
   "execution_count": 3,
   "metadata": {},
   "outputs": [
    {
     "data": {
      "text/html": [
       "<div>\n",
       "<style scoped>\n",
       "    .dataframe tbody tr th:only-of-type {\n",
       "        vertical-align: middle;\n",
       "    }\n",
       "\n",
       "    .dataframe tbody tr th {\n",
       "        vertical-align: top;\n",
       "    }\n",
       "\n",
       "    .dataframe thead th {\n",
       "        text-align: right;\n",
       "    }\n",
       "</style>\n",
       "<table border=\"1\" class=\"dataframe\">\n",
       "  <thead>\n",
       "    <tr style=\"text-align: right;\">\n",
       "      <th></th>\n",
       "      <th>Airline</th>\n",
       "      <th>Date_of_Journey</th>\n",
       "      <th>Source</th>\n",
       "      <th>Destination</th>\n",
       "      <th>Route</th>\n",
       "      <th>Dep_Time</th>\n",
       "      <th>Arrival_Time</th>\n",
       "      <th>Duration</th>\n",
       "      <th>Total_Stops</th>\n",
       "      <th>Additional_Info</th>\n",
       "    </tr>\n",
       "  </thead>\n",
       "  <tbody>\n",
       "    <tr>\n",
       "      <th>0</th>\n",
       "      <td>Jet Airways</td>\n",
       "      <td>2019-06-06</td>\n",
       "      <td>Delhi</td>\n",
       "      <td>Cochin</td>\n",
       "      <td>DEL → BOM → COK</td>\n",
       "      <td>17:30</td>\n",
       "      <td>2020-06-07 04:25:00</td>\n",
       "      <td>10h 55m</td>\n",
       "      <td>1 stop</td>\n",
       "      <td>No info</td>\n",
       "    </tr>\n",
       "    <tr>\n",
       "      <th>1</th>\n",
       "      <td>IndiGo</td>\n",
       "      <td>2019-12-05</td>\n",
       "      <td>Kolkata</td>\n",
       "      <td>Banglore</td>\n",
       "      <td>CCU → MAA → BLR</td>\n",
       "      <td>06:20</td>\n",
       "      <td>2020-09-11 10:20:00</td>\n",
       "      <td>4h</td>\n",
       "      <td>1 stop</td>\n",
       "      <td>No info</td>\n",
       "    </tr>\n",
       "    <tr>\n",
       "      <th>2</th>\n",
       "      <td>Jet Airways</td>\n",
       "      <td>2019-05-21</td>\n",
       "      <td>Delhi</td>\n",
       "      <td>Cochin</td>\n",
       "      <td>DEL → BOM → COK</td>\n",
       "      <td>19:15</td>\n",
       "      <td>2020-05-22 19:00:00</td>\n",
       "      <td>23h 45m</td>\n",
       "      <td>1 stop</td>\n",
       "      <td>In-flight meal not included</td>\n",
       "    </tr>\n",
       "    <tr>\n",
       "      <th>3</th>\n",
       "      <td>Multiple carriers</td>\n",
       "      <td>2019-05-21</td>\n",
       "      <td>Delhi</td>\n",
       "      <td>Cochin</td>\n",
       "      <td>DEL → BOM → COK</td>\n",
       "      <td>08:00</td>\n",
       "      <td>2020-09-11 21:00:00</td>\n",
       "      <td>13h</td>\n",
       "      <td>1 stop</td>\n",
       "      <td>No info</td>\n",
       "    </tr>\n",
       "    <tr>\n",
       "      <th>4</th>\n",
       "      <td>Air Asia</td>\n",
       "      <td>2019-06-24</td>\n",
       "      <td>Banglore</td>\n",
       "      <td>Delhi</td>\n",
       "      <td>BLR → DEL</td>\n",
       "      <td>23:55</td>\n",
       "      <td>2020-06-25 02:45:00</td>\n",
       "      <td>2h 50m</td>\n",
       "      <td>non-stop</td>\n",
       "      <td>No info</td>\n",
       "    </tr>\n",
       "    <tr>\n",
       "      <th>...</th>\n",
       "      <td>...</td>\n",
       "      <td>...</td>\n",
       "      <td>...</td>\n",
       "      <td>...</td>\n",
       "      <td>...</td>\n",
       "      <td>...</td>\n",
       "      <td>...</td>\n",
       "      <td>...</td>\n",
       "      <td>...</td>\n",
       "      <td>...</td>\n",
       "    </tr>\n",
       "    <tr>\n",
       "      <th>2666</th>\n",
       "      <td>Air India</td>\n",
       "      <td>2019-06-06</td>\n",
       "      <td>Kolkata</td>\n",
       "      <td>Banglore</td>\n",
       "      <td>CCU → DEL → BLR</td>\n",
       "      <td>20:30</td>\n",
       "      <td>2020-06-07 20:25:00</td>\n",
       "      <td>23h 55m</td>\n",
       "      <td>1 stop</td>\n",
       "      <td>No info</td>\n",
       "    </tr>\n",
       "    <tr>\n",
       "      <th>2667</th>\n",
       "      <td>IndiGo</td>\n",
       "      <td>2019-03-27</td>\n",
       "      <td>Kolkata</td>\n",
       "      <td>Banglore</td>\n",
       "      <td>CCU → BLR</td>\n",
       "      <td>14:20</td>\n",
       "      <td>2020-09-11 16:55:00</td>\n",
       "      <td>2h 35m</td>\n",
       "      <td>non-stop</td>\n",
       "      <td>No info</td>\n",
       "    </tr>\n",
       "    <tr>\n",
       "      <th>2668</th>\n",
       "      <td>Jet Airways</td>\n",
       "      <td>2019-06-03</td>\n",
       "      <td>Delhi</td>\n",
       "      <td>Cochin</td>\n",
       "      <td>DEL → BOM → COK</td>\n",
       "      <td>21:50</td>\n",
       "      <td>2020-03-07 04:25:00</td>\n",
       "      <td>6h 35m</td>\n",
       "      <td>1 stop</td>\n",
       "      <td>No info</td>\n",
       "    </tr>\n",
       "    <tr>\n",
       "      <th>2669</th>\n",
       "      <td>Air India</td>\n",
       "      <td>2019-06-03</td>\n",
       "      <td>Delhi</td>\n",
       "      <td>Cochin</td>\n",
       "      <td>DEL → BOM → COK</td>\n",
       "      <td>04:00</td>\n",
       "      <td>2020-09-11 19:15:00</td>\n",
       "      <td>15h 15m</td>\n",
       "      <td>1 stop</td>\n",
       "      <td>No info</td>\n",
       "    </tr>\n",
       "    <tr>\n",
       "      <th>2670</th>\n",
       "      <td>Multiple carriers</td>\n",
       "      <td>2019-06-15</td>\n",
       "      <td>Delhi</td>\n",
       "      <td>Cochin</td>\n",
       "      <td>DEL → BOM → COK</td>\n",
       "      <td>04:55</td>\n",
       "      <td>2020-09-11 19:15:00</td>\n",
       "      <td>14h 20m</td>\n",
       "      <td>1 stop</td>\n",
       "      <td>No info</td>\n",
       "    </tr>\n",
       "  </tbody>\n",
       "</table>\n",
       "<p>2671 rows × 10 columns</p>\n",
       "</div>"
      ],
      "text/plain": [
       "                Airline Date_of_Journey    Source Destination  \\\n",
       "0           Jet Airways      2019-06-06     Delhi      Cochin   \n",
       "1                IndiGo      2019-12-05   Kolkata    Banglore   \n",
       "2           Jet Airways      2019-05-21     Delhi      Cochin   \n",
       "3     Multiple carriers      2019-05-21     Delhi      Cochin   \n",
       "4              Air Asia      2019-06-24  Banglore       Delhi   \n",
       "...                 ...             ...       ...         ...   \n",
       "2666          Air India      2019-06-06   Kolkata    Banglore   \n",
       "2667             IndiGo      2019-03-27   Kolkata    Banglore   \n",
       "2668        Jet Airways      2019-06-03     Delhi      Cochin   \n",
       "2669          Air India      2019-06-03     Delhi      Cochin   \n",
       "2670  Multiple carriers      2019-06-15     Delhi      Cochin   \n",
       "\n",
       "                Route Dep_Time        Arrival_Time Duration Total_Stops  \\\n",
       "0     DEL → BOM → COK    17:30 2020-06-07 04:25:00  10h 55m      1 stop   \n",
       "1     CCU → MAA → BLR    06:20 2020-09-11 10:20:00       4h      1 stop   \n",
       "2     DEL → BOM → COK    19:15 2020-05-22 19:00:00  23h 45m      1 stop   \n",
       "3     DEL → BOM → COK    08:00 2020-09-11 21:00:00      13h      1 stop   \n",
       "4           BLR → DEL    23:55 2020-06-25 02:45:00   2h 50m    non-stop   \n",
       "...               ...      ...                 ...      ...         ...   \n",
       "2666  CCU → DEL → BLR    20:30 2020-06-07 20:25:00  23h 55m      1 stop   \n",
       "2667        CCU → BLR    14:20 2020-09-11 16:55:00   2h 35m    non-stop   \n",
       "2668  DEL → BOM → COK    21:50 2020-03-07 04:25:00   6h 35m      1 stop   \n",
       "2669  DEL → BOM → COK    04:00 2020-09-11 19:15:00  15h 15m      1 stop   \n",
       "2670  DEL → BOM → COK    04:55 2020-09-11 19:15:00  14h 20m      1 stop   \n",
       "\n",
       "                  Additional_Info  \n",
       "0                         No info  \n",
       "1                         No info  \n",
       "2     In-flight meal not included  \n",
       "3                         No info  \n",
       "4                         No info  \n",
       "...                           ...  \n",
       "2666                      No info  \n",
       "2667                      No info  \n",
       "2668                      No info  \n",
       "2669                      No info  \n",
       "2670                      No info  \n",
       "\n",
       "[2671 rows x 10 columns]"
      ]
     },
     "execution_count": 3,
     "metadata": {},
     "output_type": "execute_result"
    }
   ],
   "source": [
    "data2=pd.read_csv('flighttest.csv',sep='\\t',parse_dates=['Date_of_Journey','Arrival_Time'],na_values='nan')\n",
    "data2"
   ]
  },
  {
   "cell_type": "code",
   "execution_count": 4,
   "metadata": {},
   "outputs": [],
   "source": [
    "dftrain=pd.DataFrame(data=data1)\n",
    "dftest=pd.DataFrame(data=data2) "
   ]
  },
  {
   "cell_type": "code",
   "execution_count": 5,
   "metadata": {},
   "outputs": [
    {
     "data": {
      "text/plain": [
       "((10683, 11), (2671, 10))"
      ]
     },
     "execution_count": 5,
     "metadata": {},
     "output_type": "execute_result"
    }
   ],
   "source": [
    "dftrain.shape,dftest.shape"
   ]
  },
  {
   "cell_type": "code",
   "execution_count": 6,
   "metadata": {},
   "outputs": [
    {
     "name": "stdout",
     "output_type": "stream",
     "text": [
      "<class 'pandas.core.frame.DataFrame'>\n",
      "RangeIndex: 10683 entries, 0 to 10682\n",
      "Data columns (total 11 columns):\n",
      " #   Column           Non-Null Count  Dtype         \n",
      "---  ------           --------------  -----         \n",
      " 0   Airline          10683 non-null  object        \n",
      " 1   Date_of_Journey  10683 non-null  datetime64[ns]\n",
      " 2   Source           10683 non-null  object        \n",
      " 3   Destination      10683 non-null  object        \n",
      " 4   Route            10682 non-null  object        \n",
      " 5   Dep_Time         10683 non-null  object        \n",
      " 6   Arrival_Time     10683 non-null  datetime64[ns]\n",
      " 7   Duration         10683 non-null  object        \n",
      " 8   Total_Stops      10682 non-null  object        \n",
      " 9   Additional_Info  10683 non-null  object        \n",
      " 10  Price            10683 non-null  int64         \n",
      "dtypes: datetime64[ns](2), int64(1), object(8)\n",
      "memory usage: 918.2+ KB\n"
     ]
    }
   ],
   "source": [
    "dftrain.info()\n",
    "# Missing value noticed in 'route' & 'total stops'. we will drop those rows\n",
    "# datatypes - 8 objects, 1 integer & 2 datatimestamp"
   ]
  },
  {
   "cell_type": "markdown",
   "metadata": {},
   "source": [
    "# EDA - Data Pre Processing "
   ]
  },
  {
   "cell_type": "code",
   "execution_count": 8,
   "metadata": {},
   "outputs": [],
   "source": [
    "df1=dftrain.copy()"
   ]
  },
  {
   "cell_type": "code",
   "execution_count": 9,
   "metadata": {},
   "outputs": [],
   "source": [
    "df1.dropna(axis=0,inplace=True)\n",
    "# dropping rows with missing value"
   ]
  },
  {
   "cell_type": "code",
   "execution_count": 10,
   "metadata": {},
   "outputs": [
    {
     "data": {
      "text/plain": [
       "Airline            0\n",
       "Date_of_Journey    0\n",
       "Source             0\n",
       "Destination        0\n",
       "Route              0\n",
       "Dep_Time           0\n",
       "Arrival_Time       0\n",
       "Duration           0\n",
       "Total_Stops        0\n",
       "Additional_Info    0\n",
       "Price              0\n",
       "dtype: int64"
      ]
     },
     "execution_count": 10,
     "metadata": {},
     "output_type": "execute_result"
    }
   ],
   "source": [
    "df1.isnull().sum()\n",
    "# no missing value present now"
   ]
  },
  {
   "cell_type": "code",
   "execution_count": 11,
   "metadata": {},
   "outputs": [
    {
     "data": {
      "text/plain": [
       "Index(['Airline', 'Date_of_Journey', 'Source', 'Destination', 'Route',\n",
       "       'Dep_Time', 'Arrival_Time', 'Duration', 'Total_Stops',\n",
       "       'Additional_Info', 'Price'],\n",
       "      dtype='object')"
      ]
     },
     "execution_count": 11,
     "metadata": {},
     "output_type": "execute_result"
    }
   ],
   "source": [
    "df1.columns"
   ]
  },
  {
   "cell_type": "code",
   "execution_count": 12,
   "metadata": {},
   "outputs": [
    {
     "data": {
      "text/plain": [
       "array(['IndiGo', 'Air India', 'Jet Airways', 'SpiceJet',\n",
       "       'Multiple carriers', 'GoAir', 'Vistara', 'Air Asia',\n",
       "       'Vistara Premium economy', 'Jet Airways Business',\n",
       "       'Multiple carriers Premium economy', 'Trujet'], dtype=object)"
      ]
     },
     "execution_count": 12,
     "metadata": {},
     "output_type": "execute_result"
    }
   ],
   "source": [
    "df1['Airline'].unique()"
   ]
  },
  {
   "cell_type": "code",
   "execution_count": 13,
   "metadata": {},
   "outputs": [],
   "source": [
    "le=LabelEncoder()"
   ]
  },
  {
   "cell_type": "code",
   "execution_count": 14,
   "metadata": {},
   "outputs": [
    {
     "name": "stdout",
     "output_type": "stream",
     "text": [
      "3=['IndiGo']\n",
      "1=['Air India']\n",
      "4=['Jet Airways']\n",
      "8=['SpiceJet']\n",
      "6=['Multiple carriers']\n",
      "2=['GoAir']\n",
      "10=['Vistara']\n",
      "0=['Air Asia']\n",
      "11=['Vistara Premium economy']\n",
      "5=['Jet Airways Business']\n",
      "7=['Multiple carriers Premium economy']\n",
      "9=['Trujet']\n"
     ]
    }
   ],
   "source": [
    "df1['Airline']=le.fit_transform(df1['Airline'])\n",
    "for i in df1['Airline'].unique():\n",
    "    print('{0}={1}'.format(i,le.inverse_transform([i])))"
   ]
  },
  {
   "cell_type": "code",
   "execution_count": 15,
   "metadata": {},
   "outputs": [
    {
     "data": {
      "text/plain": [
       "array(['Banglore', 'Kolkata', 'Delhi', 'Chennai', 'Mumbai'], dtype=object)"
      ]
     },
     "execution_count": 15,
     "metadata": {},
     "output_type": "execute_result"
    }
   ],
   "source": [
    "df1['Source'].unique()"
   ]
  },
  {
   "cell_type": "code",
   "execution_count": 16,
   "metadata": {},
   "outputs": [
    {
     "name": "stdout",
     "output_type": "stream",
     "text": [
      "0=['Banglore']\n",
      "3=['Kolkata']\n",
      "2=['Delhi']\n",
      "1=['Chennai']\n",
      "4=['Mumbai']\n"
     ]
    }
   ],
   "source": [
    "df1['Source']=le.fit_transform(df1['Source'])\n",
    "for i in df1['Source'].unique():\n",
    "    print('{0}={1}'.format(i,le.inverse_transform([i])))"
   ]
  },
  {
   "cell_type": "code",
   "execution_count": 17,
   "metadata": {},
   "outputs": [
    {
     "data": {
      "text/plain": [
       "array(['New Delhi', 'Banglore', 'Cochin', 'Kolkata', 'Delhi', 'Hyderabad'],\n",
       "      dtype=object)"
      ]
     },
     "execution_count": 17,
     "metadata": {},
     "output_type": "execute_result"
    }
   ],
   "source": [
    "df1['Destination'].unique()"
   ]
  },
  {
   "cell_type": "code",
   "execution_count": 18,
   "metadata": {},
   "outputs": [
    {
     "name": "stdout",
     "output_type": "stream",
     "text": [
      "5=['New Delhi']\n",
      "0=['Banglore']\n",
      "1=['Cochin']\n",
      "4=['Kolkata']\n",
      "2=['Delhi']\n",
      "3=['Hyderabad']\n"
     ]
    }
   ],
   "source": [
    "df1['Destination']=le.fit_transform(df1['Destination'])\n",
    "for i in df1['Destination'].unique():\n",
    "    print('{0}={1}'.format(i,le.inverse_transform([i])))"
   ]
  },
  {
   "cell_type": "code",
   "execution_count": 19,
   "metadata": {},
   "outputs": [
    {
     "data": {
      "text/plain": [
       "array(['BLR → DEL', 'CCU → IXR → BBI → BLR', 'DEL → LKO → BOM → COK',\n",
       "       'CCU → NAG → BLR', 'BLR → NAG → DEL', 'CCU → BLR',\n",
       "       'BLR → BOM → DEL', 'DEL → BOM → COK', 'DEL → BLR → COK',\n",
       "       'MAA → CCU', 'CCU → BOM → BLR', 'DEL → AMD → BOM → COK',\n",
       "       'DEL → PNQ → COK', 'DEL → CCU → BOM → COK', 'BLR → COK → DEL',\n",
       "       'DEL → IDR → BOM → COK', 'DEL → LKO → COK',\n",
       "       'CCU → GAU → DEL → BLR', 'DEL → NAG → BOM → COK',\n",
       "       'CCU → MAA → BLR', 'DEL → HYD → COK', 'CCU → HYD → BLR',\n",
       "       'DEL → COK', 'CCU → DEL → BLR', 'BLR → BOM → AMD → DEL',\n",
       "       'BOM → DEL → HYD', 'DEL → MAA → COK', 'BOM → HYD',\n",
       "       'DEL → BHO → BOM → COK', 'DEL → JAI → BOM → COK',\n",
       "       'DEL → ATQ → BOM → COK', 'DEL → JDH → BOM → COK',\n",
       "       'CCU → BBI → BOM → BLR', 'BLR → MAA → DEL',\n",
       "       'DEL → GOI → BOM → COK', 'DEL → BDQ → BOM → COK',\n",
       "       'CCU → JAI → BOM → BLR', 'CCU → BBI → BLR', 'BLR → HYD → DEL',\n",
       "       'DEL → TRV → COK', 'CCU → IXR → DEL → BLR',\n",
       "       'DEL → IXU → BOM → COK', 'CCU → IXB → BLR',\n",
       "       'BLR → BOM → JDH → DEL', 'DEL → UDR → BOM → COK',\n",
       "       'DEL → HYD → MAA → COK', 'CCU → BOM → COK → BLR',\n",
       "       'BLR → CCU → DEL', 'CCU → BOM → GOI → BLR',\n",
       "       'DEL → RPR → NAG → BOM → COK', 'DEL → HYD → BOM → COK',\n",
       "       'CCU → DEL → AMD → BLR', 'CCU → PNQ → BLR',\n",
       "       'BLR → CCU → GAU → DEL', 'CCU → DEL → COK → BLR',\n",
       "       'BLR → PNQ → DEL', 'BOM → JDH → DEL → HYD',\n",
       "       'BLR → BOM → BHO → DEL', 'DEL → AMD → COK', 'BLR → LKO → DEL',\n",
       "       'CCU → GAU → BLR', 'BOM → GOI → HYD', 'CCU → BOM → AMD → BLR',\n",
       "       'CCU → BBI → IXR → DEL → BLR', 'DEL → DED → BOM → COK',\n",
       "       'DEL → MAA → BOM → COK', 'BLR → AMD → DEL', 'BLR → VGA → DEL',\n",
       "       'CCU → JAI → DEL → BLR', 'CCU → AMD → BLR',\n",
       "       'CCU → VNS → DEL → BLR', 'BLR → BOM → IDR → DEL',\n",
       "       'BLR → BBI → DEL', 'BLR → GOI → DEL', 'BOM → AMD → ISK → HYD',\n",
       "       'BOM → DED → DEL → HYD', 'DEL → IXC → BOM → COK',\n",
       "       'CCU → PAT → BLR', 'BLR → CCU → BBI → DEL',\n",
       "       'CCU → BBI → HYD → BLR', 'BLR → BOM → NAG → DEL',\n",
       "       'BLR → CCU → BBI → HYD → DEL', 'BLR → GAU → DEL',\n",
       "       'BOM → BHO → DEL → HYD', 'BOM → JLR → HYD',\n",
       "       'BLR → HYD → VGA → DEL', 'CCU → KNU → BLR',\n",
       "       'CCU → BOM → PNQ → BLR', 'DEL → BBI → COK',\n",
       "       'BLR → VGA → HYD → DEL', 'BOM → JDH → JAI → DEL → HYD',\n",
       "       'DEL → GWL → IDR → BOM → COK', 'CCU → RPR → HYD → BLR',\n",
       "       'CCU → VTZ → BLR', 'CCU → DEL → VGA → BLR',\n",
       "       'BLR → BOM → IDR → GWL → DEL', 'CCU → DEL → COK → TRV → BLR',\n",
       "       'BOM → COK → MAA → HYD', 'BOM → NDC → HYD', 'BLR → BDQ → DEL',\n",
       "       'CCU → BOM → TRV → BLR', 'CCU → BOM → HBX → BLR',\n",
       "       'BOM → BDQ → DEL → HYD', 'BOM → CCU → HYD',\n",
       "       'BLR → TRV → COK → DEL', 'BLR → IDR → DEL',\n",
       "       'CCU → IXZ → MAA → BLR', 'CCU → GAU → IMF → DEL → BLR',\n",
       "       'BOM → GOI → PNQ → HYD', 'BOM → BLR → CCU → BBI → HYD',\n",
       "       'BOM → MAA → HYD', 'BLR → BOM → UDR → DEL',\n",
       "       'BOM → UDR → DEL → HYD', 'BLR → VGA → VTZ → DEL',\n",
       "       'BLR → HBX → BOM → BHO → DEL', 'CCU → IXA → BLR',\n",
       "       'BOM → RPR → VTZ → HYD', 'BLR → HBX → BOM → AMD → DEL',\n",
       "       'BOM → IDR → DEL → HYD', 'BOM → BLR → HYD', 'BLR → STV → DEL',\n",
       "       'CCU → IXB → DEL → BLR', 'BOM → JAI → DEL → HYD',\n",
       "       'BOM → VNS → DEL → HYD', 'BLR → HBX → BOM → NAG → DEL',\n",
       "       'BLR → BOM → IXC → DEL', 'BLR → CCU → BBI → HYD → VGA → DEL',\n",
       "       'BOM → BBI → HYD'], dtype=object)"
      ]
     },
     "execution_count": 19,
     "metadata": {},
     "output_type": "execute_result"
    }
   ],
   "source": [
    "df1['Route'].unique()"
   ]
  },
  {
   "cell_type": "code",
   "execution_count": 20,
   "metadata": {},
   "outputs": [
    {
     "name": "stdout",
     "output_type": "stream",
     "text": [
      "18=['BLR → DEL']\n",
      "84=['CCU → IXR → BBI → BLR']\n",
      "118=['DEL → LKO → BOM → COK']\n",
      "91=['CCU → NAG → BLR']\n",
      "29=['BLR → NAG → DEL']\n",
      "64=['CCU → BLR']\n",
      "5=['BLR → BOM → DEL']\n",
      "104=['DEL → BOM → COK']\n",
      "103=['DEL → BLR → COK']\n",
      "127=['MAA → CCU']\n",
      "66=['CCU → BOM → BLR']\n",
      "97=['DEL → AMD → BOM → COK']\n",
      "123=['DEL → PNQ → COK']\n",
      "105=['DEL → CCU → BOM → COK']\n",
      "17=['BLR → COK → DEL']\n",
      "113=['DEL → IDR → BOM → COK']\n",
      "119=['DEL → LKO → COK']\n",
      "78=['CCU → GAU → DEL → BLR']\n",
      "122=['DEL → NAG → BOM → COK']\n",
      "90=['CCU → MAA → BLR']\n",
      "111=['DEL → HYD → COK']\n",
      "80=['CCU → HYD → BLR']\n",
      "106=['DEL → COK']\n",
      "73=['CCU → DEL → BLR']\n",
      "3=['BLR → BOM → AMD → DEL']\n",
      "45=['BOM → DEL → HYD']\n",
      "121=['DEL → MAA → COK']\n",
      "48=['BOM → HYD']\n",
      "102=['DEL → BHO → BOM → COK']\n",
      "116=['DEL → JAI → BOM → COK']\n",
      "99=['DEL → ATQ → BOM → COK']\n",
      "117=['DEL → JDH → BOM → COK']\n",
      "61=['CCU → BBI → BOM → BLR']\n",
      "28=['BLR → MAA → DEL']\n",
      "108=['DEL → GOI → BOM → COK']\n",
      "101=['DEL → BDQ → BOM → COK']\n",
      "87=['CCU → JAI → BOM → BLR']\n",
      "60=['CCU → BBI → BLR']\n",
      "24=['BLR → HYD → DEL']\n",
      "125=['DEL → TRV → COK']\n",
      "85=['CCU → IXR → DEL → BLR']\n",
      "115=['DEL → IXU → BOM → COK']\n",
      "82=['CCU → IXB → BLR']\n",
      "9=['BLR → BOM → JDH → DEL']\n",
      "126=['DEL → UDR → BOM → COK']\n",
      "112=['DEL → HYD → MAA → COK']\n",
      "67=['CCU → BOM → COK → BLR']\n",
      "15=['BLR → CCU → DEL']\n",
      "68=['CCU → BOM → GOI → BLR']\n",
      "124=['DEL → RPR → NAG → BOM → COK']\n",
      "110=['DEL → HYD → BOM → COK']\n",
      "72=['CCU → DEL → AMD → BLR']\n",
      "93=['CCU → PNQ → BLR']\n",
      "16=['BLR → CCU → GAU → DEL']\n",
      "74=['CCU → DEL → COK → BLR']\n",
      "30=['BLR → PNQ → DEL']\n",
      "51=['BOM → JDH → DEL → HYD']\n",
      "4=['BLR → BOM → BHO → DEL']\n",
      "98=['DEL → AMD → COK']\n",
      "27=['BLR → LKO → DEL']\n",
      "77=['CCU → GAU → BLR']\n",
      "46=['BOM → GOI → HYD']\n",
      "65=['CCU → BOM → AMD → BLR']\n",
      "63=['CCU → BBI → IXR → DEL → BLR']\n",
      "107=['DEL → DED → BOM → COK']\n",
      "120=['DEL → MAA → BOM → COK']\n",
      "0=['BLR → AMD → DEL']\n",
      "33=['BLR → VGA → DEL']\n",
      "88=['CCU → JAI → DEL → BLR']\n",
      "59=['CCU → AMD → BLR']\n",
      "95=['CCU → VNS → DEL → BLR']\n",
      "6=['BLR → BOM → IDR → DEL']\n",
      "1=['BLR → BBI → DEL']\n",
      "20=['BLR → GOI → DEL']\n",
      "36=['BOM → AMD → ISK → HYD']\n",
      "44=['BOM → DED → DEL → HYD']\n",
      "114=['DEL → IXC → BOM → COK']\n",
      "92=['CCU → PAT → BLR']\n",
      "12=['BLR → CCU → BBI → DEL']\n",
      "62=['CCU → BBI → HYD → BLR']\n",
      "10=['BLR → BOM → NAG → DEL']\n",
      "13=['BLR → CCU → BBI → HYD → DEL']\n",
      "19=['BLR → GAU → DEL']\n",
      "39=['BOM → BHO → DEL → HYD']\n",
      "53=['BOM → JLR → HYD']\n",
      "25=['BLR → HYD → VGA → DEL']\n",
      "89=['CCU → KNU → BLR']\n",
      "70=['CCU → BOM → PNQ → BLR']\n",
      "100=['DEL → BBI → COK']\n",
      "34=['BLR → VGA → HYD → DEL']\n",
      "52=['BOM → JDH → JAI → DEL → HYD']\n",
      "109=['DEL → GWL → IDR → BOM → COK']\n",
      "94=['CCU → RPR → HYD → BLR']\n",
      "96=['CCU → VTZ → BLR']\n",
      "76=['CCU → DEL → VGA → BLR']\n",
      "7=['BLR → BOM → IDR → GWL → DEL']\n",
      "75=['CCU → DEL → COK → TRV → BLR']\n",
      "43=['BOM → COK → MAA → HYD']\n",
      "55=['BOM → NDC → HYD']\n",
      "2=['BLR → BDQ → DEL']\n",
      "71=['CCU → BOM → TRV → BLR']\n",
      "69=['CCU → BOM → HBX → BLR']\n",
      "38=['BOM → BDQ → DEL → HYD']\n",
      "42=['BOM → CCU → HYD']\n",
      "32=['BLR → TRV → COK → DEL']\n",
      "26=['BLR → IDR → DEL']\n",
      "86=['CCU → IXZ → MAA → BLR']\n",
      "79=['CCU → GAU → IMF → DEL → BLR']\n",
      "47=['BOM → GOI → PNQ → HYD']\n",
      "40=['BOM → BLR → CCU → BBI → HYD']\n",
      "54=['BOM → MAA → HYD']\n",
      "11=['BLR → BOM → UDR → DEL']\n",
      "57=['BOM → UDR → DEL → HYD']\n",
      "35=['BLR → VGA → VTZ → DEL']\n",
      "22=['BLR → HBX → BOM → BHO → DEL']\n",
      "81=['CCU → IXA → BLR']\n",
      "56=['BOM → RPR → VTZ → HYD']\n",
      "21=['BLR → HBX → BOM → AMD → DEL']\n",
      "49=['BOM → IDR → DEL → HYD']\n",
      "41=['BOM → BLR → HYD']\n",
      "31=['BLR → STV → DEL']\n",
      "83=['CCU → IXB → DEL → BLR']\n",
      "50=['BOM → JAI → DEL → HYD']\n",
      "58=['BOM → VNS → DEL → HYD']\n",
      "23=['BLR → HBX → BOM → NAG → DEL']\n",
      "8=['BLR → BOM → IXC → DEL']\n",
      "14=['BLR → CCU → BBI → HYD → VGA → DEL']\n",
      "37=['BOM → BBI → HYD']\n"
     ]
    }
   ],
   "source": [
    "df1['Route']=le.fit_transform(df1['Route'])\n",
    "for i in df1['Route'].unique():\n",
    "    print('{0}={1}'.format(i,le.inverse_transform([i])))"
   ]
  },
  {
   "cell_type": "code",
   "execution_count": 21,
   "metadata": {},
   "outputs": [
    {
     "data": {
      "text/plain": [
       "array(['non-stop', '2 stops', '1 stop', '3 stops', '4 stops'],\n",
       "      dtype=object)"
      ]
     },
     "execution_count": 21,
     "metadata": {},
     "output_type": "execute_result"
    }
   ],
   "source": [
    "df1['Total_Stops'].unique()"
   ]
  },
  {
   "cell_type": "code",
   "execution_count": 22,
   "metadata": {},
   "outputs": [
    {
     "name": "stdout",
     "output_type": "stream",
     "text": [
      "4=['non-stop']\n",
      "1=['2 stops']\n",
      "0=['1 stop']\n",
      "2=['3 stops']\n",
      "3=['4 stops']\n"
     ]
    }
   ],
   "source": [
    "df1['Total_Stops']=le.fit_transform(df1['Total_Stops'])\n",
    "for i in df1['Total_Stops'].unique():\n",
    "    print('{0}={1}'.format(i,le.inverse_transform([i])))"
   ]
  },
  {
   "cell_type": "code",
   "execution_count": 23,
   "metadata": {},
   "outputs": [
    {
     "data": {
      "text/plain": [
       "array(['No info', 'In-flight meal not included',\n",
       "       'No check-in baggage included', '1 Short layover', 'No Info',\n",
       "       '1 Long layover', 'Change airports', 'Business class',\n",
       "       'Red-eye flight', '2 Long layover'], dtype=object)"
      ]
     },
     "execution_count": 23,
     "metadata": {},
     "output_type": "execute_result"
    }
   ],
   "source": [
    "df1['Additional_Info'].unique()"
   ]
  },
  {
   "cell_type": "code",
   "execution_count": 24,
   "metadata": {},
   "outputs": [
    {
     "name": "stdout",
     "output_type": "stream",
     "text": [
      "8=['No info']\n",
      "5=['In-flight meal not included']\n",
      "7=['No check-in baggage included']\n",
      "1=['1 Short layover']\n",
      "6=['No Info']\n",
      "0=['1 Long layover']\n",
      "4=['Change airports']\n",
      "3=['Business class']\n",
      "9=['Red-eye flight']\n",
      "2=['2 Long layover']\n"
     ]
    }
   ],
   "source": [
    "df1['Additional_Info']=le.fit_transform(df1['Additional_Info'])\n",
    "for i in df1['Additional_Info'].unique():\n",
    "    print('{0}={1}'.format(i,le.inverse_transform([i])))"
   ]
  },
  {
   "cell_type": "code",
   "execution_count": 25,
   "metadata": {},
   "outputs": [],
   "source": [
    "df2=dftest.copy()"
   ]
  },
  {
   "cell_type": "code",
   "execution_count": 26,
   "metadata": {},
   "outputs": [],
   "source": [
    "df2['Airline']=le.fit_transform(df2['Airline'])"
   ]
  },
  {
   "cell_type": "code",
   "execution_count": 27,
   "metadata": {},
   "outputs": [],
   "source": [
    "df2['Source']=le.fit_transform(df2['Source'])"
   ]
  },
  {
   "cell_type": "code",
   "execution_count": 28,
   "metadata": {},
   "outputs": [],
   "source": [
    "df2['Destination']=le.fit_transform(df2['Destination'])"
   ]
  },
  {
   "cell_type": "code",
   "execution_count": 29,
   "metadata": {},
   "outputs": [],
   "source": [
    "df2['Route']=le.fit_transform(df2['Route'])"
   ]
  },
  {
   "cell_type": "code",
   "execution_count": 30,
   "metadata": {},
   "outputs": [],
   "source": [
    "df2['Total_Stops']=le.fit_transform(df2['Total_Stops'])"
   ]
  },
  {
   "cell_type": "code",
   "execution_count": 31,
   "metadata": {},
   "outputs": [],
   "source": [
    "df2['Additional_Info']=le.fit_transform(df2['Additional_Info'])"
   ]
  },
  {
   "cell_type": "markdown",
   "metadata": {},
   "source": [
    "# EDA on Date"
   ]
  },
  {
   "cell_type": "code",
   "execution_count": 33,
   "metadata": {},
   "outputs": [
    {
     "data": {
      "text/html": [
       "<div>\n",
       "<style scoped>\n",
       "    .dataframe tbody tr th:only-of-type {\n",
       "        vertical-align: middle;\n",
       "    }\n",
       "\n",
       "    .dataframe tbody tr th {\n",
       "        vertical-align: top;\n",
       "    }\n",
       "\n",
       "    .dataframe thead th {\n",
       "        text-align: right;\n",
       "    }\n",
       "</style>\n",
       "<table border=\"1\" class=\"dataframe\">\n",
       "  <thead>\n",
       "    <tr style=\"text-align: right;\">\n",
       "      <th></th>\n",
       "      <th>month</th>\n",
       "      <th>year</th>\n",
       "      <th>day</th>\n",
       "      <th>Price</th>\n",
       "    </tr>\n",
       "  </thead>\n",
       "  <tbody>\n",
       "    <tr>\n",
       "      <th>0</th>\n",
       "      <td>March</td>\n",
       "      <td>2019</td>\n",
       "      <td>Sunday</td>\n",
       "      <td>3897</td>\n",
       "    </tr>\n",
       "    <tr>\n",
       "      <th>1</th>\n",
       "      <td>January</td>\n",
       "      <td>2019</td>\n",
       "      <td>Saturday</td>\n",
       "      <td>7662</td>\n",
       "    </tr>\n",
       "    <tr>\n",
       "      <th>2</th>\n",
       "      <td>September</td>\n",
       "      <td>2019</td>\n",
       "      <td>Friday</td>\n",
       "      <td>13882</td>\n",
       "    </tr>\n",
       "    <tr>\n",
       "      <th>3</th>\n",
       "      <td>December</td>\n",
       "      <td>2019</td>\n",
       "      <td>Thursday</td>\n",
       "      <td>6218</td>\n",
       "    </tr>\n",
       "    <tr>\n",
       "      <th>4</th>\n",
       "      <td>January</td>\n",
       "      <td>2019</td>\n",
       "      <td>Thursday</td>\n",
       "      <td>13302</td>\n",
       "    </tr>\n",
       "    <tr>\n",
       "      <th>...</th>\n",
       "      <td>...</td>\n",
       "      <td>...</td>\n",
       "      <td>...</td>\n",
       "      <td>...</td>\n",
       "    </tr>\n",
       "    <tr>\n",
       "      <th>10678</th>\n",
       "      <td>September</td>\n",
       "      <td>2019</td>\n",
       "      <td>Wednesday</td>\n",
       "      <td>4107</td>\n",
       "    </tr>\n",
       "    <tr>\n",
       "      <th>10679</th>\n",
       "      <td>April</td>\n",
       "      <td>2019</td>\n",
       "      <td>Saturday</td>\n",
       "      <td>4145</td>\n",
       "    </tr>\n",
       "    <tr>\n",
       "      <th>10680</th>\n",
       "      <td>April</td>\n",
       "      <td>2019</td>\n",
       "      <td>Saturday</td>\n",
       "      <td>7229</td>\n",
       "    </tr>\n",
       "    <tr>\n",
       "      <th>10681</th>\n",
       "      <td>January</td>\n",
       "      <td>2019</td>\n",
       "      <td>Thursday</td>\n",
       "      <td>12648</td>\n",
       "    </tr>\n",
       "    <tr>\n",
       "      <th>10682</th>\n",
       "      <td>September</td>\n",
       "      <td>2019</td>\n",
       "      <td>Thursday</td>\n",
       "      <td>11753</td>\n",
       "    </tr>\n",
       "  </tbody>\n",
       "</table>\n",
       "<p>10682 rows × 4 columns</p>\n",
       "</div>"
      ],
      "text/plain": [
       "           month  year        day  Price\n",
       "0          March  2019     Sunday   3897\n",
       "1        January  2019   Saturday   7662\n",
       "2      September  2019     Friday  13882\n",
       "3       December  2019   Thursday   6218\n",
       "4        January  2019   Thursday  13302\n",
       "...          ...   ...        ...    ...\n",
       "10678  September  2019  Wednesday   4107\n",
       "10679      April  2019   Saturday   4145\n",
       "10680      April  2019   Saturday   7229\n",
       "10681    January  2019   Thursday  12648\n",
       "10682  September  2019   Thursday  11753\n",
       "\n",
       "[10682 rows x 4 columns]"
      ]
     },
     "execution_count": 33,
     "metadata": {},
     "output_type": "execute_result"
    }
   ],
   "source": [
    "Date_of_Journey_dates=pd.DataFrame()\n",
    "Date_of_Journey_dates['month']=df1['Date_of_Journey'].dt.month_name()\n",
    "Date_of_Journey_dates['year']=df1['Date_of_Journey'].dt.year\n",
    "Date_of_Journey_dates['day']=df1['Date_of_Journey'].dt.day_name()\n",
    "Date_of_Journey_dates['Price']=df1['Price']\n",
    "Date_of_Journey_dates\n",
    "# here we are trying analyse whether ticket prices are varrying on any particular month/day or weekends"
   ]
  },
  {
   "cell_type": "code",
   "execution_count": 34,
   "metadata": {},
   "outputs": [
    {
     "data": {
      "text/html": [
       "<div>\n",
       "<style scoped>\n",
       "    .dataframe tbody tr th:only-of-type {\n",
       "        vertical-align: middle;\n",
       "    }\n",
       "\n",
       "    .dataframe tbody tr th {\n",
       "        vertical-align: top;\n",
       "    }\n",
       "\n",
       "    .dataframe thead th {\n",
       "        text-align: right;\n",
       "    }\n",
       "</style>\n",
       "<table border=\"1\" class=\"dataframe\">\n",
       "  <thead>\n",
       "    <tr style=\"text-align: right;\">\n",
       "      <th></th>\n",
       "      <th>month</th>\n",
       "      <th>year</th>\n",
       "      <th>day</th>\n",
       "      <th>Price</th>\n",
       "      <th>type_of_day</th>\n",
       "    </tr>\n",
       "  </thead>\n",
       "  <tbody>\n",
       "    <tr>\n",
       "      <th>0</th>\n",
       "      <td>March</td>\n",
       "      <td>2019</td>\n",
       "      <td>Sunday</td>\n",
       "      <td>3897</td>\n",
       "      <td>weekend</td>\n",
       "    </tr>\n",
       "    <tr>\n",
       "      <th>1</th>\n",
       "      <td>January</td>\n",
       "      <td>2019</td>\n",
       "      <td>Saturday</td>\n",
       "      <td>7662</td>\n",
       "      <td>weekend</td>\n",
       "    </tr>\n",
       "    <tr>\n",
       "      <th>2</th>\n",
       "      <td>September</td>\n",
       "      <td>2019</td>\n",
       "      <td>Friday</td>\n",
       "      <td>13882</td>\n",
       "      <td>weekday</td>\n",
       "    </tr>\n",
       "    <tr>\n",
       "      <th>3</th>\n",
       "      <td>December</td>\n",
       "      <td>2019</td>\n",
       "      <td>Thursday</td>\n",
       "      <td>6218</td>\n",
       "      <td>weekday</td>\n",
       "    </tr>\n",
       "    <tr>\n",
       "      <th>4</th>\n",
       "      <td>January</td>\n",
       "      <td>2019</td>\n",
       "      <td>Thursday</td>\n",
       "      <td>13302</td>\n",
       "      <td>weekday</td>\n",
       "    </tr>\n",
       "    <tr>\n",
       "      <th>...</th>\n",
       "      <td>...</td>\n",
       "      <td>...</td>\n",
       "      <td>...</td>\n",
       "      <td>...</td>\n",
       "      <td>...</td>\n",
       "    </tr>\n",
       "    <tr>\n",
       "      <th>10678</th>\n",
       "      <td>September</td>\n",
       "      <td>2019</td>\n",
       "      <td>Wednesday</td>\n",
       "      <td>4107</td>\n",
       "      <td>weekday</td>\n",
       "    </tr>\n",
       "    <tr>\n",
       "      <th>10679</th>\n",
       "      <td>April</td>\n",
       "      <td>2019</td>\n",
       "      <td>Saturday</td>\n",
       "      <td>4145</td>\n",
       "      <td>weekend</td>\n",
       "    </tr>\n",
       "    <tr>\n",
       "      <th>10680</th>\n",
       "      <td>April</td>\n",
       "      <td>2019</td>\n",
       "      <td>Saturday</td>\n",
       "      <td>7229</td>\n",
       "      <td>weekend</td>\n",
       "    </tr>\n",
       "    <tr>\n",
       "      <th>10681</th>\n",
       "      <td>January</td>\n",
       "      <td>2019</td>\n",
       "      <td>Thursday</td>\n",
       "      <td>12648</td>\n",
       "      <td>weekday</td>\n",
       "    </tr>\n",
       "    <tr>\n",
       "      <th>10682</th>\n",
       "      <td>September</td>\n",
       "      <td>2019</td>\n",
       "      <td>Thursday</td>\n",
       "      <td>11753</td>\n",
       "      <td>weekday</td>\n",
       "    </tr>\n",
       "  </tbody>\n",
       "</table>\n",
       "<p>10682 rows × 5 columns</p>\n",
       "</div>"
      ],
      "text/plain": [
       "           month  year        day  Price type_of_day\n",
       "0          March  2019     Sunday   3897     weekend\n",
       "1        January  2019   Saturday   7662     weekend\n",
       "2      September  2019     Friday  13882     weekday\n",
       "3       December  2019   Thursday   6218     weekday\n",
       "4        January  2019   Thursday  13302     weekday\n",
       "...          ...   ...        ...    ...         ...\n",
       "10678  September  2019  Wednesday   4107     weekday\n",
       "10679      April  2019   Saturday   4145     weekend\n",
       "10680      April  2019   Saturday   7229     weekend\n",
       "10681    January  2019   Thursday  12648     weekday\n",
       "10682  September  2019   Thursday  11753     weekday\n",
       "\n",
       "[10682 rows x 5 columns]"
      ]
     },
     "execution_count": 34,
     "metadata": {},
     "output_type": "execute_result"
    }
   ],
   "source": [
    "Date_of_Journey_dates['type_of_day']=np.where((Date_of_Journey_dates['day']=='Sunday')|(Date_of_Journey_dates['day']=='Saturday'),'weekend','weekday')\n",
    "Date_of_Journey_dates"
   ]
  },
  {
   "cell_type": "code",
   "execution_count": 35,
   "metadata": {},
   "outputs": [
    {
     "data": {
      "image/png": "[encoded data removed]",
      "text/plain": [
       "<Figure size 432x288 with 1 Axes>"
      ]
     },
     "metadata": {
      "needs_background": "light"
     },
     "output_type": "display_data"
    }
   ],
   "source": [
    "sns.barplot(x='type_of_day',y='Price',data=Date_of_Journey_dates)\n",
    "plt.show()\n",
    "# we can see price is NOT varrying on weekends oe weekdays "
   ]
  },
  {
   "cell_type": "code",
   "execution_count": 36,
   "metadata": {},
   "outputs": [
    {
     "data": {
      "image/png": "[encoded data removed]",
      "text/plain": [
       "<Figure size 432x288 with 1 Axes>"
      ]
     },
     "metadata": {
      "needs_background": "light"
     },
     "output_type": "display_data"
    }
   ],
   "source": [
    "sns.barplot(x='day',y='Price',data=Date_of_Journey_dates)\n",
    "plt.show()\n",
    "# We can see Sunday, Monday & Thursday prices are higher than other days of the week "
   ]
  },
  {
   "cell_type": "code",
   "execution_count": 37,
   "metadata": {},
   "outputs": [
    {
     "data": {
      "image/png": "[encoded data removed]",
      "text/plain": [
       "<Figure size 432x288 with 1 Axes>"
      ]
     },
     "metadata": {
      "needs_background": "light"
     },
     "output_type": "display_data"
    }
   ],
   "source": [
    "sns.barplot(x='month',y='Price',data=Date_of_Journey_dates)\n",
    "plt.show()\n",
    "# month of January reports highest prices for tickets & month of April reports the lowest."
   ]
  },
  {
   "cell_type": "code",
   "execution_count": 38,
   "metadata": {},
   "outputs": [
    {
     "data": {
      "text/html": [
       "<div>\n",
       "<style scoped>\n",
       "    .dataframe tbody tr th:only-of-type {\n",
       "        vertical-align: middle;\n",
       "    }\n",
       "\n",
       "    .dataframe tbody tr th {\n",
       "        vertical-align: top;\n",
       "    }\n",
       "\n",
       "    .dataframe thead th {\n",
       "        text-align: right;\n",
       "    }\n",
       "</style>\n",
       "<table border=\"1\" class=\"dataframe\">\n",
       "  <thead>\n",
       "    <tr style=\"text-align: right;\">\n",
       "      <th></th>\n",
       "      <th>Airline</th>\n",
       "      <th>Date_of_Journey</th>\n",
       "      <th>Source</th>\n",
       "      <th>Destination</th>\n",
       "      <th>Route</th>\n",
       "      <th>Dep_Time</th>\n",
       "      <th>Arrival_Time</th>\n",
       "      <th>Duration</th>\n",
       "      <th>Total_Stops</th>\n",
       "      <th>Additional_Info</th>\n",
       "      <th>Price</th>\n",
       "    </tr>\n",
       "  </thead>\n",
       "  <tbody>\n",
       "    <tr>\n",
       "      <th>0</th>\n",
       "      <td>3</td>\n",
       "      <td>2019-03-24</td>\n",
       "      <td>0</td>\n",
       "      <td>5</td>\n",
       "      <td>18</td>\n",
       "      <td>22:20</td>\n",
       "      <td>2020-03-22 01:10:00</td>\n",
       "      <td>2h 50m</td>\n",
       "      <td>4</td>\n",
       "      <td>8</td>\n",
       "      <td>3897</td>\n",
       "    </tr>\n",
       "    <tr>\n",
       "      <th>1</th>\n",
       "      <td>1</td>\n",
       "      <td>2019-01-05</td>\n",
       "      <td>3</td>\n",
       "      <td>0</td>\n",
       "      <td>84</td>\n",
       "      <td>05:50</td>\n",
       "      <td>2020-09-11 13:15:00</td>\n",
       "      <td>7h 25m</td>\n",
       "      <td>1</td>\n",
       "      <td>8</td>\n",
       "      <td>7662</td>\n",
       "    </tr>\n",
       "    <tr>\n",
       "      <th>2</th>\n",
       "      <td>4</td>\n",
       "      <td>2019-09-06</td>\n",
       "      <td>2</td>\n",
       "      <td>1</td>\n",
       "      <td>118</td>\n",
       "      <td>09:25</td>\n",
       "      <td>2020-06-10 04:25:00</td>\n",
       "      <td>19h</td>\n",
       "      <td>1</td>\n",
       "      <td>8</td>\n",
       "      <td>13882</td>\n",
       "    </tr>\n",
       "    <tr>\n",
       "      <th>3</th>\n",
       "      <td>3</td>\n",
       "      <td>2019-12-05</td>\n",
       "      <td>3</td>\n",
       "      <td>0</td>\n",
       "      <td>91</td>\n",
       "      <td>18:05</td>\n",
       "      <td>2020-09-11 23:30:00</td>\n",
       "      <td>5h 25m</td>\n",
       "      <td>0</td>\n",
       "      <td>8</td>\n",
       "      <td>6218</td>\n",
       "    </tr>\n",
       "    <tr>\n",
       "      <th>4</th>\n",
       "      <td>3</td>\n",
       "      <td>2019-01-03</td>\n",
       "      <td>0</td>\n",
       "      <td>5</td>\n",
       "      <td>29</td>\n",
       "      <td>16:50</td>\n",
       "      <td>2020-09-11 21:35:00</td>\n",
       "      <td>4h 45m</td>\n",
       "      <td>0</td>\n",
       "      <td>8</td>\n",
       "      <td>13302</td>\n",
       "    </tr>\n",
       "  </tbody>\n",
       "</table>\n",
       "</div>"
      ],
      "text/plain": [
       "   Airline Date_of_Journey  Source  Destination  Route Dep_Time  \\\n",
       "0        3      2019-03-24       0            5     18    22:20   \n",
       "1        1      2019-01-05       3            0     84    05:50   \n",
       "2        4      2019-09-06       2            1    118    09:25   \n",
       "3        3      2019-12-05       3            0     91    18:05   \n",
       "4        3      2019-01-03       0            5     29    16:50   \n",
       "\n",
       "         Arrival_Time Duration  Total_Stops  Additional_Info  Price  \n",
       "0 2020-03-22 01:10:00   2h 50m            4                8   3897  \n",
       "1 2020-09-11 13:15:00   7h 25m            1                8   7662  \n",
       "2 2020-06-10 04:25:00      19h            1                8  13882  \n",
       "3 2020-09-11 23:30:00   5h 25m            0                8   6218  \n",
       "4 2020-09-11 21:35:00   4h 45m            0                8  13302  "
      ]
     },
     "execution_count": 38,
     "metadata": {},
     "output_type": "execute_result"
    }
   ],
   "source": [
    "df1.head()"
   ]
  },
  {
   "cell_type": "code",
   "execution_count": 39,
   "metadata": {},
   "outputs": [
    {
     "data": {
      "text/html": [
       "<div>\n",
       "<style scoped>\n",
       "    .dataframe tbody tr th:only-of-type {\n",
       "        vertical-align: middle;\n",
       "    }\n",
       "\n",
       "    .dataframe tbody tr th {\n",
       "        vertical-align: top;\n",
       "    }\n",
       "\n",
       "    .dataframe thead th {\n",
       "        text-align: right;\n",
       "    }\n",
       "</style>\n",
       "<table border=\"1\" class=\"dataframe\">\n",
       "  <thead>\n",
       "    <tr style=\"text-align: right;\">\n",
       "      <th></th>\n",
       "      <th>month</th>\n",
       "      <th>year</th>\n",
       "      <th>day</th>\n",
       "      <th>Price</th>\n",
       "    </tr>\n",
       "  </thead>\n",
       "  <tbody>\n",
       "    <tr>\n",
       "      <th>0</th>\n",
       "      <td>March</td>\n",
       "      <td>2019</td>\n",
       "      <td>Sunday</td>\n",
       "      <td>3897</td>\n",
       "    </tr>\n",
       "    <tr>\n",
       "      <th>1</th>\n",
       "      <td>January</td>\n",
       "      <td>2019</td>\n",
       "      <td>Saturday</td>\n",
       "      <td>7662</td>\n",
       "    </tr>\n",
       "    <tr>\n",
       "      <th>2</th>\n",
       "      <td>September</td>\n",
       "      <td>2019</td>\n",
       "      <td>Friday</td>\n",
       "      <td>13882</td>\n",
       "    </tr>\n",
       "    <tr>\n",
       "      <th>3</th>\n",
       "      <td>December</td>\n",
       "      <td>2019</td>\n",
       "      <td>Thursday</td>\n",
       "      <td>6218</td>\n",
       "    </tr>\n",
       "    <tr>\n",
       "      <th>4</th>\n",
       "      <td>January</td>\n",
       "      <td>2019</td>\n",
       "      <td>Thursday</td>\n",
       "      <td>13302</td>\n",
       "    </tr>\n",
       "    <tr>\n",
       "      <th>...</th>\n",
       "      <td>...</td>\n",
       "      <td>...</td>\n",
       "      <td>...</td>\n",
       "      <td>...</td>\n",
       "    </tr>\n",
       "    <tr>\n",
       "      <th>10678</th>\n",
       "      <td>September</td>\n",
       "      <td>2019</td>\n",
       "      <td>Wednesday</td>\n",
       "      <td>4107</td>\n",
       "    </tr>\n",
       "    <tr>\n",
       "      <th>10679</th>\n",
       "      <td>April</td>\n",
       "      <td>2019</td>\n",
       "      <td>Saturday</td>\n",
       "      <td>4145</td>\n",
       "    </tr>\n",
       "    <tr>\n",
       "      <th>10680</th>\n",
       "      <td>April</td>\n",
       "      <td>2019</td>\n",
       "      <td>Saturday</td>\n",
       "      <td>7229</td>\n",
       "    </tr>\n",
       "    <tr>\n",
       "      <th>10681</th>\n",
       "      <td>January</td>\n",
       "      <td>2019</td>\n",
       "      <td>Thursday</td>\n",
       "      <td>12648</td>\n",
       "    </tr>\n",
       "    <tr>\n",
       "      <th>10682</th>\n",
       "      <td>September</td>\n",
       "      <td>2019</td>\n",
       "      <td>Thursday</td>\n",
       "      <td>11753</td>\n",
       "    </tr>\n",
       "  </tbody>\n",
       "</table>\n",
       "<p>10682 rows × 4 columns</p>\n",
       "</div>"
      ],
      "text/plain": [
       "           month  year        day  Price\n",
       "0          March  2019     Sunday   3897\n",
       "1        January  2019   Saturday   7662\n",
       "2      September  2019     Friday  13882\n",
       "3       December  2019   Thursday   6218\n",
       "4        January  2019   Thursday  13302\n",
       "...          ...   ...        ...    ...\n",
       "10678  September  2019  Wednesday   4107\n",
       "10679      April  2019   Saturday   4145\n",
       "10680      April  2019   Saturday   7229\n",
       "10681    January  2019   Thursday  12648\n",
       "10682  September  2019   Thursday  11753\n",
       "\n",
       "[10682 rows x 4 columns]"
      ]
     },
     "execution_count": 39,
     "metadata": {},
     "output_type": "execute_result"
    }
   ],
   "source": [
    "Arrival_Time_dates=pd.DataFrame()\n",
    "Arrival_Time_dates['month']=df1['Date_of_Journey'].dt.month_name()\n",
    "Arrival_Time_dates['year']=df1['Date_of_Journey'].dt.year\n",
    "Arrival_Time_dates['day']=df1['Date_of_Journey'].dt.day_name()\n",
    "Arrival_Time_dates['Price']=df1['Price']\n",
    "Arrival_Time_dates"
   ]
  },
  {
   "cell_type": "code",
   "execution_count": 40,
   "metadata": {},
   "outputs": [
    {
     "data": {
      "image/png": "[encoded data removed]",
      "text/plain": [
       "<Figure size 432x288 with 1 Axes>"
      ]
     },
     "metadata": {
      "needs_background": "light"
     },
     "output_type": "display_data"
    }
   ],
   "source": [
    "sns.barplot(x='day',y='Price',data=Arrival_Time_dates)\n",
    "plt.show()\n",
    "# we can observe similar patterns on arrival time-ticket price analysis too"
   ]
  },
  {
   "cell_type": "code",
   "execution_count": 41,
   "metadata": {},
   "outputs": [
    {
     "data": {
      "image/png": "[encoded data removed]",
      "text/plain": [
       "<Figure size 432x288 with 1 Axes>"
      ]
     },
     "metadata": {
      "needs_background": "light"
     },
     "output_type": "display_data"
    }
   ],
   "source": [
    "sns.barplot(x='month',y='Price',data=Arrival_Time_dates)\n",
    "plt.show()"
   ]
  },
  {
   "cell_type": "code",
   "execution_count": 42,
   "metadata": {},
   "outputs": [
    {
     "data": {
      "image/png": "[encoded data removed]",
      "text/plain": [
       "<Figure size 432x288 with 1 Axes>"
      ]
     },
     "metadata": {
      "needs_background": "light"
     },
     "output_type": "display_data"
    }
   ],
   "source": [
    "sns.barplot(x='Airline',y='Price',data=df1)\n",
    "plt.show() # Jet Airways Business reports to have the highest ticket price"
   ]
  },
  {
   "cell_type": "code",
   "execution_count": 43,
   "metadata": {},
   "outputs": [
    {
     "data": {
      "image/png": "[encoded data removed]",
      "text/plain": [
       "<Figure size 432x288 with 1 Axes>"
      ]
     },
     "metadata": {
      "needs_background": "light"
     },
     "output_type": "display_data"
    }
   ],
   "source": [
    "sns.barplot(x='Source',y='Price',data=df1)\n",
    "plt.show()\n",
    "# flights starting from chennai are having lowest ticket prices \n",
    "# flights starting from Delhi & Kolkata are having ticket prices on higher side"
   ]
  },
  {
   "cell_type": "code",
   "execution_count": 44,
   "metadata": {},
   "outputs": [
    {
     "data": {
      "image/png": "[encoded data removed]",
      "text/plain": [
       "<Figure size 432x288 with 1 Axes>"
      ]
     },
     "metadata": {
      "needs_background": "light"
     },
     "output_type": "display_data"
    }
   ],
   "source": [
    "sns.barplot(x='Destination',y='Price',data=df1)\n",
    "plt.show()\n",
    "# flights going to New Delhi are most expoensive among all estinations present in the datset while kolkata is the cheapest destination "
   ]
  },
  {
   "cell_type": "code",
   "execution_count": 45,
   "metadata": {},
   "outputs": [
    {
     "data": {
      "image/png": "[encoded data removed]",
      "text/plain": [
       "<Figure size 432x288 with 1 Axes>"
      ]
     },
     "metadata": {
      "needs_background": "light"
     },
     "output_type": "display_data"
    }
   ],
   "source": [
    "sns.barplot(x='Total_Stops',y='Price',data=df1)\n",
    "plt.show()\n",
    "# Non stop flights are the cheapest"
   ]
  },
  {
   "cell_type": "code",
   "execution_count": 46,
   "metadata": {},
   "outputs": [
    {
     "data": {
      "image/png": "[encoded data removed]",
      "text/plain": [
       "<Figure size 432x288 with 1 Axes>"
      ]
     },
     "metadata": {
      "needs_background": "light"
     },
     "output_type": "display_data"
    }
   ],
   "source": [
    "sns.barplot(x='Additional_Info',y='Price',data=df1)\n",
    "plt.show()\n",
    "# Business class passengers are paying the highest ticket prices \n",
    "# flights with 'no check-in baggage' facility is the cheapest"
   ]
  },
  {
   "cell_type": "code",
   "execution_count": 47,
   "metadata": {},
   "outputs": [
    {
     "data": {
      "image/png": "[encoded data removed]",
      "text/plain": [
       "<Figure size 432x288 with 1 Axes>"
      ]
     },
     "metadata": {
      "needs_background": "light"
     },
     "output_type": "display_data"
    }
   ],
   "source": [
    "sns.scatterplot(x='Duration',y='Price',data=df1)\n",
    "plt.show()"
   ]
  },
  {
   "cell_type": "code",
   "execution_count": 48,
   "metadata": {},
   "outputs": [
    {
     "data": {
      "text/plain": [
       "<matplotlib.axes._subplots.AxesSubplot at 0x150fc808508>"
      ]
     },
     "execution_count": 48,
     "metadata": {},
     "output_type": "execute_result"
    },
    {
     "data": {
      "image/png": "[encoded data removed]",
      "text/plain": [
       "<Figure size 432x288 with 1 Axes>"
      ]
     },
     "metadata": {
      "needs_background": "light"
     },
     "output_type": "display_data"
    }
   ],
   "source": [
    "df1['Price'].plot.box()\n",
    "## Checking box plot on range of ticketprices. It ranges between 5-1500 units on average \n",
    "## outliers are possibly ticket prices for business class passengers "
   ]
  },
  {
   "cell_type": "code",
   "execution_count": 49,
   "metadata": {},
   "outputs": [
    {
     "data": {
      "text/plain": [
       "Airline            0.731057\n",
       "Source            -0.424023\n",
       "Destination        1.244046\n",
       "Route             -0.501911\n",
       "Total_Stops        0.631532\n",
       "Additional_Info   -1.779689\n",
       "Price              1.812405\n",
       "dtype: float64"
      ]
     },
     "execution_count": 49,
     "metadata": {},
     "output_type": "execute_result"
    }
   ],
   "source": [
    "df1.skew()"
   ]
  },
  {
   "cell_type": "code",
   "execution_count": 50,
   "metadata": {},
   "outputs": [],
   "source": [
    "df1['Destination']=np.log1p(df1['Destination'])"
   ]
  },
  {
   "cell_type": "code",
   "execution_count": 51,
   "metadata": {},
   "outputs": [],
   "source": [
    "df1['Additional_Info']=np.cbrt(df1['Additional_Info'])"
   ]
  },
  {
   "cell_type": "code",
   "execution_count": 52,
   "metadata": {},
   "outputs": [
    {
     "data": {
      "text/plain": [
       "Airline            0.731057\n",
       "Source            -0.424023\n",
       "Destination        0.283053\n",
       "Route             -0.501911\n",
       "Total_Stops        0.631532\n",
       "Additional_Info   -5.525668\n",
       "Price              1.812405\n",
       "dtype: float64"
      ]
     },
     "execution_count": 52,
     "metadata": {},
     "output_type": "execute_result"
    }
   ],
   "source": [
    "df1.skew()"
   ]
  },
  {
   "cell_type": "code",
   "execution_count": 53,
   "metadata": {},
   "outputs": [
    {
     "data": {
      "text/plain": [
       "<matplotlib.axes._subplots.AxesSubplot at 0x150fc6c8888>"
      ]
     },
     "execution_count": 53,
     "metadata": {},
     "output_type": "execute_result"
    },
    {
     "data": {
      "image/png": "[encoded data removed]",
      "text/plain": [
       "<Figure size 864x576 with 2 Axes>"
      ]
     },
     "metadata": {
      "needs_background": "light"
     },
     "output_type": "display_data"
    }
   ],
   "source": [
    "plt.figure(figsize=(12,8))\n",
    "sns.heatmap(df1.corr(),cmap='Blues',annot=True)\n",
    "# Checking co-relation between all the attribute\n",
    "# number to total stops is having negative relation with ticket price"
   ]
  },
  {
   "cell_type": "code",
   "execution_count": 54,
   "metadata": {},
   "outputs": [],
   "source": [
    "df1n=df1.drop(['Date_of_Journey','Dep_Time','Arrival_Time','Duration'],axis=1)"
   ]
  },
  {
   "cell_type": "markdown",
   "metadata": {},
   "source": [
    "Cleaning the Dataset & handling Skewness"
   ]
  },
  {
   "cell_type": "code",
   "execution_count": 55,
   "metadata": {},
   "outputs": [
    {
     "name": "stdout",
     "output_type": "stream",
     "text": [
      "(array([  123,   396,   486,   510,   597,   628,   657,   785,   785,\n",
      "         826,   936,   946,   959,   975,  1043,  1196,  1246,  1341,\n",
      "        1424,  1466,  1478,  1629,  1654,  1785,  1918,  2055,  2079,\n",
      "        2099,  2108,  2405,  2481,  2495,  2495,  2556,  2556,  2618,\n",
      "        2635,  2693,  2924,  2924,  3032,  3032,  3111,  3111,  3257,\n",
      "        3400,  3535,  3700,  3700,  3788,  4012,  4521,  4521,  4676,\n",
      "        4829,  5013,  5013,  5136,  5372,  5372,  5439,  5628,  5662,\n",
      "        5701,  5710,  5719,  5738,  5745,  5856,  5986,  6024,  6314,\n",
      "        6336,  6407,  6576,  6576,  6588,  6605,  6991,  7351,  7356,\n",
      "        7377,  7537,  7554,  7617,  7713,  7724,  7724,  7756,  7902,\n",
      "        8020,  8080,  8451,  8470,  8536,  8598,  8856,  8940,  8957,\n",
      "        8957,  8990,  9019,  9019,  9192,  9238,  9631,  9656,  9714,\n",
      "        9973, 10051, 10112, 10159, 10181, 10188, 10352, 10363, 10363,\n",
      "       10382, 10438, 10510, 10510], dtype=int64), array([6, 6, 6, 6, 6, 6, 6, 5, 6, 6, 6, 6, 6, 6, 5, 6, 6, 6, 6, 6, 6, 6,\n",
      "       6, 6, 6, 6, 5, 6, 6, 5, 5, 5, 6, 5, 6, 6, 6, 6, 5, 6, 5, 6, 5, 6,\n",
      "       6, 6, 6, 5, 6, 5, 6, 5, 6, 6, 6, 5, 6, 6, 5, 6, 6, 5, 6, 6, 6, 6,\n",
      "       6, 6, 6, 6, 5, 6, 5, 6, 5, 6, 6, 6, 6, 6, 6, 6, 6, 6, 6, 6, 5, 6,\n",
      "       6, 6, 6, 6, 6, 6, 6, 6, 6, 6, 5, 6, 6, 5, 6, 6, 6, 6, 5, 6, 6, 6,\n",
      "       6, 6, 6, 6, 6, 5, 6, 6, 6, 5, 6], dtype=int64))\n"
     ]
    }
   ],
   "source": [
    "z=np.abs(zscore(df1n))\n",
    "print(np.where(z>3))"
   ]
  },
  {
   "cell_type": "code",
   "execution_count": 56,
   "metadata": {},
   "outputs": [
    {
     "data": {
      "text/plain": [
       "(10577, 7)"
      ]
     },
     "execution_count": 56,
     "metadata": {},
     "output_type": "execute_result"
    }
   ],
   "source": [
    "df1new=df1n[(z<3).all(axis=1)]\n",
    "df1new.shape"
   ]
  },
  {
   "cell_type": "code",
   "execution_count": 57,
   "metadata": {},
   "outputs": [
    {
     "data": {
      "text/plain": [
       "Airline            0.731671\n",
       "Source            -0.439175\n",
       "Destination        0.284917\n",
       "Route             -0.511212\n",
       "Total_Stops        0.618057\n",
       "Additional_Info   -1.545609\n",
       "Price              0.410987\n",
       "dtype: float64"
      ]
     },
     "execution_count": 57,
     "metadata": {},
     "output_type": "execute_result"
    }
   ],
   "source": [
    "df1new.skew()"
   ]
  },
  {
   "cell_type": "code",
   "execution_count": 58,
   "metadata": {},
   "outputs": [],
   "source": [
    "df1new['Additional_Info']=np.log1p(df1new['Additional_Info'])"
   ]
  },
  {
   "cell_type": "code",
   "execution_count": 59,
   "metadata": {},
   "outputs": [
    {
     "data": {
      "text/plain": [
       "Airline            0.731671\n",
       "Source            -0.439175\n",
       "Destination        0.284917\n",
       "Route             -0.511212\n",
       "Total_Stops        0.618057\n",
       "Additional_Info   -1.549516\n",
       "Price              0.410987\n",
       "dtype: float64"
      ]
     },
     "execution_count": 59,
     "metadata": {},
     "output_type": "execute_result"
    }
   ],
   "source": [
    "df1new.skew()"
   ]
  },
  {
   "cell_type": "code",
   "execution_count": 60,
   "metadata": {},
   "outputs": [],
   "source": [
    "df2n=df2.drop(['Date_of_Journey','Dep_Time','Arrival_Time','Duration'],axis=1)"
   ]
  },
  {
   "cell_type": "markdown",
   "metadata": {},
   "source": [
    "# Model Training "
   ]
  },
  {
   "cell_type": "code",
   "execution_count": null,
   "metadata": {
    "collapsed": true
   },
   "outputs": [],
   "source": [
    "x=df1new.iloc[:,0:-1]\n",
    "y=df1new.iloc[:,-1]\n",
    "x_testt=df2n"
   ]
  },
  {
   "cell_type": "code",
   "execution_count": 62,
   "metadata": {},
   "outputs": [
    {
     "data": {
      "text/plain": [
       "((10577, 6), (2671, 6), (10577,))"
      ]
     },
     "execution_count": 62,
     "metadata": {},
     "output_type": "execute_result"
    }
   ],
   "source": [
    "x.shape,x_testt.shape,y.shape"
   ]
  },
  {
   "cell_type": "code",
   "execution_count": 63,
   "metadata": {},
   "outputs": [],
   "source": [
    "sc=StandardScaler()\n",
    "x=sc.fit_transform(x)\n",
    "# Scalling the overfitting/underfitting of the model"
   ]
  },
  {
   "cell_type": "code",
   "execution_count": 64,
   "metadata": {},
   "outputs": [
    {
     "name": "stdout",
     "output_type": "stream",
     "text": [
      "accuracy score correspondng to random state 41 is: 0.3908507810555236\n",
      "accuracy score correspondng to random state 42 is: 0.39519155333094047\n",
      "accuracy score correspondng to random state 43 is: 0.38780694739022625\n",
      "accuracy score correspondng to random state 44 is: 0.39530353929868844\n",
      "accuracy score correspondng to random state 45 is: 0.4014618881204692\n",
      "accuracy score correspondng to random state 46 is: 0.39657224773175914\n",
      "accuracy score correspondng to random state 47 is: 0.39900729470100554\n",
      "accuracy score correspondng to random state 48 is: 0.39809170486986845\n",
      "accuracy score correspondng to random state 49 is: 0.3911764469460294\n",
      "accuracy score correspondng to random state 50 is: 0.39641958141241274\n",
      "accuracy score correspondng to random state 51 is: 0.3884324072577947\n",
      "accuracy score correspondng to random state 52 is: 0.40144391187764183\n",
      "accuracy score correspondng to random state 53 is: 0.4007386387789441\n",
      "accuracy score correspondng to random state 54 is: 0.3995697386453205\n",
      "accuracy score correspondng to random state 55 is: 0.40277418963912026\n",
      "accuracy score correspondng to random state 56 is: 0.4000507951714448\n",
      "accuracy score correspondng to random state 57 is: 0.3923222123088743\n",
      "accuracy score correspondng to random state 58 is: 0.3954029787171429\n",
      "accuracy score correspondng to random state 59 is: 0.39362605431091924\n",
      "accuracy score correspondng to random state 60 is: 0.3959401562337057\n",
      "accuracy score correspondng to random state 61 is: 0.3964088250921092\n",
      "accuracy score correspondng to random state 62 is: 0.3946705516303665\n",
      "accuracy score correspondng to random state 63 is: 0.3987693091969484\n",
      "accuracy score correspondng to random state 64 is: 0.39560372346846007\n",
      "accuracy score correspondng to random state 65 is: 0.4001489815044822\n",
      "accuracy score correspondng to random state 66 is: 0.39647591540591004\n",
      "accuracy score correspondng to random state 67 is: 0.3999317054683712\n",
      "accuracy score correspondng to random state 68 is: 0.3940738680535982\n",
      "accuracy score correspondng to random state 69 is: 0.39073508674653923\n",
      "accuracy score correspondng to random state 70 is: 0.39471393993714066\n",
      "accuracy score correspondng to random state 71 is: 0.393958746543687\n",
      "accuracy score correspondng to random state 72 is: 0.40064950092352636\n",
      "accuracy score correspondng to random state 73 is: 0.3899129778370274\n",
      "accuracy score correspondng to random state 74 is: 0.39234017854066705\n",
      "accuracy score correspondng to random state 75 is: 0.39828927181218743\n",
      "accuracy score correspondng to random state 76 is: 0.3997423060746198\n",
      "accuracy score correspondng to random state 77 is: 0.40264463552066865\n",
      "accuracy score correspondng to random state 78 is: 0.3888995487229366\n",
      "accuracy score correspondng to random state 79 is: 0.3952514451046316\n",
      "accuracy score correspondng to random state 80 is: 0.3981959880172202\n",
      "accuracy score correspondng to random state 81 is: 0.3980001159197468\n",
      "accuracy score correspondng to random state 82 is: 0.3983289026915128\n",
      "accuracy score correspondng to random state 83 is: 0.3934660879420522\n",
      "accuracy score correspondng to random state 84 is: 0.39485484454025993\n",
      "accuracy score correspondng to random state 85 is: 0.39533336290125687\n",
      "accuracy score correspondng to random state 86 is: 0.38851509906955073\n",
      "accuracy score correspondng to random state 87 is: 0.39842597728258067\n",
      "accuracy score correspondng to random state 88 is: 0.3963347723447445\n",
      "accuracy score correspondng to random state 89 is: 0.3930832931423156\n",
      "accuracy score correspondng to random state 90 is: 0.3978466027539639\n",
      "accuracy score correspondng to random state 91 is: 0.39359097119298025\n",
      "accuracy score correspondng to random state 92 is: 0.3948869060656247\n",
      "accuracy score correspondng to random state 93 is: 0.40124612190000786\n",
      "accuracy score correspondng to random state 94 is: 0.3939561272755787\n",
      "accuracy score correspondng to random state 95 is: 0.390599060388918\n",
      "accuracy score correspondng to random state 96 is: 0.3997323314411467\n",
      "accuracy score correspondng to random state 97 is: 0.3992014180733518\n",
      "accuracy score correspondng to random state 98 is: 0.39831525485259245\n",
      "accuracy score correspondng to random state 99 is: 0.3942949535264555\n",
      "\n",
      "maximum score corresponding to random state 55 is 0.40277418963912026\n"
     ]
    }
   ],
   "source": [
    "maxr=0\n",
    "for i in range(41,100):\n",
    "    x_train,x_test,y_train,y_test=train_test_split(x,y,random_state=i,test_size=0.3)\n",
    "    lm=LinearRegression(normalize=True)\n",
    "    lm.fit(x_train,y_train)\n",
    "    pred=lm.predict(x_test)\n",
    "    score=lm.score(x_train,y_train)\n",
    "    print('accuracy score correspondng to random state',i,'is:',score)\n",
    "    if score>maxr:\n",
    "        maxr=score\n",
    "        finalr=i\n",
    "print()\n",
    "print('maximum score corresponding to random state',finalr,'is',maxr)"
   ]
  },
  {
   "cell_type": "code",
   "execution_count": 65,
   "metadata": {},
   "outputs": [],
   "source": [
    "x_train,x_test,y_train,y_test=train_test_split(x,y,random_state=55,test_size=0.3)"
   ]
  },
  {
   "cell_type": "code",
   "execution_count": 66,
   "metadata": {},
   "outputs": [
    {
     "data": {
      "text/plain": [
       "LinearRegression(copy_X=True, fit_intercept=True, n_jobs=None, normalize=True)"
      ]
     },
     "execution_count": 66,
     "metadata": {},
     "output_type": "execute_result"
    }
   ],
   "source": [
    "lm.fit(x_train,y_train)"
   ]
  },
  {
   "cell_type": "code",
   "execution_count": 67,
   "metadata": {},
   "outputs": [
    {
     "name": "stdout",
     "output_type": "stream",
     "text": [
      "score: 0.40277418963912026\n"
     ]
    }
   ],
   "source": [
    "print('score:',lm.score(x_train,y_train))"
   ]
  },
  {
   "cell_type": "code",
   "execution_count": 68,
   "metadata": {},
   "outputs": [
    {
     "name": "stdout",
     "output_type": "stream",
     "text": [
      "GridSearchCV(cv=None, error_score=nan,\n",
      "             estimator=Lasso(alpha=1.0, copy_X=True, fit_intercept=True,\n",
      "                             max_iter=1000, normalize=False, positive=False,\n",
      "                             precompute=False, random_state=None,\n",
      "                             selection='cyclic', tol=0.0001, warm_start=False),\n",
      "             iid='deprecated', n_jobs=None,\n",
      "             param_grid={'alpha': [1.0, 0.1, 0.01, 0.001, 0]},\n",
      "             pre_dispatch='2*n_jobs', refit=True, return_train_score=False,\n",
      "             scoring=None, verbose=0)\n",
      "0.40152426572334504\n",
      "{'alpha': 1.0}\n"
     ]
    }
   ],
   "source": [
    "ls=Lasso()\n",
    "alphavalue={'alpha':[1.0,0.1,0.01,0.001,0]}\n",
    "grid=GridSearchCV(ls,param_grid=alphavalue)\n",
    "grid.fit(x_train,y_train)\n",
    "print(grid)\n",
    "print(grid.best_score_)\n",
    "print(grid.best_params_)"
   ]
  },
  {
   "cell_type": "code",
   "execution_count": 69,
   "metadata": {},
   "outputs": [
    {
     "data": {
      "text/plain": [
       "Lasso(alpha=1.0, copy_X=True, fit_intercept=True, max_iter=1000,\n",
       "      normalize=False, positive=False, precompute=False, random_state=None,\n",
       "      selection='cyclic', tol=0.0001, warm_start=False)"
      ]
     },
     "execution_count": 69,
     "metadata": {},
     "output_type": "execute_result"
    }
   ],
   "source": [
    "ls=Lasso(alpha=1.0)\n",
    "ls.fit(x_train,y_train)"
   ]
  },
  {
   "cell_type": "code",
   "execution_count": 70,
   "metadata": {},
   "outputs": [
    {
     "data": {
      "text/plain": [
       "0.4027737381851394"
      ]
     },
     "execution_count": 70,
     "metadata": {},
     "output_type": "execute_result"
    }
   ],
   "source": [
    "ls.score(x_train,y_train)"
   ]
  },
  {
   "cell_type": "code",
   "execution_count": 71,
   "metadata": {},
   "outputs": [
    {
     "name": "stdout",
     "output_type": "stream",
     "text": [
      "GridSearchCV(cv=None, error_score=nan,\n",
      "             estimator=ElasticNet(alpha=1.0, copy_X=True, fit_intercept=True,\n",
      "                                  l1_ratio=0.5, max_iter=1000, normalize=False,\n",
      "                                  positive=False, precompute=False,\n",
      "                                  random_state=None, selection='cyclic',\n",
      "                                  tol=0.0001, warm_start=False),\n",
      "             iid='deprecated', n_jobs=None,\n",
      "             param_grid={'alpha': [1.0, 0.1, 0.01, 0.001, 0]},\n",
      "             pre_dispatch='2*n_jobs', refit=True, return_train_score=False,\n",
      "             scoring=None, verbose=0)\n",
      "0.4015181157950498\n",
      "{'alpha': 0}\n"
     ]
    }
   ],
   "source": [
    "el=ElasticNet()\n",
    "alphavalue={'alpha':[1.0,0.1,0.01,0.001,0]}\n",
    "grid=GridSearchCV(el,param_grid=alphavalue)\n",
    "grid.fit(x_train,y_train)\n",
    "print(grid)\n",
    "print(grid.best_score_)\n",
    "print(grid.best_params_)"
   ]
  },
  {
   "cell_type": "code",
   "execution_count": 72,
   "metadata": {},
   "outputs": [
    {
     "data": {
      "text/plain": [
       "ElasticNet(alpha=0, copy_X=True, fit_intercept=True, l1_ratio=0.5,\n",
       "           max_iter=1000, normalize=False, positive=False, precompute=False,\n",
       "           random_state=None, selection='cyclic', tol=0.0001, warm_start=False)"
      ]
     },
     "execution_count": 72,
     "metadata": {},
     "output_type": "execute_result"
    }
   ],
   "source": [
    "el=ElasticNet(alpha=0)\n",
    "el.fit(x_train,y_train)"
   ]
  },
  {
   "cell_type": "code",
   "execution_count": 73,
   "metadata": {},
   "outputs": [
    {
     "data": {
      "text/plain": [
       "0.40277418963912026"
      ]
     },
     "execution_count": 73,
     "metadata": {},
     "output_type": "execute_result"
    }
   ],
   "source": [
    "el.score(x_train,y_train)"
   ]
  },
  {
   "cell_type": "code",
   "execution_count": 74,
   "metadata": {},
   "outputs": [
    {
     "name": "stdout",
     "output_type": "stream",
     "text": [
      "0.3321637313524013\n"
     ]
    }
   ],
   "source": [
    "svr=SVR(kernel='linear')\n",
    "svr.fit(x_train,y_train)\n",
    "scoresvr=svr.score(x_train,y_train)\n",
    "predsvr=svr.predict(x_testt)\n",
    "print(scoresvr)"
   ]
  },
  {
   "cell_type": "code",
   "execution_count": null,
   "metadata": {},
   "outputs": [],
   "source": [
    "# None of the above algorithms are poviding good enough score \n",
    "# so lets use ensemble techniques to boost the score "
   ]
  },
  {
   "cell_type": "code",
   "execution_count": 75,
   "metadata": {},
   "outputs": [],
   "source": [
    "rf=RandomForestRegressor(n_estimators=400,random_state=60)"
   ]
  },
  {
   "cell_type": "code",
   "execution_count": 76,
   "metadata": {},
   "outputs": [
    {
     "name": "stdout",
     "output_type": "stream",
     "text": [
      "0.7963541323085803\n"
     ]
    }
   ],
   "source": [
    "rf.fit(x_train,y_train)\n",
    "predr=rf.predict(x_test)\n",
    "print(rf.score(x_train,y_train))\n",
    "# used ensemble technique to achieve better score"
   ]
  },
  {
   "cell_type": "code",
   "execution_count": 77,
   "metadata": {},
   "outputs": [],
   "source": [
    "x_testt=sc.fit_transform(x_testt)"
   ]
  },
  {
   "cell_type": "code",
   "execution_count": 78,
   "metadata": {},
   "outputs": [
    {
     "data": {
      "text/plain": [
       "array([15112.64976284,  4881.05791302, 10596.62298969, ...,\n",
       "       15112.64976284,  9545.1082988 , 10944.51839726])"
      ]
     },
     "execution_count": 78,
     "metadata": {},
     "output_type": "execute_result"
    }
   ],
   "source": [
    "predict=rf.predict(x_testt)\n",
    "predict"
   ]
  },
  {
   "cell_type": "markdown",
   "metadata": {},
   "source": [
    "Saving the Model "
   ]
  },
  {
   "cell_type": "code",
   "execution_count": 80,
   "metadata": {},
   "outputs": [
    {
     "data": {
      "text/plain": [
       "['rfticketprice.obj']"
      ]
     },
     "execution_count": 80,
     "metadata": {},
     "output_type": "execute_result"
    }
   ],
   "source": [
    "joblib.dump(rf,'rfticketprice.obj')"
   ]
  },
  {
   "cell_type": "code",
   "execution_count": null,
   "metadata": {},
   "outputs": [],
   "source": []
  }
 ],
 "metadata": {
  "kernelspec": {
   "display_name": "Python 3",
   "language": "python",
   "name": "python3"
  },
  "language_info": {
   "codemirror_mode": {
    "name": "ipython",
    "version": 3
   },
   "file_extension": ".py",
   "mimetype": "text/x-python",
   "name": "python",
   "nbconvert_exporter": "python",
   "pygments_lexer": "ipython3",
   "version": "3.7.6"
  }
 },
 "nbformat": 4,
 "nbformat_minor": 4
}
