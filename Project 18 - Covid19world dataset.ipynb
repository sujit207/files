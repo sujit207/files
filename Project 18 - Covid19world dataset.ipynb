{
 "cells": [
  {
   "cell_type": "markdown",
   "metadata": {},
   "source": [
    "# Country_wide_COVID 19_Datasets ( Dynbamics Project M20 -18)"
   ]
  },
  {
   "cell_type": "code",
   "execution_count": 1,
   "metadata": {},
   "outputs": [
    {
     "name": "stderr",
     "output_type": "stream",
     "text": [
      "C:\\Users\\arkay\\anaconda3\\lib\\site-packages\\sklearn\\externals\\joblib\\__init__.py:15: FutureWarning: sklearn.externals.joblib is deprecated in 0.21 and will be removed in 0.23. Please import this functionality directly from joblib, which can be installed with: pip install joblib. If this warning is raised when loading pickled models, you may need to re-serialize those models with scikit-learn 0.21+.\n",
      "  warnings.warn(msg, category=FutureWarning)\n"
     ]
    }
   ],
   "source": [
    "import numpy as np\n",
    "import pandas as pd\n",
    "import seaborn as sns\n",
    "import sklearn\n",
    "import matplotlib.pyplot as plt\n",
    "import scipy\n",
    "from scipy.stats import zscore\n",
    "from scipy.stats import boxcox\n",
    "from sklearn.linear_model import LinearRegression\n",
    "from sklearn.metrics import mean_squared_error,mean_absolute_error\n",
    "from sklearn.model_selection import train_test_split\n",
    "from sklearn.metrics import r2_score\n",
    "from sklearn.model_selection import cross_val_score\n",
    "from sklearn.linear_model import Lasso,Ridge\n",
    "from sklearn.linear_model import ElasticNet\n",
    "from sklearn.svm import SVR\n",
    "from sklearn.preprocessing import StandardScaler\n",
    "from sklearn.preprocessing import MinMaxScaler\n",
    "from sklearn.ensemble import RandomForestRegressor\n",
    "from sklearn.model_selection import GridSearchCV\n",
    "from sklearn.decomposition import PCA\n",
    "from sklearn.externals import joblib\n",
    "import warnings\n",
    "warnings.filterwarnings('ignore')"
   ]
  },
  {
   "cell_type": "code",
   "execution_count": 2,
   "metadata": {},
   "outputs": [],
   "source": [
    "data1=pd.read_csv('covidage.csv',)"
   ]
  },
  {
   "cell_type": "code",
   "execution_count": 3,
   "metadata": {},
   "outputs": [],
   "source": [
    "data2=pd.read_csv('covid19world.csv',parse_dates=['Date'])"
   ]
  },
  {
   "cell_type": "code",
   "execution_count": 4,
   "metadata": {},
   "outputs": [],
   "source": [
    "# The dataset contains data about the numbers of tests, cases, deaths, serious/critical cases, active cases and recovered cases in each country for every day since April 18,\n",
    "# It also contains the population of each country to calculate per-capita penetration of the virus\n",
    "# Additionally, an auxiliary table with information about the fraction of the general population at different age groups for every country is added (taken from Wikipedia).\n",
    "# This is specifically relevant since COVID-19 death rate is very much age dependent.\n",
    "# It's possible to use this dataset for various purposes and analyses\n",
    "# Our goal will be to use the additional data about the number of tests performed in each country to estimate the true death rate of COVID-19 and examine the relationship with age.\n"
   ]
  },
  {
   "cell_type": "code",
   "execution_count": 5,
   "metadata": {},
   "outputs": [
    {
     "data": {
      "text/html": [
       "<div>\n",
       "<style scoped>\n",
       "    .dataframe tbody tr th:only-of-type {\n",
       "        vertical-align: middle;\n",
       "    }\n",
       "\n",
       "    .dataframe tbody tr th {\n",
       "        vertical-align: top;\n",
       "    }\n",
       "\n",
       "    .dataframe thead th {\n",
       "        text-align: right;\n",
       "    }\n",
       "</style>\n",
       "<table border=\"1\" class=\"dataframe\">\n",
       "  <thead>\n",
       "    <tr style=\"text-align: right;\">\n",
       "      <th></th>\n",
       "      <th>Date</th>\n",
       "      <th>Country</th>\n",
       "      <th>Population</th>\n",
       "      <th>Total Tests</th>\n",
       "      <th>Total Cases</th>\n",
       "      <th>Total Deaths</th>\n",
       "      <th>Total Recovered</th>\n",
       "      <th>Serious or Critical</th>\n",
       "      <th>Active Cases</th>\n",
       "    </tr>\n",
       "  </thead>\n",
       "  <tbody>\n",
       "    <tr>\n",
       "      <th>0</th>\n",
       "      <td>2020-04-18</td>\n",
       "      <td>USA</td>\n",
       "      <td>330774664</td>\n",
       "      <td>3722145.0</td>\n",
       "      <td>738792.0</td>\n",
       "      <td>39014.0</td>\n",
       "      <td>68269.0</td>\n",
       "      <td>13551.0</td>\n",
       "      <td>631509.0</td>\n",
       "    </tr>\n",
       "    <tr>\n",
       "      <th>1</th>\n",
       "      <td>2020-04-18</td>\n",
       "      <td>Russia</td>\n",
       "      <td>145927292</td>\n",
       "      <td>1831892.0</td>\n",
       "      <td>36793.0</td>\n",
       "      <td>313.0</td>\n",
       "      <td>3057.0</td>\n",
       "      <td>8.0</td>\n",
       "      <td>33423.0</td>\n",
       "    </tr>\n",
       "    <tr>\n",
       "      <th>2</th>\n",
       "      <td>2020-04-18</td>\n",
       "      <td>Spain</td>\n",
       "      <td>46752703</td>\n",
       "      <td>930230.0</td>\n",
       "      <td>194416.0</td>\n",
       "      <td>20043.0</td>\n",
       "      <td>74797.0</td>\n",
       "      <td>7371.0</td>\n",
       "      <td>99576.0</td>\n",
       "    </tr>\n",
       "    <tr>\n",
       "      <th>3</th>\n",
       "      <td>2020-04-18</td>\n",
       "      <td>Brazil</td>\n",
       "      <td>212380932</td>\n",
       "      <td>62985.0</td>\n",
       "      <td>36722.0</td>\n",
       "      <td>2361.0</td>\n",
       "      <td>14026.0</td>\n",
       "      <td>6634.0</td>\n",
       "      <td>20335.0</td>\n",
       "    </tr>\n",
       "    <tr>\n",
       "      <th>4</th>\n",
       "      <td>2020-04-18</td>\n",
       "      <td>UK</td>\n",
       "      <td>67844241</td>\n",
       "      <td>460437.0</td>\n",
       "      <td>114217.0</td>\n",
       "      <td>15464.0</td>\n",
       "      <td>NaN</td>\n",
       "      <td>1559.0</td>\n",
       "      <td>98409.0</td>\n",
       "    </tr>\n",
       "  </tbody>\n",
       "</table>\n",
       "</div>"
      ],
      "text/plain": [
       "        Date Country  Population  Total Tests  Total Cases  Total Deaths  \\\n",
       "0 2020-04-18     USA   330774664    3722145.0     738792.0       39014.0   \n",
       "1 2020-04-18  Russia   145927292    1831892.0      36793.0         313.0   \n",
       "2 2020-04-18   Spain    46752703     930230.0     194416.0       20043.0   \n",
       "3 2020-04-18  Brazil   212380932      62985.0      36722.0        2361.0   \n",
       "4 2020-04-18      UK    67844241     460437.0     114217.0       15464.0   \n",
       "\n",
       "   Total Recovered  Serious or Critical  Active Cases  \n",
       "0          68269.0              13551.0      631509.0  \n",
       "1           3057.0                  8.0       33423.0  \n",
       "2          74797.0               7371.0       99576.0  \n",
       "3          14026.0               6634.0       20335.0  \n",
       "4              NaN               1559.0       98409.0  "
      ]
     },
     "execution_count": 5,
     "metadata": {},
     "output_type": "execute_result"
    }
   ],
   "source": [
    "df1=pd.DataFrame(data=data1)\n",
    "df2=pd.DataFrame(data=data2)\n",
    "df2.head()"
   ]
  },
  {
   "cell_type": "code",
   "execution_count": 6,
   "metadata": {},
   "outputs": [
    {
     "name": "stdout",
     "output_type": "stream",
     "text": [
      "<class 'pandas.core.frame.DataFrame'>\n",
      "RangeIndex: 6603 entries, 0 to 6602\n",
      "Data columns (total 9 columns):\n",
      " #   Column               Non-Null Count  Dtype         \n",
      "---  ------               --------------  -----         \n",
      " 0   Date                 6603 non-null   datetime64[ns]\n",
      " 1   Country              6603 non-null   object        \n",
      " 2   Population           6603 non-null   int64         \n",
      " 3   Total Tests          5505 non-null   float64       \n",
      " 4   Total Cases          6554 non-null   float64       \n",
      " 5   Total Deaths         5367 non-null   float64       \n",
      " 6   Total Recovered      6318 non-null   float64       \n",
      " 7   Serious or Critical  4117 non-null   float64       \n",
      " 8   Active Cases         6544 non-null   float64       \n",
      "dtypes: datetime64[ns](1), float64(6), int64(1), object(1)\n",
      "memory usage: 464.4+ KB\n"
     ]
    }
   ],
   "source": [
    "df2.info()\n",
    "# Null Values present in 'total tests','total cases','total recovered', 'serious or critical' & 'active cases'"
   ]
  },
  {
   "cell_type": "code",
   "execution_count": 7,
   "metadata": {},
   "outputs": [],
   "source": [
    "df2c=df2.copy()"
   ]
  },
  {
   "cell_type": "code",
   "execution_count": 8,
   "metadata": {},
   "outputs": [
    {
     "data": {
      "text/html": [
       "<div>\n",
       "<style scoped>\n",
       "    .dataframe tbody tr th:only-of-type {\n",
       "        vertical-align: middle;\n",
       "    }\n",
       "\n",
       "    .dataframe tbody tr th {\n",
       "        vertical-align: top;\n",
       "    }\n",
       "\n",
       "    .dataframe thead th {\n",
       "        text-align: right;\n",
       "    }\n",
       "</style>\n",
       "<table border=\"1\" class=\"dataframe\">\n",
       "  <thead>\n",
       "    <tr style=\"text-align: right;\">\n",
       "      <th></th>\n",
       "      <th>Date</th>\n",
       "      <th>Country</th>\n",
       "      <th>Population</th>\n",
       "      <th>Total Tests</th>\n",
       "      <th>Total Cases</th>\n",
       "      <th>Total Deaths</th>\n",
       "      <th>Total Recovered</th>\n",
       "      <th>Serious or Critical</th>\n",
       "      <th>Active Cases</th>\n",
       "    </tr>\n",
       "  </thead>\n",
       "  <tbody>\n",
       "    <tr>\n",
       "      <th>0</th>\n",
       "      <td>2020-04-18</td>\n",
       "      <td>USA</td>\n",
       "      <td>330774664</td>\n",
       "      <td>3722145.0</td>\n",
       "      <td>738792.0</td>\n",
       "      <td>39014.0</td>\n",
       "      <td>68269.0</td>\n",
       "      <td>13551.0</td>\n",
       "      <td>631509.0</td>\n",
       "    </tr>\n",
       "    <tr>\n",
       "      <th>1</th>\n",
       "      <td>2020-04-18</td>\n",
       "      <td>Russia</td>\n",
       "      <td>145927292</td>\n",
       "      <td>1831892.0</td>\n",
       "      <td>36793.0</td>\n",
       "      <td>313.0</td>\n",
       "      <td>3057.0</td>\n",
       "      <td>8.0</td>\n",
       "      <td>33423.0</td>\n",
       "    </tr>\n",
       "    <tr>\n",
       "      <th>2</th>\n",
       "      <td>2020-04-18</td>\n",
       "      <td>Spain</td>\n",
       "      <td>46752703</td>\n",
       "      <td>930230.0</td>\n",
       "      <td>194416.0</td>\n",
       "      <td>20043.0</td>\n",
       "      <td>74797.0</td>\n",
       "      <td>7371.0</td>\n",
       "      <td>99576.0</td>\n",
       "    </tr>\n",
       "    <tr>\n",
       "      <th>3</th>\n",
       "      <td>2020-04-18</td>\n",
       "      <td>Brazil</td>\n",
       "      <td>212380932</td>\n",
       "      <td>62985.0</td>\n",
       "      <td>36722.0</td>\n",
       "      <td>2361.0</td>\n",
       "      <td>14026.0</td>\n",
       "      <td>6634.0</td>\n",
       "      <td>20335.0</td>\n",
       "    </tr>\n",
       "    <tr>\n",
       "      <th>5</th>\n",
       "      <td>2020-04-18</td>\n",
       "      <td>Italy</td>\n",
       "      <td>60471924</td>\n",
       "      <td>1305833.0</td>\n",
       "      <td>175925.0</td>\n",
       "      <td>23227.0</td>\n",
       "      <td>44927.0</td>\n",
       "      <td>2733.0</td>\n",
       "      <td>107771.0</td>\n",
       "    </tr>\n",
       "    <tr>\n",
       "      <th>...</th>\n",
       "      <td>...</td>\n",
       "      <td>...</td>\n",
       "      <td>...</td>\n",
       "      <td>...</td>\n",
       "      <td>...</td>\n",
       "      <td>...</td>\n",
       "      <td>...</td>\n",
       "      <td>...</td>\n",
       "      <td>...</td>\n",
       "    </tr>\n",
       "    <tr>\n",
       "      <th>6554</th>\n",
       "      <td>2020-05-18</td>\n",
       "      <td>Bahamas</td>\n",
       "      <td>392795</td>\n",
       "      <td>1826.0</td>\n",
       "      <td>96.0</td>\n",
       "      <td>11.0</td>\n",
       "      <td>43.0</td>\n",
       "      <td>1.0</td>\n",
       "      <td>42.0</td>\n",
       "    </tr>\n",
       "    <tr>\n",
       "      <th>6556</th>\n",
       "      <td>2020-05-18</td>\n",
       "      <td>Barbados</td>\n",
       "      <td>287335</td>\n",
       "      <td>4004.0</td>\n",
       "      <td>88.0</td>\n",
       "      <td>7.0</td>\n",
       "      <td>68.0</td>\n",
       "      <td>4.0</td>\n",
       "      <td>13.0</td>\n",
       "    </tr>\n",
       "    <tr>\n",
       "      <th>6559</th>\n",
       "      <td>2020-05-18</td>\n",
       "      <td>Sint Maarten</td>\n",
       "      <td>42817</td>\n",
       "      <td>414.0</td>\n",
       "      <td>77.0</td>\n",
       "      <td>15.0</td>\n",
       "      <td>54.0</td>\n",
       "      <td>7.0</td>\n",
       "      <td>8.0</td>\n",
       "    </tr>\n",
       "    <tr>\n",
       "      <th>6560</th>\n",
       "      <td>2020-05-18</td>\n",
       "      <td>Malawi</td>\n",
       "      <td>19066433</td>\n",
       "      <td>1803.0</td>\n",
       "      <td>70.0</td>\n",
       "      <td>3.0</td>\n",
       "      <td>27.0</td>\n",
       "      <td>1.0</td>\n",
       "      <td>40.0</td>\n",
       "    </tr>\n",
       "    <tr>\n",
       "      <th>6571</th>\n",
       "      <td>2020-05-18</td>\n",
       "      <td>Antigua and Barbuda</td>\n",
       "      <td>97833</td>\n",
       "      <td>183.0</td>\n",
       "      <td>25.0</td>\n",
       "      <td>3.0</td>\n",
       "      <td>19.0</td>\n",
       "      <td>1.0</td>\n",
       "      <td>3.0</td>\n",
       "    </tr>\n",
       "  </tbody>\n",
       "</table>\n",
       "<p>3514 rows × 9 columns</p>\n",
       "</div>"
      ],
      "text/plain": [
       "           Date              Country  Population  Total Tests  Total Cases  \\\n",
       "0    2020-04-18                  USA   330774664    3722145.0     738792.0   \n",
       "1    2020-04-18               Russia   145927292    1831892.0      36793.0   \n",
       "2    2020-04-18                Spain    46752703     930230.0     194416.0   \n",
       "3    2020-04-18               Brazil   212380932      62985.0      36722.0   \n",
       "5    2020-04-18                Italy    60471924    1305833.0     175925.0   \n",
       "...         ...                  ...         ...          ...          ...   \n",
       "6554 2020-05-18              Bahamas      392795       1826.0         96.0   \n",
       "6556 2020-05-18             Barbados      287335       4004.0         88.0   \n",
       "6559 2020-05-18         Sint Maarten       42817        414.0         77.0   \n",
       "6560 2020-05-18               Malawi    19066433       1803.0         70.0   \n",
       "6571 2020-05-18  Antigua and Barbuda       97833        183.0         25.0   \n",
       "\n",
       "      Total Deaths  Total Recovered  Serious or Critical  Active Cases  \n",
       "0          39014.0          68269.0              13551.0      631509.0  \n",
       "1            313.0           3057.0                  8.0       33423.0  \n",
       "2          20043.0          74797.0               7371.0       99576.0  \n",
       "3           2361.0          14026.0               6634.0       20335.0  \n",
       "5          23227.0          44927.0               2733.0      107771.0  \n",
       "...            ...              ...                  ...           ...  \n",
       "6554          11.0             43.0                  1.0          42.0  \n",
       "6556           7.0             68.0                  4.0          13.0  \n",
       "6559          15.0             54.0                  7.0           8.0  \n",
       "6560           3.0             27.0                  1.0          40.0  \n",
       "6571           3.0             19.0                  1.0           3.0  \n",
       "\n",
       "[3514 rows x 9 columns]"
      ]
     },
     "execution_count": 8,
     "metadata": {},
     "output_type": "execute_result"
    }
   ],
   "source": [
    "df2c1=df2c.dropna(axis=0)\n",
    "df2c1"
   ]
  },
  {
   "cell_type": "code",
   "execution_count": 9,
   "metadata": {},
   "outputs": [
    {
     "data": {
      "text/html": [
       "<div>\n",
       "<style scoped>\n",
       "    .dataframe tbody tr th:only-of-type {\n",
       "        vertical-align: middle;\n",
       "    }\n",
       "\n",
       "    .dataframe tbody tr th {\n",
       "        vertical-align: top;\n",
       "    }\n",
       "\n",
       "    .dataframe thead th {\n",
       "        text-align: right;\n",
       "    }\n",
       "</style>\n",
       "<table border=\"1\" class=\"dataframe\">\n",
       "  <thead>\n",
       "    <tr style=\"text-align: right;\">\n",
       "      <th></th>\n",
       "      <th>month</th>\n",
       "      <th>year</th>\n",
       "      <th>day</th>\n",
       "      <th>Country</th>\n",
       "      <th>Total Tests</th>\n",
       "      <th>Total Cases</th>\n",
       "      <th>Total Deaths</th>\n",
       "      <th>Population</th>\n",
       "    </tr>\n",
       "  </thead>\n",
       "  <tbody>\n",
       "    <tr>\n",
       "      <th>0</th>\n",
       "      <td>April</td>\n",
       "      <td>2020</td>\n",
       "      <td>Saturday</td>\n",
       "      <td>USA</td>\n",
       "      <td>3722145.0</td>\n",
       "      <td>738792.0</td>\n",
       "      <td>39014.0</td>\n",
       "      <td>330774664</td>\n",
       "    </tr>\n",
       "    <tr>\n",
       "      <th>1</th>\n",
       "      <td>April</td>\n",
       "      <td>2020</td>\n",
       "      <td>Saturday</td>\n",
       "      <td>Russia</td>\n",
       "      <td>1831892.0</td>\n",
       "      <td>36793.0</td>\n",
       "      <td>313.0</td>\n",
       "      <td>145927292</td>\n",
       "    </tr>\n",
       "    <tr>\n",
       "      <th>2</th>\n",
       "      <td>April</td>\n",
       "      <td>2020</td>\n",
       "      <td>Saturday</td>\n",
       "      <td>Spain</td>\n",
       "      <td>930230.0</td>\n",
       "      <td>194416.0</td>\n",
       "      <td>20043.0</td>\n",
       "      <td>46752703</td>\n",
       "    </tr>\n",
       "    <tr>\n",
       "      <th>3</th>\n",
       "      <td>April</td>\n",
       "      <td>2020</td>\n",
       "      <td>Saturday</td>\n",
       "      <td>Brazil</td>\n",
       "      <td>62985.0</td>\n",
       "      <td>36722.0</td>\n",
       "      <td>2361.0</td>\n",
       "      <td>212380932</td>\n",
       "    </tr>\n",
       "    <tr>\n",
       "      <th>5</th>\n",
       "      <td>April</td>\n",
       "      <td>2020</td>\n",
       "      <td>Saturday</td>\n",
       "      <td>Italy</td>\n",
       "      <td>1305833.0</td>\n",
       "      <td>175925.0</td>\n",
       "      <td>23227.0</td>\n",
       "      <td>60471924</td>\n",
       "    </tr>\n",
       "    <tr>\n",
       "      <th>...</th>\n",
       "      <td>...</td>\n",
       "      <td>...</td>\n",
       "      <td>...</td>\n",
       "      <td>...</td>\n",
       "      <td>...</td>\n",
       "      <td>...</td>\n",
       "      <td>...</td>\n",
       "      <td>...</td>\n",
       "    </tr>\n",
       "    <tr>\n",
       "      <th>6554</th>\n",
       "      <td>May</td>\n",
       "      <td>2020</td>\n",
       "      <td>Monday</td>\n",
       "      <td>Bahamas</td>\n",
       "      <td>1826.0</td>\n",
       "      <td>96.0</td>\n",
       "      <td>11.0</td>\n",
       "      <td>392795</td>\n",
       "    </tr>\n",
       "    <tr>\n",
       "      <th>6556</th>\n",
       "      <td>May</td>\n",
       "      <td>2020</td>\n",
       "      <td>Monday</td>\n",
       "      <td>Barbados</td>\n",
       "      <td>4004.0</td>\n",
       "      <td>88.0</td>\n",
       "      <td>7.0</td>\n",
       "      <td>287335</td>\n",
       "    </tr>\n",
       "    <tr>\n",
       "      <th>6559</th>\n",
       "      <td>May</td>\n",
       "      <td>2020</td>\n",
       "      <td>Monday</td>\n",
       "      <td>Sint Maarten</td>\n",
       "      <td>414.0</td>\n",
       "      <td>77.0</td>\n",
       "      <td>15.0</td>\n",
       "      <td>42817</td>\n",
       "    </tr>\n",
       "    <tr>\n",
       "      <th>6560</th>\n",
       "      <td>May</td>\n",
       "      <td>2020</td>\n",
       "      <td>Monday</td>\n",
       "      <td>Malawi</td>\n",
       "      <td>1803.0</td>\n",
       "      <td>70.0</td>\n",
       "      <td>3.0</td>\n",
       "      <td>19066433</td>\n",
       "    </tr>\n",
       "    <tr>\n",
       "      <th>6571</th>\n",
       "      <td>May</td>\n",
       "      <td>2020</td>\n",
       "      <td>Monday</td>\n",
       "      <td>Antigua and Barbuda</td>\n",
       "      <td>183.0</td>\n",
       "      <td>25.0</td>\n",
       "      <td>3.0</td>\n",
       "      <td>97833</td>\n",
       "    </tr>\n",
       "  </tbody>\n",
       "</table>\n",
       "<p>3514 rows × 8 columns</p>\n",
       "</div>"
      ],
      "text/plain": [
       "      month  year       day              Country  Total Tests  Total Cases  \\\n",
       "0     April  2020  Saturday                  USA    3722145.0     738792.0   \n",
       "1     April  2020  Saturday               Russia    1831892.0      36793.0   \n",
       "2     April  2020  Saturday                Spain     930230.0     194416.0   \n",
       "3     April  2020  Saturday               Brazil      62985.0      36722.0   \n",
       "5     April  2020  Saturday                Italy    1305833.0     175925.0   \n",
       "...     ...   ...       ...                  ...          ...          ...   \n",
       "6554    May  2020    Monday              Bahamas       1826.0         96.0   \n",
       "6556    May  2020    Monday             Barbados       4004.0         88.0   \n",
       "6559    May  2020    Monday         Sint Maarten        414.0         77.0   \n",
       "6560    May  2020    Monday               Malawi       1803.0         70.0   \n",
       "6571    May  2020    Monday  Antigua and Barbuda        183.0         25.0   \n",
       "\n",
       "      Total Deaths  Population  \n",
       "0          39014.0   330774664  \n",
       "1            313.0   145927292  \n",
       "2          20043.0    46752703  \n",
       "3           2361.0   212380932  \n",
       "5          23227.0    60471924  \n",
       "...            ...         ...  \n",
       "6554          11.0      392795  \n",
       "6556           7.0      287335  \n",
       "6559          15.0       42817  \n",
       "6560           3.0    19066433  \n",
       "6571           3.0       97833  \n",
       "\n",
       "[3514 rows x 8 columns]"
      ]
     },
     "execution_count": 9,
     "metadata": {},
     "output_type": "execute_result"
    }
   ],
   "source": [
    "df2c1_dates=pd.DataFrame()\n",
    "df2c1_dates['month']=df2c1['Date'].dt.month_name()\n",
    "df2c1_dates['year']=df2c1['Date'].dt.year\n",
    "df2c1_dates['day']=df2c1['Date'].dt.day_name()\n",
    "df2c1_dates['Country']=df2c1['Country']\n",
    "df2c1_dates['Total Tests']=df2c1['Total Tests']\n",
    "df2c1_dates['Total Cases']=df2c1['Total Cases']\n",
    "df2c1_dates['Total Deaths']=df2c1['Total Deaths']\n",
    "df2c1_dates['Population']=df2c1['Population']\n",
    "                                  \n",
    "\n",
    "df2c1_dates"
   ]
  },
  {
   "cell_type": "code",
   "execution_count": 10,
   "metadata": {},
   "outputs": [
    {
     "data": {
      "text/plain": [
       "<matplotlib.axes._subplots.AxesSubplot at 0x1f5d4995348>"
      ]
     },
     "execution_count": 10,
     "metadata": {},
     "output_type": "execute_result"
    },
    {
     "data": {
      "image/png": "[encoded data removed]",
      "text/plain": [
       "<Figure size 432x288 with 1 Axes>"
      ]
     },
     "metadata": {
      "needs_background": "light"
     },
     "output_type": "display_data"
    }
   ],
   "source": [
    "sns.barplot(x='month',y='Total Tests',data=df2c1_dates)\n",
    "# so we can observe number of 'Total Test' have gone up "
   ]
  },
  {
   "cell_type": "code",
   "execution_count": 11,
   "metadata": {},
   "outputs": [
    {
     "data": {
      "text/plain": [
       "<matplotlib.axes._subplots.AxesSubplot at 0x1f5d518aa08>"
      ]
     },
     "execution_count": 11,
     "metadata": {},
     "output_type": "execute_result"
    },
    {
     "data": {
      "image/png": "[encoded data removed]",
      "text/plain": [
       "<Figure size 432x288 with 1 Axes>"
      ]
     },
     "metadata": {
      "needs_background": "light"
     },
     "output_type": "display_data"
    }
   ],
   "source": [
    "sns.barplot(x='month',y='Total Cases',data=df2c1_dates)\n",
    "# so we can observe number of 'Total cases' have gone up "
   ]
  },
  {
   "cell_type": "code",
   "execution_count": 12,
   "metadata": {},
   "outputs": [
    {
     "data": {
      "text/plain": [
       "<matplotlib.axes._subplots.AxesSubplot at 0x1f5d5197e08>"
      ]
     },
     "execution_count": 12,
     "metadata": {},
     "output_type": "execute_result"
    },
    {
     "data": {
      "image/png": "[encoded data removed]",
      "text/plain": [
       "<Figure size 432x288 with 1 Axes>"
      ]
     },
     "metadata": {
      "needs_background": "light"
     },
     "output_type": "display_data"
    }
   ],
   "source": [
    "sns.barplot(x='month',y='Total Deaths',data=df2c1_dates)\n",
    "# Unfortunately Number of fatality have also gone up "
   ]
  },
  {
   "cell_type": "markdown",
   "metadata": {},
   "source": [
    "# Country Wise - Death Ratio & Penetration Ratio"
   ]
  },
  {
   "cell_type": "code",
   "execution_count": 13,
   "metadata": {},
   "outputs": [
    {
     "name": "stdout",
     "output_type": "stream",
     "text": [
      "Death Ratio : 0.009062019223829177\n",
      "\n",
      "\n",
      "Penetration Ratio: 0.003529983569213929\n"
     ]
    }
   ],
   "source": [
    "df_country=df2c1[df2c1['Country']=='USA']\n",
    "ct=df_country['Total Tests'].sum()\n",
    "cd=df_country['Total Deaths'].sum()\n",
    "cs1=cd/ct\n",
    "print('Death Ratio :',cs1)\n",
    "print('\\n')\n",
    "\n",
    "# Using this formula we can calcualte the Death Ratio of any given country in the dataset\n",
    "\n",
    "cp=df_country['Population'].sum()\n",
    "cc=df_country['Total Cases'].sum()\n",
    "pr=cc/cp\n",
    "print('Penetration Ratio:',pr)\n",
    "\n",
    "# Using this formula we can calcualte the Penetration Ratio of any given country in the dataset\n"
   ]
  },
  {
   "cell_type": "markdown",
   "metadata": {},
   "source": [
    "# Month Wise - Death Ratio & Penetration Ratio"
   ]
  },
  {
   "cell_type": "code",
   "execution_count": 14,
   "metadata": {},
   "outputs": [
    {
     "name": "stdout",
     "output_type": "stream",
     "text": [
      "Monthy Death Ratio: 0.006907142237260684\n",
      "\n",
      "\n",
      "Monthly Penetration Ratio: 0.0007393796811850521\n"
     ]
    }
   ],
   "source": [
    "df_month=df2c1_dates[df2c1_dates['month']=='April']\n",
    "ct=df_month['Total Tests'].sum()\n",
    "cd=df_month['Total Deaths'].sum()\n",
    "dr=cd/ct\n",
    "print('Monthy Death Ratio:',dr)\n",
    "print('\\n')\n",
    "\n",
    "# Using this formula we can calcualte the Death Ratio of any given month in the dataset\n",
    "\n",
    "cp=df_month['Population'].sum()\n",
    "cc=df_month['Total Cases'].sum()\n",
    "pr=cc/cp\n",
    "print('Monthly Penetration Ratio:',pr)\n",
    "\n",
    "# Using this formula we can calcualte the Penetration Ratio of any given month in the dataset\n"
   ]
  },
  {
   "cell_type": "code",
   "execution_count": null,
   "metadata": {},
   "outputs": [],
   "source": []
  }
 ],
 "metadata": {
  "kernelspec": {
   "display_name": "Python 3",
   "language": "python",
   "name": "python3"
  },
  "language_info": {
   "codemirror_mode": {
    "name": "ipython",
    "version": 3
   },
   "file_extension": ".py",
   "mimetype": "text/x-python",
   "name": "python",
   "nbconvert_exporter": "python",
   "pygments_lexer": "ipython3",
   "version": "3.7.6"
  }
 },
 "nbformat": 4,
 "nbformat_minor": 4
}
