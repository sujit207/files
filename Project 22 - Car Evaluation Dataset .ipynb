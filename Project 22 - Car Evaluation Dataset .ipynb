{
 "cells": [
  {
   "cell_type": "markdown",
   "metadata": {},
   "source": [
    "# Car Evaluation Data Set (Dynamic Projects M20 - 22)"
   ]
  },
  {
   "cell_type": "code",
   "execution_count": 51,
   "metadata": {},
   "outputs": [],
   "source": [
    "import numpy as np\n",
    "import pandas as pd\n",
    "import seaborn as sns\n",
    "import sklearn\n",
    "import matplotlib.pyplot as plt\n",
    "import scipy\n",
    "from scipy.stats import zscore\n",
    "from sklearn.linear_model import LogisticRegression\n",
    "from sklearn.metrics import accuracy_score\n",
    "from sklearn.metrics import confusion_matrix,classification_report\n",
    "from sklearn.model_selection import train_test_split\n",
    "from sklearn.naive_bayes import MultinomialNB\n",
    "from sklearn.svm import SVC\n",
    "from sklearn.tree import DecisionTreeClassifier\n",
    "from sklearn.neighbors import KNeighborsClassifier\n",
    "from sklearn.preprocessing import LabelEncoder\n",
    "from sklearn.model_selection import cross_val_score\n",
    "from sklearn.model_selection import GridSearchCV\n",
    "from sklearn.externals import joblib\n",
    "from sklearn.metrics import roc_curve\n",
    "import matplotlib.pyplot as plt\n",
    "from sklearn.metrics import roc_auc_score\n",
    "import warnings\n",
    "warnings.filterwarnings('ignore')"
   ]
  },
  {
   "cell_type": "code",
   "execution_count": 52,
   "metadata": {},
   "outputs": [
    {
     "data": {
      "text/html": [
       "<div>\n",
       "<style scoped>\n",
       "    .dataframe tbody tr th:only-of-type {\n",
       "        vertical-align: middle;\n",
       "    }\n",
       "\n",
       "    .dataframe tbody tr th {\n",
       "        vertical-align: top;\n",
       "    }\n",
       "\n",
       "    .dataframe thead th {\n",
       "        text-align: right;\n",
       "    }\n",
       "</style>\n",
       "<table border=\"1\" class=\"dataframe\">\n",
       "  <thead>\n",
       "    <tr style=\"text-align: right;\">\n",
       "      <th></th>\n",
       "      <th>vhigh</th>\n",
       "      <th>vhigh.1</th>\n",
       "      <th>2</th>\n",
       "      <th>2.1</th>\n",
       "      <th>small</th>\n",
       "      <th>low</th>\n",
       "      <th>unacc</th>\n",
       "    </tr>\n",
       "  </thead>\n",
       "  <tbody>\n",
       "    <tr>\n",
       "      <th>0</th>\n",
       "      <td>vhigh</td>\n",
       "      <td>vhigh</td>\n",
       "      <td>2</td>\n",
       "      <td>2</td>\n",
       "      <td>small</td>\n",
       "      <td>med</td>\n",
       "      <td>unacc</td>\n",
       "    </tr>\n",
       "    <tr>\n",
       "      <th>1</th>\n",
       "      <td>vhigh</td>\n",
       "      <td>vhigh</td>\n",
       "      <td>2</td>\n",
       "      <td>2</td>\n",
       "      <td>small</td>\n",
       "      <td>high</td>\n",
       "      <td>unacc</td>\n",
       "    </tr>\n",
       "    <tr>\n",
       "      <th>2</th>\n",
       "      <td>vhigh</td>\n",
       "      <td>vhigh</td>\n",
       "      <td>2</td>\n",
       "      <td>2</td>\n",
       "      <td>med</td>\n",
       "      <td>low</td>\n",
       "      <td>unacc</td>\n",
       "    </tr>\n",
       "    <tr>\n",
       "      <th>3</th>\n",
       "      <td>vhigh</td>\n",
       "      <td>vhigh</td>\n",
       "      <td>2</td>\n",
       "      <td>2</td>\n",
       "      <td>med</td>\n",
       "      <td>med</td>\n",
       "      <td>unacc</td>\n",
       "    </tr>\n",
       "    <tr>\n",
       "      <th>4</th>\n",
       "      <td>vhigh</td>\n",
       "      <td>vhigh</td>\n",
       "      <td>2</td>\n",
       "      <td>2</td>\n",
       "      <td>med</td>\n",
       "      <td>high</td>\n",
       "      <td>unacc</td>\n",
       "    </tr>\n",
       "    <tr>\n",
       "      <th>...</th>\n",
       "      <td>...</td>\n",
       "      <td>...</td>\n",
       "      <td>...</td>\n",
       "      <td>...</td>\n",
       "      <td>...</td>\n",
       "      <td>...</td>\n",
       "      <td>...</td>\n",
       "    </tr>\n",
       "    <tr>\n",
       "      <th>1722</th>\n",
       "      <td>low</td>\n",
       "      <td>low</td>\n",
       "      <td>5more</td>\n",
       "      <td>more</td>\n",
       "      <td>med</td>\n",
       "      <td>med</td>\n",
       "      <td>good</td>\n",
       "    </tr>\n",
       "    <tr>\n",
       "      <th>1723</th>\n",
       "      <td>low</td>\n",
       "      <td>low</td>\n",
       "      <td>5more</td>\n",
       "      <td>more</td>\n",
       "      <td>med</td>\n",
       "      <td>high</td>\n",
       "      <td>vgood</td>\n",
       "    </tr>\n",
       "    <tr>\n",
       "      <th>1724</th>\n",
       "      <td>low</td>\n",
       "      <td>low</td>\n",
       "      <td>5more</td>\n",
       "      <td>more</td>\n",
       "      <td>big</td>\n",
       "      <td>low</td>\n",
       "      <td>unacc</td>\n",
       "    </tr>\n",
       "    <tr>\n",
       "      <th>1725</th>\n",
       "      <td>low</td>\n",
       "      <td>low</td>\n",
       "      <td>5more</td>\n",
       "      <td>more</td>\n",
       "      <td>big</td>\n",
       "      <td>med</td>\n",
       "      <td>good</td>\n",
       "    </tr>\n",
       "    <tr>\n",
       "      <th>1726</th>\n",
       "      <td>low</td>\n",
       "      <td>low</td>\n",
       "      <td>5more</td>\n",
       "      <td>more</td>\n",
       "      <td>big</td>\n",
       "      <td>high</td>\n",
       "      <td>vgood</td>\n",
       "    </tr>\n",
       "  </tbody>\n",
       "</table>\n",
       "<p>1727 rows × 7 columns</p>\n",
       "</div>"
      ],
      "text/plain": [
       "      vhigh vhigh.1      2   2.1  small   low  unacc\n",
       "0     vhigh   vhigh      2     2  small   med  unacc\n",
       "1     vhigh   vhigh      2     2  small  high  unacc\n",
       "2     vhigh   vhigh      2     2    med   low  unacc\n",
       "3     vhigh   vhigh      2     2    med   med  unacc\n",
       "4     vhigh   vhigh      2     2    med  high  unacc\n",
       "...     ...     ...    ...   ...    ...   ...    ...\n",
       "1722    low     low  5more  more    med   med   good\n",
       "1723    low     low  5more  more    med  high  vgood\n",
       "1724    low     low  5more  more    big   low  unacc\n",
       "1725    low     low  5more  more    big   med   good\n",
       "1726    low     low  5more  more    big  high  vgood\n",
       "\n",
       "[1727 rows x 7 columns]"
      ]
     },
     "execution_count": 52,
     "metadata": {},
     "output_type": "execute_result"
    }
   ],
   "source": [
    "data=pd.read_csv('car.csv')\n",
    "data\n",
    "# Car Evaluation Database was derived from a simple hierarchical decision model originally developed for the demonstration of DEX, M. Bohanec, V. Rajkovic: Expert system for decision making. Sistemica 1(1), pp. 145-157, 1990.). The model evaluates cars according to the following concept structure:\n",
    "\n",
    "#CAR car acceptability\n",
    "# PRICE overall price\n",
    "# buying buying price\n",
    "# maint price of the maintenance\n",
    "# TECH technical characteristics\n",
    "# COMFORT comfort\n",
    "# doors number of doors\n",
    "# persons capacity in terms of persons to carry\n",
    "# lug_boot the size of luggage boot\n",
    "# safety estimated safety of the car\n",
    "\n",
    "# Input attributes are printed in lowercase. Besides the target concept (CAR), the model includes three intermediate concepts: PRICE, TECH, COMFORT. Every concept is in the original model related to its lower level descendants by a set of examples (for these examples sets see [Web Link]).\n",
    "\n",
    "# The Car Evaluation Database contains examples with the structural information removed, i.e., directly relates CAR to the six input attributes: buying, maint, doors, persons, lug_boot, safety.\n",
    "\n",
    "# Because of known underlying concept structure, this database may be particularly useful for testing constructive induction and structure discovery methods.\n",
    "\n",
    "\n",
    "# Attribute Information:\n",
    "# CAR(Target): unacc, acc, good, vgood\n",
    "\n",
    "# Feature Attributes:\n",
    "\n",
    "# buying: vhigh, high, med, low.\n",
    "# maint: vhigh, high, med, low.\n",
    "# doors: 2, 3, 4, 5more.\n",
    "# persons: 2, 4, more.\n",
    "# lug_boot: small, med, big.\n",
    "# safety: low, med, high.\n"
   ]
  },
  {
   "cell_type": "code",
   "execution_count": 53,
   "metadata": {},
   "outputs": [],
   "source": [
    "df=pd.DataFrame(data=data)"
   ]
  },
  {
   "cell_type": "code",
   "execution_count": 54,
   "metadata": {},
   "outputs": [
    {
     "data": {
      "text/html": [
       "<div>\n",
       "<style scoped>\n",
       "    .dataframe tbody tr th:only-of-type {\n",
       "        vertical-align: middle;\n",
       "    }\n",
       "\n",
       "    .dataframe tbody tr th {\n",
       "        vertical-align: top;\n",
       "    }\n",
       "\n",
       "    .dataframe thead th {\n",
       "        text-align: right;\n",
       "    }\n",
       "</style>\n",
       "<table border=\"1\" class=\"dataframe\">\n",
       "  <thead>\n",
       "    <tr style=\"text-align: right;\">\n",
       "      <th></th>\n",
       "      <th>Buying</th>\n",
       "      <th>Maintainance</th>\n",
       "      <th>Doors</th>\n",
       "      <th>Persons</th>\n",
       "      <th>Lug_Boot</th>\n",
       "      <th>Safety</th>\n",
       "      <th>CAR</th>\n",
       "    </tr>\n",
       "  </thead>\n",
       "  <tbody>\n",
       "    <tr>\n",
       "      <th>0</th>\n",
       "      <td>vhigh</td>\n",
       "      <td>vhigh</td>\n",
       "      <td>2</td>\n",
       "      <td>2</td>\n",
       "      <td>small</td>\n",
       "      <td>med</td>\n",
       "      <td>unacc</td>\n",
       "    </tr>\n",
       "    <tr>\n",
       "      <th>1</th>\n",
       "      <td>vhigh</td>\n",
       "      <td>vhigh</td>\n",
       "      <td>2</td>\n",
       "      <td>2</td>\n",
       "      <td>small</td>\n",
       "      <td>high</td>\n",
       "      <td>unacc</td>\n",
       "    </tr>\n",
       "    <tr>\n",
       "      <th>2</th>\n",
       "      <td>vhigh</td>\n",
       "      <td>vhigh</td>\n",
       "      <td>2</td>\n",
       "      <td>2</td>\n",
       "      <td>med</td>\n",
       "      <td>low</td>\n",
       "      <td>unacc</td>\n",
       "    </tr>\n",
       "    <tr>\n",
       "      <th>3</th>\n",
       "      <td>vhigh</td>\n",
       "      <td>vhigh</td>\n",
       "      <td>2</td>\n",
       "      <td>2</td>\n",
       "      <td>med</td>\n",
       "      <td>med</td>\n",
       "      <td>unacc</td>\n",
       "    </tr>\n",
       "    <tr>\n",
       "      <th>4</th>\n",
       "      <td>vhigh</td>\n",
       "      <td>vhigh</td>\n",
       "      <td>2</td>\n",
       "      <td>2</td>\n",
       "      <td>med</td>\n",
       "      <td>high</td>\n",
       "      <td>unacc</td>\n",
       "    </tr>\n",
       "  </tbody>\n",
       "</table>\n",
       "</div>"
      ],
      "text/plain": [
       "  Buying Maintainance Doors Persons Lug_Boot Safety    CAR\n",
       "0  vhigh        vhigh     2       2    small    med  unacc\n",
       "1  vhigh        vhigh     2       2    small   high  unacc\n",
       "2  vhigh        vhigh     2       2      med    low  unacc\n",
       "3  vhigh        vhigh     2       2      med    med  unacc\n",
       "4  vhigh        vhigh     2       2      med   high  unacc"
      ]
     },
     "execution_count": 54,
     "metadata": {},
     "output_type": "execute_result"
    }
   ],
   "source": [
    "df.rename(columns={'vhigh':'Buying','vhigh.1':'Maintainance','2':'Doors','2.1':'Persons','small':'Lug_Boot','low':'Safety','unacc':'CAR'},inplace=True)\n",
    "df.head() ## ReNaming the Column Names"
   ]
  },
  {
   "cell_type": "code",
   "execution_count": 55,
   "metadata": {},
   "outputs": [
    {
     "name": "stdout",
     "output_type": "stream",
     "text": [
      "<class 'pandas.core.frame.DataFrame'>\n",
      "RangeIndex: 1727 entries, 0 to 1726\n",
      "Data columns (total 7 columns):\n",
      " #   Column        Non-Null Count  Dtype \n",
      "---  ------        --------------  ----- \n",
      " 0   Buying        1727 non-null   object\n",
      " 1   Maintainance  1727 non-null   object\n",
      " 2   Doors         1727 non-null   object\n",
      " 3   Persons       1727 non-null   object\n",
      " 4   Lug_Boot      1727 non-null   object\n",
      " 5   Safety        1727 non-null   object\n",
      " 6   CAR           1727 non-null   object\n",
      "dtypes: object(7)\n",
      "memory usage: 94.6+ KB\n"
     ]
    }
   ],
   "source": [
    "df.info() # No Null Values # All object attributes"
   ]
  },
  {
   "cell_type": "code",
   "execution_count": 56,
   "metadata": {},
   "outputs": [],
   "source": [
    "dfc=df.copy()"
   ]
  },
  {
   "cell_type": "code",
   "execution_count": 57,
   "metadata": {},
   "outputs": [],
   "source": [
    "le=LabelEncoder()\n",
    "dfc['Buying']=le.fit_transform(dfc['Buying']) # vhigh=3, high=2, med=1, low=0\n",
    "dfc['Maintainance']=le.fit_transform(dfc['Maintainance']) # vhigh=3, high=2, med=1, low=0\n",
    "dfc['Doors']=le.fit_transform(dfc['Doors']) # 2=0, 3=1, 4=2, 5more=3.\n",
    "dfc['Persons']=le.fit_transform(dfc['Persons']) # 2=0, 4=1, more=2.\n",
    "dfc['Lug_Boot']=le.fit_transform(dfc['Lug_Boot']) # small=2, med=1, big=0.\n",
    "dfc['Safety']=le.fit_transform(dfc['Safety']) # low=1, med=2, high=0\n",
    "dfc['CAR']=le.fit_transform(dfc['CAR']) # unacc=2, acc=0, good=1, vgood=3\n",
    "## Converting all the object datatypes into numerical one"
   ]
  },
  {
   "cell_type": "code",
   "execution_count": 58,
   "metadata": {},
   "outputs": [
    {
     "data": {
      "text/plain": [
       "<matplotlib.axes._subplots.AxesSubplot at 0x10f49a76708>"
      ]
     },
     "execution_count": 58,
     "metadata": {},
     "output_type": "execute_result"
    },
    {
     "data": {
      "image/png": "[encoded data removed]",
      "text/plain": [
       "<Figure size 432x288 with 1 Axes>"
      ]
     },
     "metadata": {
      "needs_background": "light"
     },
     "output_type": "display_data"
    }
   ],
   "source": [
    "sns.barplot(x='Doors',y='CAR',data=dfc)"
   ]
  },
  {
   "cell_type": "code",
   "execution_count": null,
   "metadata": {},
   "outputs": [],
   "source": []
  },
  {
   "cell_type": "code",
   "execution_count": 59,
   "metadata": {},
   "outputs": [
    {
     "data": {
      "text/plain": [
       "<matplotlib.axes._subplots.AxesSubplot at 0x10f4999d0c8>"
      ]
     },
     "execution_count": 59,
     "metadata": {},
     "output_type": "execute_result"
    },
    {
     "data": {
      "image/png": "[encoded data removed]",
      "text/plain": [
       "<Figure size 720x576 with 2 Axes>"
      ]
     },
     "metadata": {
      "needs_background": "light"
     },
     "output_type": "display_data"
    }
   ],
   "source": [
    "plt.figure(figsize=(10,8))\n",
    "sns.heatmap(dfc.corr(),cmap='Blues',annot=True)"
   ]
  },
  {
   "cell_type": "code",
   "execution_count": 60,
   "metadata": {},
   "outputs": [
    {
     "data": {
      "text/plain": [
       "((1727, 6), (1727,))"
      ]
     },
     "execution_count": 60,
     "metadata": {},
     "output_type": "execute_result"
    }
   ],
   "source": [
    "x=dfc.iloc[:,0:-1]\n",
    "y=dfc.iloc[:,-1]\n",
    "x.shape,y.shape"
   ]
  },
  {
   "cell_type": "code",
   "execution_count": 61,
   "metadata": {},
   "outputs": [
    {
     "name": "stdout",
     "output_type": "stream",
     "text": [
      "accuracy score correspondng to random state 41 is: 0.6782273603082851\n",
      "accuracy score correspondng to random state 42 is: 0.697495183044316\n",
      "accuracy score correspondng to random state 43 is: 0.697495183044316\n",
      "accuracy score correspondng to random state 44 is: 0.6647398843930635\n",
      "accuracy score correspondng to random state 45 is: 0.6801541425818882\n",
      "accuracy score correspondng to random state 46 is: 0.6647398843930635\n",
      "accuracy score correspondng to random state 47 is: 0.6628131021194605\n",
      "accuracy score correspondng to random state 48 is: 0.6859344894026975\n",
      "accuracy score correspondng to random state 49 is: 0.7071290944123314\n",
      "accuracy score correspondng to random state 50 is: 0.7129094412331407\n",
      "accuracy score correspondng to random state 51 is: 0.6801541425818882\n",
      "accuracy score correspondng to random state 52 is: 0.6859344894026975\n",
      "accuracy score correspondng to random state 53 is: 0.697495183044316\n",
      "accuracy score correspondng to random state 54 is: 0.6917148362235067\n",
      "accuracy score correspondng to random state 55 is: 0.7109826589595376\n",
      "accuracy score correspondng to random state 56 is: 0.6994219653179191\n",
      "accuracy score correspondng to random state 57 is: 0.7283236994219653\n",
      "accuracy score correspondng to random state 58 is: 0.651252408477842\n",
      "accuracy score correspondng to random state 59 is: 0.6801541425818882\n",
      "accuracy score correspondng to random state 60 is: 0.6763005780346821\n",
      "accuracy score correspondng to random state 61 is: 0.674373795761079\n",
      "accuracy score correspondng to random state 62 is: 0.6666666666666666\n",
      "accuracy score correspondng to random state 63 is: 0.6936416184971098\n",
      "accuracy score correspondng to random state 64 is: 0.7013487475915221\n",
      "accuracy score correspondng to random state 65 is: 0.7186897880539499\n",
      "accuracy score correspondng to random state 66 is: 0.6570327552986512\n",
      "accuracy score correspondng to random state 67 is: 0.697495183044316\n",
      "accuracy score correspondng to random state 68 is: 0.6801541425818882\n",
      "accuracy score correspondng to random state 69 is: 0.6782273603082851\n",
      "accuracy score correspondng to random state 70 is: 0.6897880539499036\n",
      "accuracy score correspondng to random state 71 is: 0.6840077071290944\n",
      "accuracy score correspondng to random state 72 is: 0.6955684007707129\n",
      "accuracy score correspondng to random state 73 is: 0.6897880539499036\n",
      "accuracy score correspondng to random state 74 is: 0.6859344894026975\n",
      "accuracy score correspondng to random state 75 is: 0.697495183044316\n",
      "accuracy score correspondng to random state 76 is: 0.6936416184971098\n",
      "accuracy score correspondng to random state 77 is: 0.6705202312138728\n",
      "accuracy score correspondng to random state 78 is: 0.7129094412331407\n",
      "accuracy score correspondng to random state 79 is: 0.7013487475915221\n",
      "accuracy score correspondng to random state 80 is: 0.7129094412331407\n",
      "accuracy score correspondng to random state 81 is: 0.7071290944123314\n",
      "accuracy score correspondng to random state 82 is: 0.6936416184971098\n",
      "accuracy score correspondng to random state 83 is: 0.7013487475915221\n",
      "accuracy score correspondng to random state 84 is: 0.6994219653179191\n",
      "accuracy score correspondng to random state 85 is: 0.6666666666666666\n",
      "accuracy score correspondng to random state 86 is: 0.7013487475915221\n",
      "accuracy score correspondng to random state 87 is: 0.6763005780346821\n",
      "accuracy score correspondng to random state 88 is: 0.7032755298651252\n",
      "accuracy score correspondng to random state 89 is: 0.6724470134874759\n",
      "accuracy score correspondng to random state 90 is: 0.674373795761079\n",
      "accuracy score correspondng to random state 91 is: 0.6782273603082851\n",
      "accuracy score correspondng to random state 92 is: 0.6994219653179191\n",
      "accuracy score correspondng to random state 93 is: 0.697495183044316\n",
      "accuracy score correspondng to random state 94 is: 0.7167630057803468\n",
      "accuracy score correspondng to random state 95 is: 0.7013487475915221\n",
      "accuracy score correspondng to random state 96 is: 0.6801541425818882\n",
      "accuracy score correspondng to random state 97 is: 0.674373795761079\n",
      "accuracy score correspondng to random state 98 is: 0.6840077071290944\n",
      "accuracy score correspondng to random state 99 is: 0.6994219653179191\n",
      "\n",
      "maximum accuracy score corresponding to random state 57 is 0.7283236994219653\n"
     ]
    }
   ],
   "source": [
    "maxr=0\n",
    "for i in range(41,100):\n",
    "    x_train,x_test,y_train,y_test=train_test_split(x,y,random_state=i,test_size=0.3)\n",
    "    lg=LogisticRegression()\n",
    "    lg.fit(x_train,y_train)\n",
    "    pred=lg.predict(x_test)\n",
    "    score=accuracy_score(y_test,pred)\n",
    "    print('accuracy score correspondng to random state',i,'is:',score)\n",
    "    if score>maxr:\n",
    "        maxr=score\n",
    "        finalr=i\n",
    "print()\n",
    "print('maximum accuracy score corresponding to random state',finalr,'is',maxr)"
   ]
  },
  {
   "cell_type": "code",
   "execution_count": 62,
   "metadata": {},
   "outputs": [
    {
     "data": {
      "text/plain": [
       "LogisticRegression(C=1.0, class_weight=None, dual=False, fit_intercept=True,\n",
       "                   intercept_scaling=1, l1_ratio=None, max_iter=100,\n",
       "                   multi_class='auto', n_jobs=None, penalty='l2',\n",
       "                   random_state=None, solver='lbfgs', tol=0.0001, verbose=0,\n",
       "                   warm_start=False)"
      ]
     },
     "execution_count": 62,
     "metadata": {},
     "output_type": "execute_result"
    }
   ],
   "source": [
    "x_train,x_test,y_train,y_test=train_test_split(x,y,random_state=57,test_size=0.3)\n",
    "lg.fit(x_train,y_train)"
   ]
  },
  {
   "cell_type": "code",
   "execution_count": 63,
   "metadata": {},
   "outputs": [
    {
     "name": "stdout",
     "output_type": "stream",
     "text": [
      "accuracy_score: 0.653179190751445\n",
      "0.6549166554644442\n"
     ]
    }
   ],
   "source": [
    "score=accuracy_score(y_test,pred)\n",
    "cvs=cross_val_score(lg,x,y,cv=10,scoring='accuracy').mean()\n",
    "print('accuracy_score:',score)\n",
    "print(cvs)"
   ]
  },
  {
   "cell_type": "code",
   "execution_count": 64,
   "metadata": {},
   "outputs": [],
   "source": [
    "model= [DecisionTreeClassifier(),SVC(),KNeighborsClassifier(),MultinomialNB()]"
   ]
  },
  {
   "cell_type": "code",
   "execution_count": 65,
   "metadata": {},
   "outputs": [
    {
     "name": "stdout",
     "output_type": "stream",
     "text": [
      "accuracy score of DecisionTreeClassifier(ccp_alpha=0.0, class_weight=None, criterion='gini',\n",
      "                       max_depth=None, max_features=None, max_leaf_nodes=None,\n",
      "                       min_impurity_decrease=0.0, min_impurity_split=None,\n",
      "                       min_samples_leaf=1, min_samples_split=2,\n",
      "                       min_weight_fraction_leaf=0.0, presort='deprecated',\n",
      "                       random_state=None, splitter='best') is: 0.976878612716763\n",
      "0.976878612716763\n",
      "[[100   3   2   0]\n",
      " [  2  21   0   0]\n",
      " [  4   1 370   0]\n",
      " [  0   0   0  16]]\n",
      "              precision    recall  f1-score   support\n",
      "\n",
      "           0       0.94      0.95      0.95       105\n",
      "           1       0.84      0.91      0.87        23\n",
      "           2       0.99      0.99      0.99       375\n",
      "           3       1.00      1.00      1.00        16\n",
      "\n",
      "    accuracy                           0.98       519\n",
      "   macro avg       0.94      0.96      0.95       519\n",
      "weighted avg       0.98      0.98      0.98       519\n",
      "\n",
      "0.8628780750100822\n",
      "\n",
      "\n",
      "accuracy score of SVC(C=1.0, break_ties=False, cache_size=200, class_weight=None, coef0=0.0,\n",
      "    decision_function_shape='ovr', degree=3, gamma='scale', kernel='rbf',\n",
      "    max_iter=-1, probability=False, random_state=None, shrinking=True,\n",
      "    tol=0.001, verbose=False) is: 0.8901734104046243\n",
      "0.8901734104046243\n",
      "[[ 86   0  18   1]\n",
      " [ 20   1   0   2]\n",
      " [ 13   0 362   0]\n",
      " [  3   0   0  13]]\n",
      "              precision    recall  f1-score   support\n",
      "\n",
      "           0       0.70      0.82      0.76       105\n",
      "           1       1.00      0.04      0.08        23\n",
      "           2       0.95      0.97      0.96       375\n",
      "           3       0.81      0.81      0.81        16\n",
      "\n",
      "    accuracy                           0.89       519\n",
      "   macro avg       0.87      0.66      0.65       519\n",
      "weighted avg       0.90      0.89      0.87       519\n",
      "\n",
      "0.8205639198817046\n",
      "\n",
      "\n",
      "accuracy score of KNeighborsClassifier(algorithm='auto', leaf_size=30, metric='minkowski',\n",
      "                     metric_params=None, n_jobs=None, n_neighbors=5, p=2,\n",
      "                     weights='uniform') is: 0.9210019267822736\n",
      "0.9210019267822736\n",
      "[[ 90   1  14   0]\n",
      " [ 11  11   1   0]\n",
      " [  9   0 366   0]\n",
      " [  2   1   2  11]]\n",
      "              precision    recall  f1-score   support\n",
      "\n",
      "           0       0.80      0.86      0.83       105\n",
      "           1       0.85      0.48      0.61        23\n",
      "           2       0.96      0.98      0.97       375\n",
      "           3       1.00      0.69      0.81        16\n",
      "\n",
      "    accuracy                           0.92       519\n",
      "   macro avg       0.90      0.75      0.81       519\n",
      "weighted avg       0.92      0.92      0.92       519\n",
      "\n",
      "0.736117085629789\n",
      "\n",
      "\n",
      "accuracy score of MultinomialNB(alpha=1.0, class_prior=None, fit_prior=True) is: 0.7225433526011561\n",
      "0.7225433526011561\n",
      "[[  0   0 105   0]\n",
      " [  0   0  23   0]\n",
      " [  0   0 375   0]\n",
      " [  1   0  15   0]]\n",
      "              precision    recall  f1-score   support\n",
      "\n",
      "           0       0.00      0.00      0.00       105\n",
      "           1       0.00      0.00      0.00        23\n",
      "           2       0.72      1.00      0.84       375\n",
      "           3       0.00      0.00      0.00        16\n",
      "\n",
      "    accuracy                           0.72       519\n",
      "   macro avg       0.18      0.25      0.21       519\n",
      "weighted avg       0.52      0.72      0.61       519\n",
      "\n",
      "0.6971669579244523\n",
      "\n",
      "\n"
     ]
    }
   ],
   "source": [
    "for i in model:\n",
    "    i.fit(x_train,y_train)\n",
    "    i.score(x_train,y_train)\n",
    "    Pred=i.predict(x_test)\n",
    "    AS=accuracy_score(y_test,Pred)\n",
    "    cvs=cross_val_score(i,x,y,cv=10,scoring='accuracy').mean()\n",
    "    print('accuracy score of',i,'is:',AS)\n",
    "    print(AS)\n",
    "    print(confusion_matrix(y_test,Pred))\n",
    "    print(classification_report(y_test,Pred))\n",
    "    print(cvs)\n",
    "    print('\\n')"
   ]
  },
  {
   "cell_type": "markdown",
   "metadata": {},
   "source": [
    "So here is the outcome of all algorithms "
   ]
  },
  {
   "cell_type": "code",
   "execution_count": 73,
   "metadata": {},
   "outputs": [
    {
     "data": {
      "text/html": [
       "<div>\n",
       "<style scoped>\n",
       "    .dataframe tbody tr th:only-of-type {\n",
       "        vertical-align: middle;\n",
       "    }\n",
       "\n",
       "    .dataframe tbody tr th {\n",
       "        vertical-align: top;\n",
       "    }\n",
       "\n",
       "    .dataframe thead th {\n",
       "        text-align: right;\n",
       "    }\n",
       "</style>\n",
       "<table border=\"1\" class=\"dataframe\">\n",
       "  <thead>\n",
       "    <tr style=\"text-align: right;\">\n",
       "      <th></th>\n",
       "      <th>accuracy_score</th>\n",
       "      <th>cross_val_score</th>\n",
       "    </tr>\n",
       "  </thead>\n",
       "  <tbody>\n",
       "    <tr>\n",
       "      <th>lg</th>\n",
       "      <td>0.653</td>\n",
       "      <td>0.654</td>\n",
       "    </tr>\n",
       "    <tr>\n",
       "      <th>dtc</th>\n",
       "      <td>0.976</td>\n",
       "      <td>0.862</td>\n",
       "    </tr>\n",
       "    <tr>\n",
       "      <th>svc</th>\n",
       "      <td>0.890</td>\n",
       "      <td>0.820</td>\n",
       "    </tr>\n",
       "    <tr>\n",
       "      <th>knn</th>\n",
       "      <td>0.921</td>\n",
       "      <td>0.736</td>\n",
       "    </tr>\n",
       "    <tr>\n",
       "      <th>mnb</th>\n",
       "      <td>0.722</td>\n",
       "      <td>0.697</td>\n",
       "    </tr>\n",
       "  </tbody>\n",
       "</table>\n",
       "</div>"
      ],
      "text/plain": [
       "     accuracy_score  cross_val_score\n",
       "lg            0.653            0.654\n",
       "dtc           0.976            0.862\n",
       "svc           0.890            0.820\n",
       "knn           0.921            0.736\n",
       "mnb           0.722            0.697"
      ]
     },
     "execution_count": 73,
     "metadata": {},
     "output_type": "execute_result"
    }
   ],
   "source": [
    "d={'accuracy_score':[0.653,0.976,0.890,0.921,0.722],'cross_val_score':[0.654,0.862,0.820,0.736,0.697]}\n",
    "dr=pd.DataFrame(d,index=['lg','dtc','svc','knn','mnb'])\n",
    "dr"
   ]
  },
  {
   "cell_type": "code",
   "execution_count": 67,
   "metadata": {},
   "outputs": [],
   "source": [
    "# so we can see DecisionTreeclassifier is providing best score for the model\n",
    "# so lets tune the hyper parameters of dtc to get the best possible score "
   ]
  },
  {
   "cell_type": "code",
   "execution_count": 68,
   "metadata": {},
   "outputs": [
    {
     "name": "stdout",
     "output_type": "stream",
     "text": [
      "0.9692595562683775\n",
      "{'criterion': 'entropy'}\n"
     ]
    }
   ],
   "source": [
    "dtc=DecisionTreeClassifier()\n",
    "param_grid={'criterion':['gini','entropy']}\n",
    "grid=GridSearchCV(dtc,param_grid,scoring='accuracy',cv=20)\n",
    "grid.fit(x,y)\n",
    "print(grid.best_score_)\n",
    "print(grid.best_params_)"
   ]
  },
  {
   "cell_type": "code",
   "execution_count": 69,
   "metadata": {},
   "outputs": [
    {
     "name": "stdout",
     "output_type": "stream",
     "text": [
      "0.9730250481695568\n",
      "[[ 99   3   3   0]\n",
      " [  2  21   0   0]\n",
      " [  5   1 369   0]\n",
      " [  0   0   0  16]]\n",
      "              precision    recall  f1-score   support\n",
      "\n",
      "           0       0.93      0.94      0.94       105\n",
      "           1       0.84      0.91      0.87        23\n",
      "           2       0.99      0.98      0.99       375\n",
      "           3       1.00      1.00      1.00        16\n",
      "\n",
      "    accuracy                           0.97       519\n",
      "   macro avg       0.94      0.96      0.95       519\n",
      "weighted avg       0.97      0.97      0.97       519\n",
      "\n",
      "AxesSubplot(0.125,0.125;0.62x0.755)\n"
     ]
    },
    {
     "data": {
      "image/png": "[encoded data removed]",
      "text/plain": [
       "<Figure size 432x288 with 2 Axes>"
      ]
     },
     "metadata": {
      "needs_background": "light"
     },
     "output_type": "display_data"
    }
   ],
   "source": [
    "dtc=DecisionTreeClassifier(criterion='entropy')\n",
    "dtc.fit(x_train,y_train)\n",
    "pred=dtc.predict(x_test)\n",
    "print(accuracy_score(y_test,pred))\n",
    "print(confusion_matrix(y_test,pred))\n",
    "print(classification_report(y_test,pred))\n",
    "print(sns.heatmap(confusion_matrix(y_test,pred)))"
   ]
  },
  {
   "cell_type": "code",
   "execution_count": 70,
   "metadata": {},
   "outputs": [
    {
     "data": {
      "text/plain": [
       "array([0, 2, 2, 2, 2, 2, 0, 0, 2, 0, 2, 2, 2, 0, 0, 2, 2, 2, 2, 0, 2, 2,\n",
       "       2, 2, 2, 2, 3, 1, 2, 2, 2, 2, 2, 2, 2, 2, 2, 2, 0, 2, 2, 0, 2, 2,\n",
       "       2, 0, 2, 2, 0, 2, 2, 2, 2, 2, 2, 2, 2, 2, 0, 2, 2, 2, 2, 0, 2, 0,\n",
       "       2, 2, 0, 2, 0, 3, 2, 0, 2, 2, 2, 0, 2, 2, 3, 2, 2, 2, 2, 2, 2, 0,\n",
       "       2, 2, 0, 0, 2, 2, 1, 2, 2, 2, 0, 2, 2, 2, 0, 2, 0, 0, 2, 0, 0, 1,\n",
       "       0, 2, 0, 2, 2, 1, 2, 2, 2, 2, 2, 2, 2, 2, 0, 2, 2, 2, 2, 2, 2, 2,\n",
       "       2, 2, 2, 2, 2, 2, 0, 2, 2, 2, 1, 0, 3, 2, 2, 2, 2, 0, 2, 2, 2, 3,\n",
       "       2, 3, 2, 2, 2, 0, 2, 2, 2, 2, 2, 2, 2, 0, 0, 2, 2, 2, 2, 0, 1, 2,\n",
       "       0, 2, 2, 0, 2, 2, 2, 2, 2, 2, 3, 0, 2, 0, 2, 2, 2, 0, 2, 0, 2, 0,\n",
       "       0, 2, 0, 2, 2, 0, 2, 2, 0, 2, 2, 2, 0, 2, 2, 2, 2, 2, 2, 2, 2, 0,\n",
       "       2, 2, 0, 2, 1, 2, 2, 2, 2, 1, 2, 0, 2, 2, 2, 2, 2, 2, 0, 2, 3, 2,\n",
       "       2, 0, 2, 0, 2, 3, 2, 0, 2, 2, 2, 2, 0, 0, 2, 2, 0, 0, 2, 1, 2, 2,\n",
       "       2, 1, 2, 2, 2, 2, 2, 2, 2, 2, 0, 0, 2, 2, 2, 2, 2, 2, 2, 0, 2, 2,\n",
       "       2, 2, 1, 2, 0, 3, 0, 2, 2, 2, 0, 3, 2, 2, 2, 2, 2, 2, 1, 2, 2, 2,\n",
       "       2, 2, 0, 2, 0, 0, 0, 2, 2, 2, 2, 1, 1, 0, 2, 1, 2, 2, 0, 2, 2, 2,\n",
       "       2, 2, 2, 2, 2, 2, 0, 2, 0, 2, 2, 2, 2, 2, 3, 2, 1, 1, 0, 2, 0, 2,\n",
       "       2, 2, 0, 0, 2, 2, 2, 2, 2, 2, 2, 2, 3, 2, 2, 0, 0, 2, 2, 0, 2, 0,\n",
       "       2, 1, 2, 2, 0, 2, 2, 2, 2, 0, 2, 1, 1, 2, 2, 2, 2, 2, 2, 0, 2, 2,\n",
       "       2, 2, 0, 2, 2, 2, 2, 0, 2, 0, 2, 2, 2, 2, 2, 2, 2, 2, 2, 2, 2, 2,\n",
       "       1, 2, 2, 2, 0, 0, 2, 2, 0, 2, 2, 0, 2, 2, 2, 2, 2, 2, 2, 2, 2, 2,\n",
       "       2, 2, 0, 0, 2, 2, 0, 2, 2, 2, 2, 2, 2, 1, 1, 2, 2, 2, 0, 2, 2, 0,\n",
       "       2, 2, 2, 2, 2, 1, 2, 2, 2, 0, 2, 2, 2, 0, 2, 0, 2, 2, 2, 2, 3, 2,\n",
       "       2, 2, 2, 2, 2, 2, 2, 2, 0, 2, 0, 2, 2, 2, 2, 0, 2, 2, 3, 2, 2, 0,\n",
       "       2, 1, 0, 2, 2, 2, 0, 2, 2, 2, 2, 3, 2])"
      ]
     },
     "execution_count": 70,
     "metadata": {},
     "output_type": "execute_result"
    }
   ],
   "source": [
    "pred"
   ]
  },
  {
   "cell_type": "code",
   "execution_count": 71,
   "metadata": {},
   "outputs": [
    {
     "data": {
      "text/plain": [
       "['dtcCAR.obj']"
      ]
     },
     "execution_count": 71,
     "metadata": {},
     "output_type": "execute_result"
    }
   ],
   "source": [
    "joblib.dump(dtc,'dtcCAR.obj')"
   ]
  },
  {
   "cell_type": "code",
   "execution_count": null,
   "metadata": {},
   "outputs": [],
   "source": []
  }
 ],
 "metadata": {
  "kernelspec": {
   "display_name": "Python 3",
   "language": "python",
   "name": "python3"
  },
  "language_info": {
   "codemirror_mode": {
    "name": "ipython",
    "version": 3
   },
   "file_extension": ".py",
   "mimetype": "text/x-python",
   "name": "python",
   "nbconvert_exporter": "python",
   "pygments_lexer": "ipython3",
   "version": "3.7.6"
  }
 },
 "nbformat": 4,
 "nbformat_minor": 4
}
