{
 "cells": [
  {
   "cell_type": "markdown",
   "metadata": {},
   "source": [
    "# Census Income Data Set(Dynamics Prjects M20 Number 6)"
   ]
  },
  {
   "cell_type": "code",
   "execution_count": 1,
   "metadata": {},
   "outputs": [
    {
     "name": "stderr",
     "output_type": "stream",
     "text": [
      "C:\\Users\\arkay\\anaconda3\\lib\\site-packages\\sklearn\\externals\\joblib\\__init__.py:15: FutureWarning: sklearn.externals.joblib is deprecated in 0.21 and will be removed in 0.23. Please import this functionality directly from joblib, which can be installed with: pip install joblib. If this warning is raised when loading pickled models, you may need to re-serialize those models with scikit-learn 0.21+.\n",
      "  warnings.warn(msg, category=FutureWarning)\n"
     ]
    }
   ],
   "source": [
    "import numpy as np\n",
    "import pandas as pd\n",
    "import seaborn as sns\n",
    "import sklearn\n",
    "import matplotlib.pyplot as plt\n",
    "import scipy\n",
    "from scipy.stats import zscore\n",
    "from sklearn.linear_model import LogisticRegression\n",
    "from sklearn.metrics import accuracy_score\n",
    "from sklearn.metrics import confusion_matrix,classification_report\n",
    "from sklearn.model_selection import train_test_split\n",
    "from sklearn.naive_bayes import GaussianNB\n",
    "from sklearn import svm\n",
    "from sklearn.svm import SVC\n",
    "from sklearn.tree import DecisionTreeClassifier\n",
    "from sklearn.neighbors import KNeighborsClassifier\n",
    "from sklearn.preprocessing import LabelEncoder\n",
    "from sklearn.model_selection import cross_val_score\n",
    "from sklearn.model_selection import GridSearchCV\n",
    "from sklearn.preprocessing import LabelEncoder\n",
    "from sklearn.externals import joblib\n",
    "from sklearn.metrics import roc_curve\n",
    "import matplotlib.pyplot as plt\n",
    "from sklearn.metrics import roc_auc_score\n",
    "from sklearn.impute import SimpleImputer\n",
    "from sklearn.preprocessing import StandardScaler\n",
    "from sklearn.ensemble import RandomForestClassifier\n",
    "import warnings\n",
    "warnings.filterwarnings('ignore')"
   ]
  },
  {
   "cell_type": "code",
   "execution_count": 2,
   "metadata": {},
   "outputs": [
    {
     "data": {
      "text/html": [
       "<div>\n",
       "<style scoped>\n",
       "    .dataframe tbody tr th:only-of-type {\n",
       "        vertical-align: middle;\n",
       "    }\n",
       "\n",
       "    .dataframe tbody tr th {\n",
       "        vertical-align: top;\n",
       "    }\n",
       "\n",
       "    .dataframe thead th {\n",
       "        text-align: right;\n",
       "    }\n",
       "</style>\n",
       "<table border=\"1\" class=\"dataframe\">\n",
       "  <thead>\n",
       "    <tr style=\"text-align: right;\">\n",
       "      <th></th>\n",
       "      <th>Age</th>\n",
       "      <th>workclass</th>\n",
       "      <th>fnlwgt</th>\n",
       "      <th>education</th>\n",
       "      <th>education number</th>\n",
       "      <th>status</th>\n",
       "      <th>occupation</th>\n",
       "      <th>relationship</th>\n",
       "      <th>race</th>\n",
       "      <th>gender</th>\n",
       "      <th>capital gain</th>\n",
       "      <th>capital loss</th>\n",
       "      <th>hrs per week</th>\n",
       "      <th>native country</th>\n",
       "      <th>annual income</th>\n",
       "    </tr>\n",
       "  </thead>\n",
       "  <tbody>\n",
       "    <tr>\n",
       "      <th>0</th>\n",
       "      <td>39</td>\n",
       "      <td>State-gov</td>\n",
       "      <td>77516</td>\n",
       "      <td>Bachelors</td>\n",
       "      <td>13</td>\n",
       "      <td>Never-married</td>\n",
       "      <td>Adm-clerical</td>\n",
       "      <td>Not-in-family</td>\n",
       "      <td>White</td>\n",
       "      <td>Male</td>\n",
       "      <td>2174</td>\n",
       "      <td>0</td>\n",
       "      <td>40</td>\n",
       "      <td>United-States</td>\n",
       "      <td>&lt;=50K</td>\n",
       "    </tr>\n",
       "    <tr>\n",
       "      <th>1</th>\n",
       "      <td>50</td>\n",
       "      <td>Self-emp-not-inc</td>\n",
       "      <td>83311</td>\n",
       "      <td>Bachelors</td>\n",
       "      <td>13</td>\n",
       "      <td>Married-civ-spouse</td>\n",
       "      <td>Exec-managerial</td>\n",
       "      <td>Husband</td>\n",
       "      <td>White</td>\n",
       "      <td>Male</td>\n",
       "      <td>0</td>\n",
       "      <td>0</td>\n",
       "      <td>13</td>\n",
       "      <td>United-States</td>\n",
       "      <td>&lt;=50K</td>\n",
       "    </tr>\n",
       "    <tr>\n",
       "      <th>2</th>\n",
       "      <td>38</td>\n",
       "      <td>Private</td>\n",
       "      <td>215646</td>\n",
       "      <td>HS-grad</td>\n",
       "      <td>9</td>\n",
       "      <td>Divorced</td>\n",
       "      <td>Handlers-cleaners</td>\n",
       "      <td>Not-in-family</td>\n",
       "      <td>White</td>\n",
       "      <td>Male</td>\n",
       "      <td>0</td>\n",
       "      <td>0</td>\n",
       "      <td>40</td>\n",
       "      <td>United-States</td>\n",
       "      <td>&lt;=50K</td>\n",
       "    </tr>\n",
       "    <tr>\n",
       "      <th>3</th>\n",
       "      <td>53</td>\n",
       "      <td>Private</td>\n",
       "      <td>234721</td>\n",
       "      <td>11th</td>\n",
       "      <td>7</td>\n",
       "      <td>Married-civ-spouse</td>\n",
       "      <td>Handlers-cleaners</td>\n",
       "      <td>Husband</td>\n",
       "      <td>Black</td>\n",
       "      <td>Male</td>\n",
       "      <td>0</td>\n",
       "      <td>0</td>\n",
       "      <td>40</td>\n",
       "      <td>United-States</td>\n",
       "      <td>&lt;=50K</td>\n",
       "    </tr>\n",
       "    <tr>\n",
       "      <th>4</th>\n",
       "      <td>28</td>\n",
       "      <td>Private</td>\n",
       "      <td>338409</td>\n",
       "      <td>Bachelors</td>\n",
       "      <td>13</td>\n",
       "      <td>Married-civ-spouse</td>\n",
       "      <td>Prof-specialty</td>\n",
       "      <td>Wife</td>\n",
       "      <td>Black</td>\n",
       "      <td>Female</td>\n",
       "      <td>0</td>\n",
       "      <td>0</td>\n",
       "      <td>40</td>\n",
       "      <td>Cuba</td>\n",
       "      <td>&lt;=50K</td>\n",
       "    </tr>\n",
       "    <tr>\n",
       "      <th>...</th>\n",
       "      <td>...</td>\n",
       "      <td>...</td>\n",
       "      <td>...</td>\n",
       "      <td>...</td>\n",
       "      <td>...</td>\n",
       "      <td>...</td>\n",
       "      <td>...</td>\n",
       "      <td>...</td>\n",
       "      <td>...</td>\n",
       "      <td>...</td>\n",
       "      <td>...</td>\n",
       "      <td>...</td>\n",
       "      <td>...</td>\n",
       "      <td>...</td>\n",
       "      <td>...</td>\n",
       "    </tr>\n",
       "    <tr>\n",
       "      <th>32556</th>\n",
       "      <td>27</td>\n",
       "      <td>Private</td>\n",
       "      <td>257302</td>\n",
       "      <td>Assoc-acdm</td>\n",
       "      <td>12</td>\n",
       "      <td>Married-civ-spouse</td>\n",
       "      <td>Tech-support</td>\n",
       "      <td>Wife</td>\n",
       "      <td>White</td>\n",
       "      <td>Female</td>\n",
       "      <td>0</td>\n",
       "      <td>0</td>\n",
       "      <td>38</td>\n",
       "      <td>United-States</td>\n",
       "      <td>&lt;=50K</td>\n",
       "    </tr>\n",
       "    <tr>\n",
       "      <th>32557</th>\n",
       "      <td>40</td>\n",
       "      <td>Private</td>\n",
       "      <td>154374</td>\n",
       "      <td>HS-grad</td>\n",
       "      <td>9</td>\n",
       "      <td>Married-civ-spouse</td>\n",
       "      <td>Machine-op-inspct</td>\n",
       "      <td>Husband</td>\n",
       "      <td>White</td>\n",
       "      <td>Male</td>\n",
       "      <td>0</td>\n",
       "      <td>0</td>\n",
       "      <td>40</td>\n",
       "      <td>United-States</td>\n",
       "      <td>&gt;50K</td>\n",
       "    </tr>\n",
       "    <tr>\n",
       "      <th>32558</th>\n",
       "      <td>58</td>\n",
       "      <td>Private</td>\n",
       "      <td>151910</td>\n",
       "      <td>HS-grad</td>\n",
       "      <td>9</td>\n",
       "      <td>Widowed</td>\n",
       "      <td>Adm-clerical</td>\n",
       "      <td>Unmarried</td>\n",
       "      <td>White</td>\n",
       "      <td>Female</td>\n",
       "      <td>0</td>\n",
       "      <td>0</td>\n",
       "      <td>40</td>\n",
       "      <td>United-States</td>\n",
       "      <td>&lt;=50K</td>\n",
       "    </tr>\n",
       "    <tr>\n",
       "      <th>32559</th>\n",
       "      <td>22</td>\n",
       "      <td>Private</td>\n",
       "      <td>201490</td>\n",
       "      <td>HS-grad</td>\n",
       "      <td>9</td>\n",
       "      <td>Never-married</td>\n",
       "      <td>Adm-clerical</td>\n",
       "      <td>Own-child</td>\n",
       "      <td>White</td>\n",
       "      <td>Male</td>\n",
       "      <td>0</td>\n",
       "      <td>0</td>\n",
       "      <td>20</td>\n",
       "      <td>United-States</td>\n",
       "      <td>&lt;=50K</td>\n",
       "    </tr>\n",
       "    <tr>\n",
       "      <th>32560</th>\n",
       "      <td>52</td>\n",
       "      <td>Self-emp-inc</td>\n",
       "      <td>287927</td>\n",
       "      <td>HS-grad</td>\n",
       "      <td>9</td>\n",
       "      <td>Married-civ-spouse</td>\n",
       "      <td>Exec-managerial</td>\n",
       "      <td>Wife</td>\n",
       "      <td>White</td>\n",
       "      <td>Female</td>\n",
       "      <td>15024</td>\n",
       "      <td>0</td>\n",
       "      <td>40</td>\n",
       "      <td>United-States</td>\n",
       "      <td>&gt;50K</td>\n",
       "    </tr>\n",
       "  </tbody>\n",
       "</table>\n",
       "<p>32561 rows × 15 columns</p>\n",
       "</div>"
      ],
      "text/plain": [
       "       Age           workclass  fnlwgt    education  education number  \\\n",
       "0        39          State-gov   77516    Bachelors                13   \n",
       "1        50   Self-emp-not-inc   83311    Bachelors                13   \n",
       "2        38            Private  215646      HS-grad                 9   \n",
       "3        53            Private  234721         11th                 7   \n",
       "4        28            Private  338409    Bachelors                13   \n",
       "...     ...                ...     ...          ...               ...   \n",
       "32556    27            Private  257302   Assoc-acdm                12   \n",
       "32557    40            Private  154374      HS-grad                 9   \n",
       "32558    58            Private  151910      HS-grad                 9   \n",
       "32559    22            Private  201490      HS-grad                 9   \n",
       "32560    52       Self-emp-inc  287927      HS-grad                 9   \n",
       "\n",
       "                    status          occupation    relationship    race  \\\n",
       "0            Never-married        Adm-clerical   Not-in-family   White   \n",
       "1       Married-civ-spouse     Exec-managerial         Husband   White   \n",
       "2                 Divorced   Handlers-cleaners   Not-in-family   White   \n",
       "3       Married-civ-spouse   Handlers-cleaners         Husband   Black   \n",
       "4       Married-civ-spouse      Prof-specialty            Wife   Black   \n",
       "...                    ...                 ...             ...     ...   \n",
       "32556   Married-civ-spouse        Tech-support            Wife   White   \n",
       "32557   Married-civ-spouse   Machine-op-inspct         Husband   White   \n",
       "32558              Widowed        Adm-clerical       Unmarried   White   \n",
       "32559        Never-married        Adm-clerical       Own-child   White   \n",
       "32560   Married-civ-spouse     Exec-managerial            Wife   White   \n",
       "\n",
       "        gender  capital gain  capital loss  hrs per week  native country  \\\n",
       "0         Male          2174             0            40   United-States   \n",
       "1         Male             0             0            13   United-States   \n",
       "2         Male             0             0            40   United-States   \n",
       "3         Male             0             0            40   United-States   \n",
       "4       Female             0             0            40            Cuba   \n",
       "...        ...           ...           ...           ...             ...   \n",
       "32556   Female             0             0            38   United-States   \n",
       "32557     Male             0             0            40   United-States   \n",
       "32558   Female             0             0            40   United-States   \n",
       "32559     Male             0             0            20   United-States   \n",
       "32560   Female         15024             0            40   United-States   \n",
       "\n",
       "      annual income  \n",
       "0             <=50K  \n",
       "1             <=50K  \n",
       "2             <=50K  \n",
       "3             <=50K  \n",
       "4             <=50K  \n",
       "...             ...  \n",
       "32556         <=50K  \n",
       "32557          >50K  \n",
       "32558         <=50K  \n",
       "32559         <=50K  \n",
       "32560          >50K  \n",
       "\n",
       "[32561 rows x 15 columns]"
      ]
     },
     "execution_count": 2,
     "metadata": {},
     "output_type": "execute_result"
    }
   ],
   "source": [
    "data=pd.read_csv('cencus.csv',na_values=' ?')\n",
    "data\n",
    "# Extraction was done by Barry Becker from the 1994 Census database.\n",
    "#A set of reasonably clean records was extracted using the following conditions-((AAGE>16) && (AGI>100) && (AFNLWGT>1)&& (HRSWK>0))\n",
    "#Prediction task is to determine whether a person makes over 50K a year.\n"
   ]
  },
  {
   "cell_type": "code",
   "execution_count": 3,
   "metadata": {},
   "outputs": [
    {
     "data": {
      "text/html": [
       "<div>\n",
       "<style scoped>\n",
       "    .dataframe tbody tr th:only-of-type {\n",
       "        vertical-align: middle;\n",
       "    }\n",
       "\n",
       "    .dataframe tbody tr th {\n",
       "        vertical-align: top;\n",
       "    }\n",
       "\n",
       "    .dataframe thead th {\n",
       "        text-align: right;\n",
       "    }\n",
       "</style>\n",
       "<table border=\"1\" class=\"dataframe\">\n",
       "  <thead>\n",
       "    <tr style=\"text-align: right;\">\n",
       "      <th></th>\n",
       "      <th>Age</th>\n",
       "      <th>workclass</th>\n",
       "      <th>fnlwgt</th>\n",
       "      <th>education</th>\n",
       "      <th>education number</th>\n",
       "      <th>status</th>\n",
       "      <th>occupation</th>\n",
       "      <th>relationship</th>\n",
       "      <th>race</th>\n",
       "      <th>gender</th>\n",
       "      <th>capital gain</th>\n",
       "      <th>capital loss</th>\n",
       "      <th>hrs per week</th>\n",
       "      <th>native country</th>\n",
       "      <th>annual income</th>\n",
       "    </tr>\n",
       "  </thead>\n",
       "  <tbody>\n",
       "    <tr>\n",
       "      <th>0</th>\n",
       "      <td>39</td>\n",
       "      <td>State-gov</td>\n",
       "      <td>77516</td>\n",
       "      <td>Bachelors</td>\n",
       "      <td>13</td>\n",
       "      <td>Never-married</td>\n",
       "      <td>Adm-clerical</td>\n",
       "      <td>Not-in-family</td>\n",
       "      <td>White</td>\n",
       "      <td>Male</td>\n",
       "      <td>2174</td>\n",
       "      <td>0</td>\n",
       "      <td>40</td>\n",
       "      <td>United-States</td>\n",
       "      <td>&lt;=50K</td>\n",
       "    </tr>\n",
       "    <tr>\n",
       "      <th>1</th>\n",
       "      <td>50</td>\n",
       "      <td>Self-emp-not-inc</td>\n",
       "      <td>83311</td>\n",
       "      <td>Bachelors</td>\n",
       "      <td>13</td>\n",
       "      <td>Married-civ-spouse</td>\n",
       "      <td>Exec-managerial</td>\n",
       "      <td>Husband</td>\n",
       "      <td>White</td>\n",
       "      <td>Male</td>\n",
       "      <td>0</td>\n",
       "      <td>0</td>\n",
       "      <td>13</td>\n",
       "      <td>United-States</td>\n",
       "      <td>&lt;=50K</td>\n",
       "    </tr>\n",
       "    <tr>\n",
       "      <th>2</th>\n",
       "      <td>38</td>\n",
       "      <td>Private</td>\n",
       "      <td>215646</td>\n",
       "      <td>HS-grad</td>\n",
       "      <td>9</td>\n",
       "      <td>Divorced</td>\n",
       "      <td>Handlers-cleaners</td>\n",
       "      <td>Not-in-family</td>\n",
       "      <td>White</td>\n",
       "      <td>Male</td>\n",
       "      <td>0</td>\n",
       "      <td>0</td>\n",
       "      <td>40</td>\n",
       "      <td>United-States</td>\n",
       "      <td>&lt;=50K</td>\n",
       "    </tr>\n",
       "    <tr>\n",
       "      <th>3</th>\n",
       "      <td>53</td>\n",
       "      <td>Private</td>\n",
       "      <td>234721</td>\n",
       "      <td>11th</td>\n",
       "      <td>7</td>\n",
       "      <td>Married-civ-spouse</td>\n",
       "      <td>Handlers-cleaners</td>\n",
       "      <td>Husband</td>\n",
       "      <td>Black</td>\n",
       "      <td>Male</td>\n",
       "      <td>0</td>\n",
       "      <td>0</td>\n",
       "      <td>40</td>\n",
       "      <td>United-States</td>\n",
       "      <td>&lt;=50K</td>\n",
       "    </tr>\n",
       "    <tr>\n",
       "      <th>4</th>\n",
       "      <td>28</td>\n",
       "      <td>Private</td>\n",
       "      <td>338409</td>\n",
       "      <td>Bachelors</td>\n",
       "      <td>13</td>\n",
       "      <td>Married-civ-spouse</td>\n",
       "      <td>Prof-specialty</td>\n",
       "      <td>Wife</td>\n",
       "      <td>Black</td>\n",
       "      <td>Female</td>\n",
       "      <td>0</td>\n",
       "      <td>0</td>\n",
       "      <td>40</td>\n",
       "      <td>Cuba</td>\n",
       "      <td>&lt;=50K</td>\n",
       "    </tr>\n",
       "  </tbody>\n",
       "</table>\n",
       "</div>"
      ],
      "text/plain": [
       "   Age           workclass  fnlwgt   education  education number  \\\n",
       "0    39          State-gov   77516   Bachelors                13   \n",
       "1    50   Self-emp-not-inc   83311   Bachelors                13   \n",
       "2    38            Private  215646     HS-grad                 9   \n",
       "3    53            Private  234721        11th                 7   \n",
       "4    28            Private  338409   Bachelors                13   \n",
       "\n",
       "                status          occupation    relationship    race   gender  \\\n",
       "0        Never-married        Adm-clerical   Not-in-family   White     Male   \n",
       "1   Married-civ-spouse     Exec-managerial         Husband   White     Male   \n",
       "2             Divorced   Handlers-cleaners   Not-in-family   White     Male   \n",
       "3   Married-civ-spouse   Handlers-cleaners         Husband   Black     Male   \n",
       "4   Married-civ-spouse      Prof-specialty            Wife   Black   Female   \n",
       "\n",
       "   capital gain  capital loss  hrs per week  native country annual income  \n",
       "0          2174             0            40   United-States         <=50K  \n",
       "1             0             0            13   United-States         <=50K  \n",
       "2             0             0            40   United-States         <=50K  \n",
       "3             0             0            40   United-States         <=50K  \n",
       "4             0             0            40            Cuba         <=50K  "
      ]
     },
     "execution_count": 3,
     "metadata": {},
     "output_type": "execute_result"
    }
   ],
   "source": [
    "df=pd.DataFrame(data=data)\n",
    "df.head()"
   ]
  },
  {
   "cell_type": "markdown",
   "metadata": {},
   "source": [
    "# EDA"
   ]
  },
  {
   "cell_type": "code",
   "execution_count": 4,
   "metadata": {},
   "outputs": [],
   "source": [
    "df1=df.copy()"
   ]
  },
  {
   "cell_type": "code",
   "execution_count": 5,
   "metadata": {},
   "outputs": [
    {
     "name": "stdout",
     "output_type": "stream",
     "text": [
      "<class 'pandas.core.frame.DataFrame'>\n",
      "RangeIndex: 32561 entries, 0 to 32560\n",
      "Data columns (total 15 columns):\n",
      " #   Column            Non-Null Count  Dtype \n",
      "---  ------            --------------  ----- \n",
      " 0   Age               32561 non-null  int64 \n",
      " 1   workclass         30725 non-null  object\n",
      " 2   fnlwgt            32561 non-null  int64 \n",
      " 3   education         32561 non-null  object\n",
      " 4   education number  32561 non-null  int64 \n",
      " 5   status            32561 non-null  object\n",
      " 6   occupation        30718 non-null  object\n",
      " 7   relationship      32561 non-null  object\n",
      " 8   race              32561 non-null  object\n",
      " 9   gender            32561 non-null  object\n",
      " 10  capital gain      32561 non-null  int64 \n",
      " 11  capital loss      32561 non-null  int64 \n",
      " 12  hrs per week      32561 non-null  int64 \n",
      " 13  native country    31978 non-null  object\n",
      " 14  annual income     32561 non-null  object\n",
      "dtypes: int64(6), object(9)\n",
      "memory usage: 3.7+ MB\n"
     ]
    }
   ],
   "source": [
    "df1.info()\n",
    "# 'workclass','occupation','native country' contains 'null' values\n",
    "# Target -> Annual income"
   ]
  },
  {
   "cell_type": "code",
   "execution_count": 6,
   "metadata": {},
   "outputs": [
    {
     "data": {
      "text/plain": [
       "array([' State-gov', ' Self-emp-not-inc', ' Private', ' Federal-gov',\n",
       "       ' Local-gov', nan, ' Self-emp-inc', ' Without-pay',\n",
       "       ' Never-worked'], dtype=object)"
      ]
     },
     "execution_count": 6,
     "metadata": {},
     "output_type": "execute_result"
    }
   ],
   "source": [
    "df1['workclass'].unique()"
   ]
  },
  {
   "cell_type": "code",
   "execution_count": 7,
   "metadata": {},
   "outputs": [],
   "source": [
    "imp=SimpleImputer(strategy='most_frequent')\n",
    "# will use 'most frequent' technique to fill the miss values since its object data attribute"
   ]
  },
  {
   "cell_type": "code",
   "execution_count": 8,
   "metadata": {},
   "outputs": [],
   "source": [
    "df1['workclass']=imp.fit_transform(df1['workclass'].values.reshape(-1,1))"
   ]
  },
  {
   "cell_type": "code",
   "execution_count": 9,
   "metadata": {},
   "outputs": [],
   "source": [
    "le=LabelEncoder()"
   ]
  },
  {
   "cell_type": "code",
   "execution_count": 10,
   "metadata": {},
   "outputs": [],
   "source": [
    "df1['workclass']=le.fit_transform(df1['workclass'])\n",
    "# converting object data into numerical data"
   ]
  },
  {
   "cell_type": "code",
   "execution_count": 11,
   "metadata": {},
   "outputs": [
    {
     "data": {
      "text/plain": [
       "array([' Federal-gov', ' Local-gov', ' Never-worked', ' Private',\n",
       "       ' Self-emp-inc', ' Self-emp-not-inc', ' State-gov', ' Without-pay'],\n",
       "      dtype=object)"
      ]
     },
     "execution_count": 11,
     "metadata": {},
     "output_type": "execute_result"
    }
   ],
   "source": [
    "le.classes_"
   ]
  },
  {
   "cell_type": "code",
   "execution_count": 12,
   "metadata": {},
   "outputs": [
    {
     "name": "stdout",
     "output_type": "stream",
     "text": [
      "6=[' State-gov']\n",
      "5=[' Self-emp-not-inc']\n",
      "3=[' Private']\n",
      "0=[' Federal-gov']\n",
      "1=[' Local-gov']\n",
      "4=[' Self-emp-inc']\n",
      "7=[' Without-pay']\n",
      "2=[' Never-worked']\n"
     ]
    }
   ],
   "source": [
    "for i in df1['workclass'].unique():\n",
    "    print('{0}={1}'.format(i,le.inverse_transform([i])))"
   ]
  },
  {
   "cell_type": "code",
   "execution_count": 13,
   "metadata": {},
   "outputs": [],
   "source": [
    "df1['education']=le.fit_transform(df1['education'])\n",
    "## converting object data into numerical data"
   ]
  },
  {
   "cell_type": "code",
   "execution_count": 14,
   "metadata": {},
   "outputs": [
    {
     "name": "stdout",
     "output_type": "stream",
     "text": [
      "9=[' Bachelors']\n",
      "11=[' HS-grad']\n",
      "1=[' 11th']\n",
      "12=[' Masters']\n",
      "6=[' 9th']\n",
      "15=[' Some-college']\n",
      "7=[' Assoc-acdm']\n",
      "8=[' Assoc-voc']\n",
      "5=[' 7th-8th']\n",
      "10=[' Doctorate']\n",
      "14=[' Prof-school']\n",
      "4=[' 5th-6th']\n",
      "0=[' 10th']\n",
      "3=[' 1st-4th']\n",
      "13=[' Preschool']\n",
      "2=[' 12th']\n"
     ]
    }
   ],
   "source": [
    "for i in df1['education'].unique():\n",
    "    print('{0}={1}'.format(i,le.inverse_transform([i])))"
   ]
  },
  {
   "cell_type": "code",
   "execution_count": 15,
   "metadata": {},
   "outputs": [
    {
     "data": {
      "text/plain": [
       "array([13,  9,  7, 14,  5, 10, 12, 11,  4, 16, 15,  3,  6,  2,  1,  8],\n",
       "      dtype=int64)"
      ]
     },
     "execution_count": 15,
     "metadata": {},
     "output_type": "execute_result"
    }
   ],
   "source": [
    "df1['education number'].unique()\n",
    "# this column seems to be same as clumn 'educatin after label encoding. so we can drop this column"
   ]
  },
  {
   "cell_type": "code",
   "execution_count": 16,
   "metadata": {},
   "outputs": [],
   "source": [
    "df1['status']=le.fit_transform(df1['status'])\n",
    "## converting object data into numerical data"
   ]
  },
  {
   "cell_type": "code",
   "execution_count": 17,
   "metadata": {},
   "outputs": [
    {
     "name": "stdout",
     "output_type": "stream",
     "text": [
      "4=[' Never-married']\n",
      "2=[' Married-civ-spouse']\n",
      "0=[' Divorced']\n",
      "3=[' Married-spouse-absent']\n",
      "5=[' Separated']\n",
      "1=[' Married-AF-spouse']\n",
      "6=[' Widowed']\n"
     ]
    }
   ],
   "source": [
    "for i in df1['status'].unique():\n",
    "    print('{0}={1}'.format(i,le.inverse_transform([i])))"
   ]
  },
  {
   "cell_type": "code",
   "execution_count": 18,
   "metadata": {},
   "outputs": [],
   "source": [
    "df1['occupation']=imp.fit_transform(df1['occupation'].values.reshape(-1,1))\n",
    "# will use 'most frequent' technique to fill the miss values since its object data attribute"
   ]
  },
  {
   "cell_type": "code",
   "execution_count": 19,
   "metadata": {},
   "outputs": [],
   "source": [
    "df1['occupation']=le.fit_transform(df1['occupation'])\n",
    "# converting object data into numerical data"
   ]
  },
  {
   "cell_type": "code",
   "execution_count": 20,
   "metadata": {},
   "outputs": [],
   "source": [
    "df1['race']=le.fit_transform(df1['race'])"
   ]
  },
  {
   "cell_type": "code",
   "execution_count": 21,
   "metadata": {},
   "outputs": [
    {
     "name": "stdout",
     "output_type": "stream",
     "text": [
      "4=[' White']\n",
      "2=[' Black']\n",
      "1=[' Asian-Pac-Islander']\n",
      "0=[' Amer-Indian-Eskimo']\n",
      "3=[' Other']\n"
     ]
    }
   ],
   "source": [
    "for i in df1['race'].unique():\n",
    "    print('{0}={1}'.format(i,le.inverse_transform([i]))) "
   ]
  },
  {
   "cell_type": "code",
   "execution_count": 22,
   "metadata": {},
   "outputs": [],
   "source": [
    "df1['gender']=le.fit_transform(df1['gender'])\n",
    "# converting object data into numerical data"
   ]
  },
  {
   "cell_type": "code",
   "execution_count": 23,
   "metadata": {},
   "outputs": [],
   "source": [
    "df1['native country']=imp.fit_transform(df1['native country'].values.reshape(-1,1))\n",
    "# will use 'most frequent' technique to fill the miss values since its object data attribute"
   ]
  },
  {
   "cell_type": "code",
   "execution_count": 24,
   "metadata": {},
   "outputs": [],
   "source": [
    "df1['native country']=le.fit_transform(df1['native country'])\n",
    "# converting object data into numerical data"
   ]
  },
  {
   "cell_type": "code",
   "execution_count": 25,
   "metadata": {},
   "outputs": [
    {
     "name": "stdout",
     "output_type": "stream",
     "text": [
      "38=[' United-States']\n",
      "4=[' Cuba']\n",
      "22=[' Jamaica']\n",
      "18=[' India']\n",
      "25=[' Mexico']\n",
      "34=[' South']\n",
      "32=[' Puerto-Rico']\n",
      "15=[' Honduras']\n",
      "8=[' England']\n",
      "1=[' Canada']\n",
      "10=[' Germany']\n",
      "19=[' Iran']\n",
      "29=[' Philippines']\n",
      "21=[' Italy']\n",
      "30=[' Poland']\n",
      "3=[' Columbia']\n",
      "0=[' Cambodia']\n",
      "36=[' Thailand']\n",
      "6=[' Ecuador']\n",
      "24=[' Laos']\n",
      "35=[' Taiwan']\n",
      "13=[' Haiti']\n",
      "31=[' Portugal']\n",
      "5=[' Dominican-Republic']\n",
      "7=[' El-Salvador']\n",
      "9=[' France']\n",
      "12=[' Guatemala']\n",
      "2=[' China']\n",
      "23=[' Japan']\n",
      "40=[' Yugoslavia']\n",
      "28=[' Peru']\n",
      "27=[' Outlying-US(Guam-USVI-etc)']\n",
      "33=[' Scotland']\n",
      "37=[' Trinadad&Tobago']\n",
      "11=[' Greece']\n",
      "26=[' Nicaragua']\n",
      "39=[' Vietnam']\n",
      "16=[' Hong']\n",
      "20=[' Ireland']\n",
      "17=[' Hungary']\n",
      "14=[' Holand-Netherlands']\n"
     ]
    }
   ],
   "source": [
    "for i in df1['native country'].unique():\n",
    "    print('{0}={1}'.format(i,le.inverse_transform([i])))"
   ]
  },
  {
   "cell_type": "code",
   "execution_count": 26,
   "metadata": {},
   "outputs": [],
   "source": [
    "df1['annual income']=le.fit_transform(df1['annual income'])\n",
    "# converting object data into numerical data"
   ]
  },
  {
   "cell_type": "code",
   "execution_count": 27,
   "metadata": {},
   "outputs": [
    {
     "name": "stdout",
     "output_type": "stream",
     "text": [
      "0=[' <=50K']\n",
      "1=[' >50K']\n"
     ]
    }
   ],
   "source": [
    "for i in df1['annual income'].unique():\n",
    "    print('{0}={1}'.format(i,le.inverse_transform([i])))"
   ]
  },
  {
   "cell_type": "code",
   "execution_count": 28,
   "metadata": {},
   "outputs": [],
   "source": [
    "df1['relationship']=le.fit_transform(df1['relationship'])\n",
    "# converting object data into numerical data"
   ]
  },
  {
   "cell_type": "code",
   "execution_count": 29,
   "metadata": {},
   "outputs": [
    {
     "name": "stdout",
     "output_type": "stream",
     "text": [
      "1=[' Not-in-family']\n",
      "0=[' Husband']\n",
      "5=[' Wife']\n",
      "3=[' Own-child']\n",
      "4=[' Unmarried']\n",
      "2=[' Other-relative']\n"
     ]
    }
   ],
   "source": [
    "for i in df1['relationship'].unique():\n",
    "    print('{0}={1}'.format(i,le.inverse_transform([i])))"
   ]
  },
  {
   "cell_type": "code",
   "execution_count": 30,
   "metadata": {},
   "outputs": [
    {
     "data": {
      "text/html": [
       "<div>\n",
       "<style scoped>\n",
       "    .dataframe tbody tr th:only-of-type {\n",
       "        vertical-align: middle;\n",
       "    }\n",
       "\n",
       "    .dataframe tbody tr th {\n",
       "        vertical-align: top;\n",
       "    }\n",
       "\n",
       "    .dataframe thead th {\n",
       "        text-align: right;\n",
       "    }\n",
       "</style>\n",
       "<table border=\"1\" class=\"dataframe\">\n",
       "  <thead>\n",
       "    <tr style=\"text-align: right;\">\n",
       "      <th></th>\n",
       "      <th>Age</th>\n",
       "      <th>workclass</th>\n",
       "      <th>fnlwgt</th>\n",
       "      <th>education</th>\n",
       "      <th>status</th>\n",
       "      <th>occupation</th>\n",
       "      <th>relationship</th>\n",
       "      <th>race</th>\n",
       "      <th>gender</th>\n",
       "      <th>capital gain</th>\n",
       "      <th>capital loss</th>\n",
       "      <th>hrs per week</th>\n",
       "      <th>native country</th>\n",
       "      <th>annual income</th>\n",
       "    </tr>\n",
       "  </thead>\n",
       "  <tbody>\n",
       "    <tr>\n",
       "      <th>0</th>\n",
       "      <td>39</td>\n",
       "      <td>6</td>\n",
       "      <td>77516</td>\n",
       "      <td>9</td>\n",
       "      <td>4</td>\n",
       "      <td>0</td>\n",
       "      <td>1</td>\n",
       "      <td>4</td>\n",
       "      <td>1</td>\n",
       "      <td>2174</td>\n",
       "      <td>0</td>\n",
       "      <td>40</td>\n",
       "      <td>38</td>\n",
       "      <td>0</td>\n",
       "    </tr>\n",
       "    <tr>\n",
       "      <th>1</th>\n",
       "      <td>50</td>\n",
       "      <td>5</td>\n",
       "      <td>83311</td>\n",
       "      <td>9</td>\n",
       "      <td>2</td>\n",
       "      <td>3</td>\n",
       "      <td>0</td>\n",
       "      <td>4</td>\n",
       "      <td>1</td>\n",
       "      <td>0</td>\n",
       "      <td>0</td>\n",
       "      <td>13</td>\n",
       "      <td>38</td>\n",
       "      <td>0</td>\n",
       "    </tr>\n",
       "    <tr>\n",
       "      <th>2</th>\n",
       "      <td>38</td>\n",
       "      <td>3</td>\n",
       "      <td>215646</td>\n",
       "      <td>11</td>\n",
       "      <td>0</td>\n",
       "      <td>5</td>\n",
       "      <td>1</td>\n",
       "      <td>4</td>\n",
       "      <td>1</td>\n",
       "      <td>0</td>\n",
       "      <td>0</td>\n",
       "      <td>40</td>\n",
       "      <td>38</td>\n",
       "      <td>0</td>\n",
       "    </tr>\n",
       "    <tr>\n",
       "      <th>3</th>\n",
       "      <td>53</td>\n",
       "      <td>3</td>\n",
       "      <td>234721</td>\n",
       "      <td>1</td>\n",
       "      <td>2</td>\n",
       "      <td>5</td>\n",
       "      <td>0</td>\n",
       "      <td>2</td>\n",
       "      <td>1</td>\n",
       "      <td>0</td>\n",
       "      <td>0</td>\n",
       "      <td>40</td>\n",
       "      <td>38</td>\n",
       "      <td>0</td>\n",
       "    </tr>\n",
       "    <tr>\n",
       "      <th>4</th>\n",
       "      <td>28</td>\n",
       "      <td>3</td>\n",
       "      <td>338409</td>\n",
       "      <td>9</td>\n",
       "      <td>2</td>\n",
       "      <td>9</td>\n",
       "      <td>5</td>\n",
       "      <td>2</td>\n",
       "      <td>0</td>\n",
       "      <td>0</td>\n",
       "      <td>0</td>\n",
       "      <td>40</td>\n",
       "      <td>4</td>\n",
       "      <td>0</td>\n",
       "    </tr>\n",
       "  </tbody>\n",
       "</table>\n",
       "</div>"
      ],
      "text/plain": [
       "   Age   workclass  fnlwgt  education  status  occupation  relationship  race  \\\n",
       "0    39          6   77516          9       4           0             1     4   \n",
       "1    50          5   83311          9       2           3             0     4   \n",
       "2    38          3  215646         11       0           5             1     4   \n",
       "3    53          3  234721          1       2           5             0     2   \n",
       "4    28          3  338409          9       2           9             5     2   \n",
       "\n",
       "   gender  capital gain  capital loss  hrs per week  native country  \\\n",
       "0       1          2174             0            40              38   \n",
       "1       1             0             0            13              38   \n",
       "2       1             0             0            40              38   \n",
       "3       1             0             0            40              38   \n",
       "4       0             0             0            40               4   \n",
       "\n",
       "   annual income  \n",
       "0              0  \n",
       "1              0  \n",
       "2              0  \n",
       "3              0  \n",
       "4              0  "
      ]
     },
     "execution_count": 30,
     "metadata": {},
     "output_type": "execute_result"
    }
   ],
   "source": [
    "df2=df1.drop('education number',axis=1)\n",
    "df2.head()\n",
    "# dropping this column since we have already label encoded education column"
   ]
  },
  {
   "cell_type": "code",
   "execution_count": 31,
   "metadata": {},
   "outputs": [
    {
     "data": {
      "text/plain": [
       "Index(['Age ', 'workclass', 'fnlwgt', 'education', 'status', 'occupation',\n",
       "       'relationship', 'race', 'gender', 'capital gain', 'capital loss',\n",
       "       'hrs per week', 'native country', 'annual income'],\n",
       "      dtype='object')"
      ]
     },
     "execution_count": 31,
     "metadata": {},
     "output_type": "execute_result"
    }
   ],
   "source": [
    "df2.columns"
   ]
  },
  {
   "cell_type": "markdown",
   "metadata": {},
   "source": [
    "# Univariate Analysis"
   ]
  },
  {
   "cell_type": "code",
   "execution_count": 32,
   "metadata": {},
   "outputs": [
    {
     "data": {
      "text/plain": [
       "{'bodies': [<matplotlib.collections.PolyCollection at 0x2d3e1d9c688>],\n",
       " 'cmaxes': <matplotlib.collections.LineCollection at 0x2d3dfc99488>,\n",
       " 'cmins': <matplotlib.collections.LineCollection at 0x2d3e1d9cfc8>,\n",
       " 'cbars': <matplotlib.collections.LineCollection at 0x2d3dfa6c408>}"
      ]
     },
     "execution_count": 32,
     "metadata": {},
     "output_type": "execute_result"
    },
    {
     "data": {
      "image/png": "[encoded data removed]",
      "text/plain": [
       "<Figure size 432x288 with 1 Axes>"
      ]
     },
     "metadata": {
      "needs_background": "light"
     },
     "output_type": "display_data"
    }
   ],
   "source": [
    "plt.violinplot(df2['Age '])\n",
    "# most of the people belongs to 20-40 age group"
   ]
  },
  {
   "cell_type": "code",
   "execution_count": 33,
   "metadata": {},
   "outputs": [
    {
     "data": {
      "text/plain": [
       "{'bodies': [<matplotlib.collections.PolyCollection at 0x2d3e2b6dfc8>],\n",
       " 'cmaxes': <matplotlib.collections.LineCollection at 0x2d3e1db5b88>,\n",
       " 'cmins': <matplotlib.collections.LineCollection at 0x2d3e2b75848>,\n",
       " 'cbars': <matplotlib.collections.LineCollection at 0x2d3e2b75f88>}"
      ]
     },
     "execution_count": 33,
     "metadata": {},
     "output_type": "execute_result"
    },
    {
     "data": {
      "image/png": "[encoded data removed]",
      "text/plain": [
       "<Figure size 432x288 with 1 Axes>"
      ]
     },
     "metadata": {
      "needs_background": "light"
     },
     "output_type": "display_data"
    }
   ],
   "source": [
    "plt.violinplot(df2['workclass'])\n",
    "# Most of the people belongs to 'private' sector job"
   ]
  },
  {
   "cell_type": "code",
   "execution_count": 34,
   "metadata": {},
   "outputs": [
    {
     "data": {
      "text/plain": [
       "{'bodies': [<matplotlib.collections.PolyCollection at 0x2d3e2bed688>],\n",
       " 'cmaxes': <matplotlib.collections.LineCollection at 0x2d3e2b3e8c8>,\n",
       " 'cmins': <matplotlib.collections.LineCollection at 0x2d3e2bede88>,\n",
       " 'cbars': <matplotlib.collections.LineCollection at 0x2d3e2bf4d48>}"
      ]
     },
     "execution_count": 34,
     "metadata": {},
     "output_type": "execute_result"
    },
    {
     "data": {
      "image/png": "[encoded data removed]",
      "text/plain": [
       "<Figure size 432x288 with 1 Axes>"
      ]
     },
     "metadata": {
      "needs_background": "light"
     },
     "output_type": "display_data"
    }
   ],
   "source": [
    "plt.violinplot(df2['education'])\n",
    "# Most of the people are 'HS Grad'"
   ]
  },
  {
   "cell_type": "code",
   "execution_count": 35,
   "metadata": {},
   "outputs": [
    {
     "data": {
      "text/plain": [
       "{'bodies': [<matplotlib.collections.PolyCollection at 0x2d3e2c5e408>],\n",
       " 'cmaxes': <matplotlib.collections.LineCollection at 0x2d3e2bc0a88>,\n",
       " 'cmins': <matplotlib.collections.LineCollection at 0x2d3e2c5ec48>,\n",
       " 'cbars': <matplotlib.collections.LineCollection at 0x2d3e2c63b88>}"
      ]
     },
     "execution_count": 35,
     "metadata": {},
     "output_type": "execute_result"
    },
    {
     "data": {
      "image/png": "[encoded data removed]",
      "text/plain": [
       "<Figure size 432x288 with 1 Axes>"
      ]
     },
     "metadata": {
      "needs_background": "light"
     },
     "output_type": "display_data"
    }
   ],
   "source": [
    "plt.violinplot(df2['status'])\n",
    "# most of the people are ' Married-civ-spouse'"
   ]
  },
  {
   "cell_type": "code",
   "execution_count": 36,
   "metadata": {},
   "outputs": [
    {
     "data": {
      "text/plain": [
       "{'bodies': [<matplotlib.collections.PolyCollection at 0x2d3e2cca508>],\n",
       " 'cmaxes': <matplotlib.collections.LineCollection at 0x2d3e2c5e0c8>,\n",
       " 'cmins': <matplotlib.collections.LineCollection at 0x2d3e2ccad08>,\n",
       " 'cbars': <matplotlib.collections.LineCollection at 0x2d3e2cd0bc8>}"
      ]
     },
     "execution_count": 36,
     "metadata": {},
     "output_type": "execute_result"
    },
    {
     "data": {
      "image/png": "[encoded data removed]",
      "text/plain": [
       "<Figure size 432x288 with 1 Axes>"
      ]
     },
     "metadata": {
      "needs_background": "light"
     },
     "output_type": "display_data"
    }
   ],
   "source": [
    "plt.violinplot(df2['occupation'])\n",
    "# people from all occupation are present here. "
   ]
  },
  {
   "cell_type": "code",
   "execution_count": 37,
   "metadata": {},
   "outputs": [
    {
     "data": {
      "text/plain": [
       "{'bodies': [<matplotlib.collections.PolyCollection at 0x2d3e2d32b88>],\n",
       " 'cmaxes': <matplotlib.collections.LineCollection at 0x2d3e2cf8308>,\n",
       " 'cmins': <matplotlib.collections.LineCollection at 0x2d3e2d3adc8>,\n",
       " 'cbars': <matplotlib.collections.LineCollection at 0x2d3e2d3ad48>}"
      ]
     },
     "execution_count": 37,
     "metadata": {},
     "output_type": "execute_result"
    },
    {
     "data": {
      "image/png": "[encoded data removed]",
      "text/plain": [
       "<Figure size 432x288 with 1 Axes>"
      ]
     },
     "metadata": {
      "needs_background": "light"
     },
     "output_type": "display_data"
    }
   ],
   "source": [
    "plt.violinplot(df2['relationship'])\n",
    "# we can observe 'husband' is the earning member in ost of the cases"
   ]
  },
  {
   "cell_type": "code",
   "execution_count": 38,
   "metadata": {},
   "outputs": [
    {
     "data": {
      "text/plain": [
       "{'bodies': [<matplotlib.collections.PolyCollection at 0x2d3e2d9f788>],\n",
       " 'cmaxes': <matplotlib.collections.LineCollection at 0x2d3e2d32888>,\n",
       " 'cmins': <matplotlib.collections.LineCollection at 0x2d3e2d9ffc8>,\n",
       " 'cbars': <matplotlib.collections.LineCollection at 0x2d3e2da6f08>}"
      ]
     },
     "execution_count": 38,
     "metadata": {},
     "output_type": "execute_result"
    },
    {
     "data": {
      "image/png": "[encoded data removed]",
      "text/plain": [
       "<Figure size 432x288 with 1 Axes>"
      ]
     },
     "metadata": {
      "needs_background": "light"
     },
     "output_type": "display_data"
    }
   ],
   "source": [
    "plt.violinplot(df2['race'])\n",
    "# most people belongs 'white' race"
   ]
  },
  {
   "cell_type": "code",
   "execution_count": 39,
   "metadata": {},
   "outputs": [
    {
     "data": {
      "text/plain": [
       "{'bodies': [<matplotlib.collections.PolyCollection at 0x2d3e2e0e5c8>],\n",
       " 'cmaxes': <matplotlib.collections.LineCollection at 0x2d3e2d69a88>,\n",
       " 'cmins': <matplotlib.collections.LineCollection at 0x2d3e2e0ee08>,\n",
       " 'cbars': <matplotlib.collections.LineCollection at 0x2d3e2e16d48>}"
      ]
     },
     "execution_count": 39,
     "metadata": {},
     "output_type": "execute_result"
    },
    {
     "data": {
      "image/png": "[encoded data removed]",
      "text/plain": [
       "<Figure size 432x288 with 1 Axes>"
      ]
     },
     "metadata": {
      "needs_background": "light"
     },
     "output_type": "display_data"
    }
   ],
   "source": [
    "plt.violinplot(df2['hrs per week'])\n",
    "# most of the people works 40 hrs a week"
   ]
  },
  {
   "cell_type": "code",
   "execution_count": 40,
   "metadata": {},
   "outputs": [
    {
     "data": {
      "text/plain": [
       "{'whiskers': [<matplotlib.lines.Line2D at 0x2d3e2e6a608>,\n",
       "  <matplotlib.lines.Line2D at 0x2d3e2e7fe08>],\n",
       " 'caps': [<matplotlib.lines.Line2D at 0x2d3e2e84d88>,\n",
       "  <matplotlib.lines.Line2D at 0x2d3e2e84e88>],\n",
       " 'boxes': [<matplotlib.lines.Line2D at 0x2d3e2e7f288>],\n",
       " 'medians': [<matplotlib.lines.Line2D at 0x2d3e2e8bac8>],\n",
       " 'fliers': [<matplotlib.lines.Line2D at 0x2d3e2e8bbc8>],\n",
       " 'means': []}"
      ]
     },
     "execution_count": 40,
     "metadata": {},
     "output_type": "execute_result"
    },
    {
     "data": {
      "image/png": "[encoded data removed]",
      "text/plain": [
       "<Figure size 432x288 with 1 Axes>"
      ]
     },
     "metadata": {
      "needs_background": "light"
     },
     "output_type": "display_data"
    }
   ],
   "source": [
    "plt.boxplot(df2['capital gain'])\n",
    "# this column highly skewed it seems "
   ]
  },
  {
   "cell_type": "code",
   "execution_count": 41,
   "metadata": {},
   "outputs": [
    {
     "data": {
      "text/plain": [
       "{'whiskers': [<matplotlib.lines.Line2D at 0x2d3e2ee9f88>,\n",
       "  <matplotlib.lines.Line2D at 0x2d3e2eee8c8>],\n",
       " 'caps': [<matplotlib.lines.Line2D at 0x2d3e2eeef48>,\n",
       "  <matplotlib.lines.Line2D at 0x2d3e2eeefc8>],\n",
       " 'boxes': [<matplotlib.lines.Line2D at 0x2d3e2eab588>],\n",
       " 'medians': [<matplotlib.lines.Line2D at 0x2d3e2ef3fc8>],\n",
       " 'fliers': [<matplotlib.lines.Line2D at 0x2d3e2ef3f48>],\n",
       " 'means': []}"
      ]
     },
     "execution_count": 41,
     "metadata": {},
     "output_type": "execute_result"
    },
    {
     "data": {
      "image/png": "[encoded data removed]",
      "text/plain": [
       "<Figure size 432x288 with 1 Axes>"
      ]
     },
     "metadata": {
      "needs_background": "light"
     },
     "output_type": "display_data"
    }
   ],
   "source": [
    "plt.boxplot(df2['capital loss'])\n",
    "# this column highly skewed it seems "
   ]
  },
  {
   "cell_type": "markdown",
   "metadata": {},
   "source": [
    "# Bivariate Analysis"
   ]
  },
  {
   "cell_type": "code",
   "execution_count": 42,
   "metadata": {},
   "outputs": [
    {
     "data": {
      "text/plain": [
       "<matplotlib.axes._subplots.AxesSubplot at 0x2d3e2f209c8>"
      ]
     },
     "execution_count": 42,
     "metadata": {},
     "output_type": "execute_result"
    },
    {
     "data": {
      "image/png": "[encoded data removed]",
      "text/plain": [
       "<Figure size 432x288 with 1 Axes>"
      ]
     },
     "metadata": {
      "needs_background": "light"
     },
     "output_type": "display_data"
    }
   ],
   "source": [
    "sns.barplot(x='workclass',y='annual income',data=df2)\n",
    "# 'self-em-inc' peopl are earning most"
   ]
  },
  {
   "cell_type": "code",
   "execution_count": 43,
   "metadata": {},
   "outputs": [
    {
     "data": {
      "text/plain": [
       "<matplotlib.axes._subplots.AxesSubplot at 0x2d3e2fd1448>"
      ]
     },
     "execution_count": 43,
     "metadata": {},
     "output_type": "execute_result"
    },
    {
     "data": {
      "image/png": "[encoded data removed]",
      "text/plain": [
       "<Figure size 432x288 with 1 Axes>"
      ]
     },
     "metadata": {
      "needs_background": "light"
     },
     "output_type": "display_data"
    }
   ],
   "source": [
    "sns.barplot(x='education',y='annual income',data=df2)\n",
    "#'doctorate' & 'prof=school' are earning most"
   ]
  },
  {
   "cell_type": "code",
   "execution_count": 44,
   "metadata": {},
   "outputs": [
    {
     "data": {
      "text/plain": [
       "<matplotlib.axes._subplots.AxesSubplot at 0x2d3e3099d08>"
      ]
     },
     "execution_count": 44,
     "metadata": {},
     "output_type": "execute_result"
    },
    {
     "data": {
      "image/png": "[encoded data removed]",
      "text/plain": [
       "<Figure size 432x288 with 1 Axes>"
      ]
     },
     "metadata": {
      "needs_background": "light"
     },
     "output_type": "display_data"
    }
   ],
   "source": [
    "sns.barplot(x='status',y='annual income',data=df2)\n",
    "# 'married-af-spouse' & 'married-civ-spouse' are earning most"
   ]
  },
  {
   "cell_type": "code",
   "execution_count": 45,
   "metadata": {},
   "outputs": [
    {
     "data": {
      "text/plain": [
       "<matplotlib.axes._subplots.AxesSubplot at 0x2d3e41133c8>"
      ]
     },
     "execution_count": 45,
     "metadata": {},
     "output_type": "execute_result"
    },
    {
     "data": {
      "image/png": "[encoded data removed]",
      "text/plain": [
       "<Figure size 432x288 with 1 Axes>"
      ]
     },
     "metadata": {
      "needs_background": "light"
     },
     "output_type": "display_data"
    }
   ],
   "source": [
    "sns.barplot(x='occupation',y='annual income',data=df2)\n",
    "# 'sales' people are earning most "
   ]
  },
  {
   "cell_type": "code",
   "execution_count": 46,
   "metadata": {},
   "outputs": [
    {
     "data": {
      "text/plain": [
       "<matplotlib.axes._subplots.AxesSubplot at 0x2d3e41d5588>"
      ]
     },
     "execution_count": 46,
     "metadata": {},
     "output_type": "execute_result"
    },
    {
     "data": {
      "image/png": "[encoded data removed]",
      "text/plain": [
       "<Figure size 432x288 with 1 Axes>"
      ]
     },
     "metadata": {
      "needs_background": "light"
     },
     "output_type": "display_data"
    }
   ],
   "source": [
    "sns.barplot(x='relationship',y='annual income',data=df2)"
   ]
  },
  {
   "cell_type": "code",
   "execution_count": 47,
   "metadata": {},
   "outputs": [
    {
     "data": {
      "text/plain": [
       "<matplotlib.axes._subplots.AxesSubplot at 0x2d3e423a608>"
      ]
     },
     "execution_count": 47,
     "metadata": {},
     "output_type": "execute_result"
    },
    {
     "data": {
      "image/png": "[encoded data removed]",
      "text/plain": [
       "<Figure size 432x288 with 1 Axes>"
      ]
     },
     "metadata": {
      "needs_background": "light"
     },
     "output_type": "display_data"
    }
   ],
   "source": [
    "sns.barplot(x='race',y='annual income',data=df2)\n",
    "# 'asian-pac-islands' people are more"
   ]
  },
  {
   "cell_type": "code",
   "execution_count": 48,
   "metadata": {},
   "outputs": [
    {
     "data": {
      "text/plain": [
       "<matplotlib.axes._subplots.AxesSubplot at 0x2d3e42ba108>"
      ]
     },
     "execution_count": 48,
     "metadata": {},
     "output_type": "execute_result"
    },
    {
     "data": {
      "image/png": "[encoded data removed]",
      "text/plain": [
       "<Figure size 432x288 with 1 Axes>"
      ]
     },
     "metadata": {
      "needs_background": "light"
     },
     "output_type": "display_data"
    }
   ],
   "source": [
    "sns.barplot(x='gender',y='annual income',data=df2)\n",
    "# 'male' earning more "
   ]
  },
  {
   "cell_type": "code",
   "execution_count": 49,
   "metadata": {},
   "outputs": [
    {
     "data": {
      "text/plain": [
       "<matplotlib.axes._subplots.AxesSubplot at 0x2d3e4313e08>"
      ]
     },
     "execution_count": 49,
     "metadata": {},
     "output_type": "execute_result"
    },
    {
     "data": {
      "image/png": "[encoded data removed]",
      "text/plain": [
       "<Figure size 432x288 with 1 Axes>"
      ]
     },
     "metadata": {
      "needs_background": "light"
     },
     "output_type": "display_data"
    }
   ],
   "source": [
    "sns.scatterplot(data=df1,x='capital gain',y='annual income')\n"
   ]
  },
  {
   "cell_type": "code",
   "execution_count": 50,
   "metadata": {},
   "outputs": [
    {
     "data": {
      "text/plain": [
       "<matplotlib.axes._subplots.AxesSubplot at 0x2d3e4396e48>"
      ]
     },
     "execution_count": 50,
     "metadata": {},
     "output_type": "execute_result"
    },
    {
     "data": {
      "image/png": "[encoded data removed]",
      "text/plain": [
       "<Figure size 432x288 with 1 Axes>"
      ]
     },
     "metadata": {
      "needs_background": "light"
     },
     "output_type": "display_data"
    }
   ],
   "source": [
    "sns.scatterplot(data=df1,x='fnlwgt',y='annual income')"
   ]
  },
  {
   "cell_type": "code",
   "execution_count": 51,
   "metadata": {},
   "outputs": [
    {
     "data": {
      "text/plain": [
       "<matplotlib.axes._subplots.AxesSubplot at 0x2d3e43edc88>"
      ]
     },
     "execution_count": 51,
     "metadata": {},
     "output_type": "execute_result"
    },
    {
     "data": {
      "image/png": "[encoded data removed]",
      "text/plain": [
       "<Figure size 432x288 with 1 Axes>"
      ]
     },
     "metadata": {
      "needs_background": "light"
     },
     "output_type": "display_data"
    }
   ],
   "source": [
    "sns.scatterplot(data=df1,x='capital loss',y='annual income')"
   ]
  },
  {
   "cell_type": "code",
   "execution_count": 52,
   "metadata": {},
   "outputs": [
    {
     "data": {
      "text/html": [
       "<div>\n",
       "<style scoped>\n",
       "    .dataframe tbody tr th:only-of-type {\n",
       "        vertical-align: middle;\n",
       "    }\n",
       "\n",
       "    .dataframe tbody tr th {\n",
       "        vertical-align: top;\n",
       "    }\n",
       "\n",
       "    .dataframe thead th {\n",
       "        text-align: right;\n",
       "    }\n",
       "</style>\n",
       "<table border=\"1\" class=\"dataframe\">\n",
       "  <thead>\n",
       "    <tr style=\"text-align: right;\">\n",
       "      <th></th>\n",
       "      <th>Age</th>\n",
       "      <th>workclass</th>\n",
       "      <th>fnlwgt</th>\n",
       "      <th>education</th>\n",
       "      <th>status</th>\n",
       "      <th>occupation</th>\n",
       "      <th>relationship</th>\n",
       "      <th>race</th>\n",
       "      <th>gender</th>\n",
       "      <th>capital gain</th>\n",
       "      <th>capital loss</th>\n",
       "      <th>hrs per week</th>\n",
       "      <th>native country</th>\n",
       "      <th>annual income</th>\n",
       "    </tr>\n",
       "  </thead>\n",
       "  <tbody>\n",
       "    <tr>\n",
       "      <th>count</th>\n",
       "      <td>32561.000000</td>\n",
       "      <td>32561.000000</td>\n",
       "      <td>3.256100e+04</td>\n",
       "      <td>32561.000000</td>\n",
       "      <td>32561.000000</td>\n",
       "      <td>32561.000000</td>\n",
       "      <td>32561.000000</td>\n",
       "      <td>32561.000000</td>\n",
       "      <td>32561.000000</td>\n",
       "      <td>32561.000000</td>\n",
       "      <td>32561.000000</td>\n",
       "      <td>32561.000000</td>\n",
       "      <td>32561.000000</td>\n",
       "      <td>32561.000000</td>\n",
       "    </tr>\n",
       "    <tr>\n",
       "      <th>mean</th>\n",
       "      <td>38.581647</td>\n",
       "      <td>3.094438</td>\n",
       "      <td>1.897784e+05</td>\n",
       "      <td>10.298210</td>\n",
       "      <td>2.611836</td>\n",
       "      <td>6.138755</td>\n",
       "      <td>1.446362</td>\n",
       "      <td>3.665858</td>\n",
       "      <td>0.669205</td>\n",
       "      <td>1077.648844</td>\n",
       "      <td>87.303830</td>\n",
       "      <td>40.437456</td>\n",
       "      <td>36.417155</td>\n",
       "      <td>0.240810</td>\n",
       "    </tr>\n",
       "    <tr>\n",
       "      <th>std</th>\n",
       "      <td>13.640433</td>\n",
       "      <td>1.107194</td>\n",
       "      <td>1.055500e+05</td>\n",
       "      <td>3.870264</td>\n",
       "      <td>1.506222</td>\n",
       "      <td>3.972708</td>\n",
       "      <td>1.606771</td>\n",
       "      <td>0.848806</td>\n",
       "      <td>0.470506</td>\n",
       "      <td>7385.292085</td>\n",
       "      <td>402.960219</td>\n",
       "      <td>12.347429</td>\n",
       "      <td>6.056047</td>\n",
       "      <td>0.427581</td>\n",
       "    </tr>\n",
       "    <tr>\n",
       "      <th>min</th>\n",
       "      <td>17.000000</td>\n",
       "      <td>0.000000</td>\n",
       "      <td>1.228500e+04</td>\n",
       "      <td>0.000000</td>\n",
       "      <td>0.000000</td>\n",
       "      <td>0.000000</td>\n",
       "      <td>0.000000</td>\n",
       "      <td>0.000000</td>\n",
       "      <td>0.000000</td>\n",
       "      <td>0.000000</td>\n",
       "      <td>0.000000</td>\n",
       "      <td>1.000000</td>\n",
       "      <td>0.000000</td>\n",
       "      <td>0.000000</td>\n",
       "    </tr>\n",
       "    <tr>\n",
       "      <th>25%</th>\n",
       "      <td>28.000000</td>\n",
       "      <td>3.000000</td>\n",
       "      <td>1.178270e+05</td>\n",
       "      <td>9.000000</td>\n",
       "      <td>2.000000</td>\n",
       "      <td>3.000000</td>\n",
       "      <td>0.000000</td>\n",
       "      <td>4.000000</td>\n",
       "      <td>0.000000</td>\n",
       "      <td>0.000000</td>\n",
       "      <td>0.000000</td>\n",
       "      <td>40.000000</td>\n",
       "      <td>38.000000</td>\n",
       "      <td>0.000000</td>\n",
       "    </tr>\n",
       "    <tr>\n",
       "      <th>50%</th>\n",
       "      <td>37.000000</td>\n",
       "      <td>3.000000</td>\n",
       "      <td>1.783560e+05</td>\n",
       "      <td>11.000000</td>\n",
       "      <td>2.000000</td>\n",
       "      <td>6.000000</td>\n",
       "      <td>1.000000</td>\n",
       "      <td>4.000000</td>\n",
       "      <td>1.000000</td>\n",
       "      <td>0.000000</td>\n",
       "      <td>0.000000</td>\n",
       "      <td>40.000000</td>\n",
       "      <td>38.000000</td>\n",
       "      <td>0.000000</td>\n",
       "    </tr>\n",
       "    <tr>\n",
       "      <th>75%</th>\n",
       "      <td>48.000000</td>\n",
       "      <td>3.000000</td>\n",
       "      <td>2.370510e+05</td>\n",
       "      <td>12.000000</td>\n",
       "      <td>4.000000</td>\n",
       "      <td>9.000000</td>\n",
       "      <td>3.000000</td>\n",
       "      <td>4.000000</td>\n",
       "      <td>1.000000</td>\n",
       "      <td>0.000000</td>\n",
       "      <td>0.000000</td>\n",
       "      <td>45.000000</td>\n",
       "      <td>38.000000</td>\n",
       "      <td>0.000000</td>\n",
       "    </tr>\n",
       "    <tr>\n",
       "      <th>max</th>\n",
       "      <td>90.000000</td>\n",
       "      <td>7.000000</td>\n",
       "      <td>1.484705e+06</td>\n",
       "      <td>15.000000</td>\n",
       "      <td>6.000000</td>\n",
       "      <td>13.000000</td>\n",
       "      <td>5.000000</td>\n",
       "      <td>4.000000</td>\n",
       "      <td>1.000000</td>\n",
       "      <td>99999.000000</td>\n",
       "      <td>4356.000000</td>\n",
       "      <td>99.000000</td>\n",
       "      <td>40.000000</td>\n",
       "      <td>1.000000</td>\n",
       "    </tr>\n",
       "  </tbody>\n",
       "</table>\n",
       "</div>"
      ],
      "text/plain": [
       "               Age      workclass        fnlwgt     education        status  \\\n",
       "count  32561.000000  32561.000000  3.256100e+04  32561.000000  32561.000000   \n",
       "mean      38.581647      3.094438  1.897784e+05     10.298210      2.611836   \n",
       "std       13.640433      1.107194  1.055500e+05      3.870264      1.506222   \n",
       "min       17.000000      0.000000  1.228500e+04      0.000000      0.000000   \n",
       "25%       28.000000      3.000000  1.178270e+05      9.000000      2.000000   \n",
       "50%       37.000000      3.000000  1.783560e+05     11.000000      2.000000   \n",
       "75%       48.000000      3.000000  2.370510e+05     12.000000      4.000000   \n",
       "max       90.000000      7.000000  1.484705e+06     15.000000      6.000000   \n",
       "\n",
       "         occupation  relationship          race        gender  capital gain  \\\n",
       "count  32561.000000  32561.000000  32561.000000  32561.000000  32561.000000   \n",
       "mean       6.138755      1.446362      3.665858      0.669205   1077.648844   \n",
       "std        3.972708      1.606771      0.848806      0.470506   7385.292085   \n",
       "min        0.000000      0.000000      0.000000      0.000000      0.000000   \n",
       "25%        3.000000      0.000000      4.000000      0.000000      0.000000   \n",
       "50%        6.000000      1.000000      4.000000      1.000000      0.000000   \n",
       "75%        9.000000      3.000000      4.000000      1.000000      0.000000   \n",
       "max       13.000000      5.000000      4.000000      1.000000  99999.000000   \n",
       "\n",
       "       capital loss  hrs per week  native country  annual income  \n",
       "count  32561.000000  32561.000000    32561.000000   32561.000000  \n",
       "mean      87.303830     40.437456       36.417155       0.240810  \n",
       "std      402.960219     12.347429        6.056047       0.427581  \n",
       "min        0.000000      1.000000        0.000000       0.000000  \n",
       "25%        0.000000     40.000000       38.000000       0.000000  \n",
       "50%        0.000000     40.000000       38.000000       0.000000  \n",
       "75%        0.000000     45.000000       38.000000       0.000000  \n",
       "max     4356.000000     99.000000       40.000000       1.000000  "
      ]
     },
     "execution_count": 52,
     "metadata": {},
     "output_type": "execute_result"
    }
   ],
   "source": [
    "df2.describe()\n",
    "# capital gain, capital loss, hrs per week, - all these numrical attributes - data is quite spread out\n",
    "# capital gain, capital loss - seems to have outliers"
   ]
  },
  {
   "cell_type": "code",
   "execution_count": 53,
   "metadata": {},
   "outputs": [
    {
     "data": {
      "text/plain": [
       "Age                0.558743\n",
       "workclass          0.076469\n",
       "fnlwgt             1.446980\n",
       "education         -0.934042\n",
       "status            -0.013508\n",
       "occupation         0.000565\n",
       "relationship       0.786818\n",
       "race              -2.435386\n",
       "gender            -0.719293\n",
       "capital gain      11.953848\n",
       "capital loss       4.594629\n",
       "hrs per week       0.227643\n",
       "native country    -4.243158\n",
       "annual income      1.212430\n",
       "dtype: float64"
      ]
     },
     "execution_count": 53,
     "metadata": {},
     "output_type": "execute_result"
    }
   ],
   "source": [
    "df2.skew()\n",
    "# checking skewness"
   ]
  },
  {
   "cell_type": "markdown",
   "metadata": {},
   "source": [
    "# Cleaning The Dataset"
   ]
  },
  {
   "cell_type": "code",
   "execution_count": 54,
   "metadata": {},
   "outputs": [
    {
     "data": {
      "text/plain": [
       "array([[0.03067056, 2.62429763, 1.06361075, ..., 0.03542945, 0.26136999,\n",
       "        0.56319851],\n",
       "       [0.83710898, 1.72109965, 1.008707  , ..., 2.22215312, 0.26136999,\n",
       "        0.56319851],\n",
       "       [0.04264203, 0.08529633, 0.2450785 , ..., 0.03542945, 0.26136999,\n",
       "        0.56319851],\n",
       "       ...,\n",
       "       [1.42360965, 0.08529633, 0.35877741, ..., 0.03542945, 0.26136999,\n",
       "        0.56319851],\n",
       "       [1.21564337, 0.08529633, 0.11095988, ..., 1.65522476, 0.26136999,\n",
       "        0.56319851],\n",
       "       [0.98373415, 0.81790166, 0.92989258, ..., 0.03542945, 0.26136999,\n",
       "        1.77557289]])"
      ]
     },
     "execution_count": 54,
     "metadata": {},
     "output_type": "execute_result"
    }
   ],
   "source": [
    "z=np.abs(zscore(df2))\n",
    "z"
   ]
  },
  {
   "cell_type": "code",
   "execution_count": 55,
   "metadata": {},
   "outputs": [
    {
     "data": {
      "text/plain": [
       "(27918, 14)"
      ]
     },
     "execution_count": 55,
     "metadata": {},
     "output_type": "execute_result"
    }
   ],
   "source": [
    "df2n=df2[(z<3).all(axis=1)]\n",
    "df2n.shape"
   ]
  },
  {
   "cell_type": "code",
   "execution_count": 56,
   "metadata": {},
   "outputs": [
    {
     "data": {
      "text/html": [
       "<div>\n",
       "<style scoped>\n",
       "    .dataframe tbody tr th:only-of-type {\n",
       "        vertical-align: middle;\n",
       "    }\n",
       "\n",
       "    .dataframe tbody tr th {\n",
       "        vertical-align: top;\n",
       "    }\n",
       "\n",
       "    .dataframe thead th {\n",
       "        text-align: right;\n",
       "    }\n",
       "</style>\n",
       "<table border=\"1\" class=\"dataframe\">\n",
       "  <thead>\n",
       "    <tr style=\"text-align: right;\">\n",
       "      <th></th>\n",
       "      <th>Age</th>\n",
       "      <th>workclass</th>\n",
       "      <th>fnlwgt</th>\n",
       "      <th>education</th>\n",
       "      <th>status</th>\n",
       "      <th>occupation</th>\n",
       "      <th>relationship</th>\n",
       "      <th>race</th>\n",
       "      <th>gender</th>\n",
       "      <th>capital gain</th>\n",
       "      <th>capital loss</th>\n",
       "      <th>hrs per week</th>\n",
       "      <th>native country</th>\n",
       "      <th>annual income</th>\n",
       "    </tr>\n",
       "  </thead>\n",
       "  <tbody>\n",
       "    <tr>\n",
       "      <th>count</th>\n",
       "      <td>27918.000000</td>\n",
       "      <td>27918.000000</td>\n",
       "      <td>27918.000000</td>\n",
       "      <td>27918.000000</td>\n",
       "      <td>27918.000000</td>\n",
       "      <td>27918.000000</td>\n",
       "      <td>27918.000000</td>\n",
       "      <td>27918.000000</td>\n",
       "      <td>27918.000000</td>\n",
       "      <td>27918.000000</td>\n",
       "      <td>27918.000000</td>\n",
       "      <td>27918.000000</td>\n",
       "      <td>27918.000000</td>\n",
       "      <td>27918.000000</td>\n",
       "    </tr>\n",
       "    <tr>\n",
       "      <th>mean</th>\n",
       "      <td>38.192994</td>\n",
       "      <td>3.084927</td>\n",
       "      <td>186505.103267</td>\n",
       "      <td>10.310337</td>\n",
       "      <td>2.616520</td>\n",
       "      <td>6.104055</td>\n",
       "      <td>1.465506</td>\n",
       "      <td>3.790852</td>\n",
       "      <td>0.663515</td>\n",
       "      <td>569.723261</td>\n",
       "      <td>1.206247</td>\n",
       "      <td>39.915789</td>\n",
       "      <td>37.504836</td>\n",
       "      <td>0.223154</td>\n",
       "    </tr>\n",
       "    <tr>\n",
       "      <th>std</th>\n",
       "      <td>13.412258</td>\n",
       "      <td>1.099480</td>\n",
       "      <td>94731.927326</td>\n",
       "      <td>3.893803</td>\n",
       "      <td>1.518574</td>\n",
       "      <td>3.990535</td>\n",
       "      <td>1.604524</td>\n",
       "      <td>0.605812</td>\n",
       "      <td>0.472516</td>\n",
       "      <td>2330.183001</td>\n",
       "      <td>32.500899</td>\n",
       "      <td>11.155688</td>\n",
       "      <td>2.523940</td>\n",
       "      <td>0.416368</td>\n",
       "    </tr>\n",
       "    <tr>\n",
       "      <th>min</th>\n",
       "      <td>17.000000</td>\n",
       "      <td>0.000000</td>\n",
       "      <td>18827.000000</td>\n",
       "      <td>0.000000</td>\n",
       "      <td>0.000000</td>\n",
       "      <td>0.000000</td>\n",
       "      <td>0.000000</td>\n",
       "      <td>2.000000</td>\n",
       "      <td>0.000000</td>\n",
       "      <td>0.000000</td>\n",
       "      <td>0.000000</td>\n",
       "      <td>4.000000</td>\n",
       "      <td>19.000000</td>\n",
       "      <td>0.000000</td>\n",
       "    </tr>\n",
       "    <tr>\n",
       "      <th>25%</th>\n",
       "      <td>27.000000</td>\n",
       "      <td>3.000000</td>\n",
       "      <td>118551.000000</td>\n",
       "      <td>9.000000</td>\n",
       "      <td>2.000000</td>\n",
       "      <td>3.000000</td>\n",
       "      <td>0.000000</td>\n",
       "      <td>4.000000</td>\n",
       "      <td>0.000000</td>\n",
       "      <td>0.000000</td>\n",
       "      <td>0.000000</td>\n",
       "      <td>40.000000</td>\n",
       "      <td>38.000000</td>\n",
       "      <td>0.000000</td>\n",
       "    </tr>\n",
       "    <tr>\n",
       "      <th>50%</th>\n",
       "      <td>37.000000</td>\n",
       "      <td>3.000000</td>\n",
       "      <td>178995.500000</td>\n",
       "      <td>11.000000</td>\n",
       "      <td>2.000000</td>\n",
       "      <td>6.000000</td>\n",
       "      <td>1.000000</td>\n",
       "      <td>4.000000</td>\n",
       "      <td>1.000000</td>\n",
       "      <td>0.000000</td>\n",
       "      <td>0.000000</td>\n",
       "      <td>40.000000</td>\n",
       "      <td>38.000000</td>\n",
       "      <td>0.000000</td>\n",
       "    </tr>\n",
       "    <tr>\n",
       "      <th>75%</th>\n",
       "      <td>47.000000</td>\n",
       "      <td>3.000000</td>\n",
       "      <td>235386.500000</td>\n",
       "      <td>12.000000</td>\n",
       "      <td>4.000000</td>\n",
       "      <td>9.000000</td>\n",
       "      <td>3.000000</td>\n",
       "      <td>4.000000</td>\n",
       "      <td>1.000000</td>\n",
       "      <td>0.000000</td>\n",
       "      <td>0.000000</td>\n",
       "      <td>45.000000</td>\n",
       "      <td>38.000000</td>\n",
       "      <td>0.000000</td>\n",
       "    </tr>\n",
       "    <tr>\n",
       "      <th>max</th>\n",
       "      <td>79.000000</td>\n",
       "      <td>6.000000</td>\n",
       "      <td>505980.000000</td>\n",
       "      <td>15.000000</td>\n",
       "      <td>6.000000</td>\n",
       "      <td>13.000000</td>\n",
       "      <td>5.000000</td>\n",
       "      <td>4.000000</td>\n",
       "      <td>1.000000</td>\n",
       "      <td>22040.000000</td>\n",
       "      <td>1258.000000</td>\n",
       "      <td>77.000000</td>\n",
       "      <td>40.000000</td>\n",
       "      <td>1.000000</td>\n",
       "    </tr>\n",
       "  </tbody>\n",
       "</table>\n",
       "</div>"
      ],
      "text/plain": [
       "               Age      workclass         fnlwgt     education        status  \\\n",
       "count  27918.000000  27918.000000   27918.000000  27918.000000  27918.000000   \n",
       "mean      38.192994      3.084927  186505.103267     10.310337      2.616520   \n",
       "std       13.412258      1.099480   94731.927326      3.893803      1.518574   \n",
       "min       17.000000      0.000000   18827.000000      0.000000      0.000000   \n",
       "25%       27.000000      3.000000  118551.000000      9.000000      2.000000   \n",
       "50%       37.000000      3.000000  178995.500000     11.000000      2.000000   \n",
       "75%       47.000000      3.000000  235386.500000     12.000000      4.000000   \n",
       "max       79.000000      6.000000  505980.000000     15.000000      6.000000   \n",
       "\n",
       "         occupation  relationship          race        gender  capital gain  \\\n",
       "count  27918.000000  27918.000000  27918.000000  27918.000000  27918.000000   \n",
       "mean       6.104055      1.465506      3.790852      0.663515    569.723261   \n",
       "std        3.990535      1.604524      0.605812      0.472516   2330.183001   \n",
       "min        0.000000      0.000000      2.000000      0.000000      0.000000   \n",
       "25%        3.000000      0.000000      4.000000      0.000000      0.000000   \n",
       "50%        6.000000      1.000000      4.000000      1.000000      0.000000   \n",
       "75%        9.000000      3.000000      4.000000      1.000000      0.000000   \n",
       "max       13.000000      5.000000      4.000000      1.000000  22040.000000   \n",
       "\n",
       "       capital loss  hrs per week  native country  annual income  \n",
       "count  27918.000000  27918.000000    27918.000000   27918.000000  \n",
       "mean       1.206247     39.915789       37.504836       0.223154  \n",
       "std       32.500899     11.155688        2.523940       0.416368  \n",
       "min        0.000000      4.000000       19.000000       0.000000  \n",
       "25%        0.000000     40.000000       38.000000       0.000000  \n",
       "50%        0.000000     40.000000       38.000000       0.000000  \n",
       "75%        0.000000     45.000000       38.000000       0.000000  \n",
       "max     1258.000000     77.000000       40.000000       1.000000  "
      ]
     },
     "execution_count": 56,
     "metadata": {},
     "output_type": "execute_result"
    }
   ],
   "source": [
    "df2n.describe()"
   ]
  },
  {
   "cell_type": "code",
   "execution_count": 57,
   "metadata": {},
   "outputs": [
    {
     "data": {
      "text/plain": [
       "Age                0.483033\n",
       "workclass          0.083327\n",
       "fnlwgt             0.626841\n",
       "education         -0.943055\n",
       "status            -0.043885\n",
       "occupation         0.014259\n",
       "relationship       0.756144\n",
       "race              -2.584181\n",
       "gender            -0.692152\n",
       "capital gain       4.942084\n",
       "capital loss      29.593350\n",
       "hrs per week      -0.357395\n",
       "native country    -5.167475\n",
       "annual income      1.329912\n",
       "dtype: float64"
      ]
     },
     "execution_count": 57,
     "metadata": {},
     "output_type": "execute_result"
    }
   ],
   "source": [
    "df2n.skew()\n",
    "# we can still observe the skewness in capital loss & capital gain"
   ]
  },
  {
   "cell_type": "code",
   "execution_count": 58,
   "metadata": {},
   "outputs": [
    {
     "data": {
      "text/plain": [
       "<matplotlib.axes._subplots.AxesSubplot at 0x2d3e4436448>"
      ]
     },
     "execution_count": 58,
     "metadata": {},
     "output_type": "execute_result"
    },
    {
     "data": {
      "image/png": "[encoded data removed]",
      "text/plain": [
       "<Figure size 1152x864 with 2 Axes>"
      ]
     },
     "metadata": {
      "needs_background": "light"
     },
     "output_type": "display_data"
    }
   ],
   "source": [
    "plt.figure(figsize=(16,12))\n",
    "sns.heatmap(df2n.corr(),cmap='Blues',annot=True)\n",
    "# most of the columns are in +ve relation with Target \n"
   ]
  },
  {
   "cell_type": "markdown",
   "metadata": {},
   "source": [
    "# Data preprocessing and model training "
   ]
  },
  {
   "cell_type": "code",
   "execution_count": 59,
   "metadata": {},
   "outputs": [],
   "source": [
    "x=df2n.iloc[:,0:-1]\n",
    "# feature attributes"
   ]
  },
  {
   "cell_type": "code",
   "execution_count": 60,
   "metadata": {},
   "outputs": [],
   "source": [
    "y=df2n.iloc[:,-1]\n",
    "# target attribute"
   ]
  },
  {
   "cell_type": "code",
   "execution_count": 61,
   "metadata": {},
   "outputs": [],
   "source": [
    "scale=StandardScaler()\n",
    "# regularising the feuture columns to avoid underfitting and over fitting"
   ]
  },
  {
   "cell_type": "code",
   "execution_count": 62,
   "metadata": {},
   "outputs": [],
   "source": [
    "x=scale.fit_transform(x)"
   ]
  },
  {
   "cell_type": "code",
   "execution_count": 63,
   "metadata": {},
   "outputs": [
    {
     "name": "stdout",
     "output_type": "stream",
     "text": [
      "accuracy score correspondng to random state 41 is: 0.8129178605539638\n",
      "accuracy score correspondng to random state 42 is: 0.8055157593123209\n",
      "accuracy score correspondng to random state 43 is: 0.8076647564469914\n",
      "accuracy score correspondng to random state 44 is: 0.8050382043935053\n",
      "accuracy score correspondng to random state 45 is: 0.8067096466093601\n",
      "accuracy score correspondng to random state 46 is: 0.8061127029608405\n",
      "accuracy score correspondng to random state 47 is: 0.8067096466093601\n",
      "accuracy score correspondng to random state 48 is: 0.816738299904489\n",
      "accuracy score correspondng to random state 49 is: 0.8080229226361032\n",
      "accuracy score correspondng to random state 50 is: 0.805396370582617\n",
      "accuracy score correspondng to random state 51 is: 0.8085004775549188\n",
      "accuracy score correspondng to random state 52 is: 0.8088586437440306\n",
      "accuracy score correspondng to random state 53 is: 0.8076647564469914\n",
      "accuracy score correspondng to random state 54 is: 0.8049188156638013\n",
      "accuracy score correspondng to random state 55 is: 0.8019340974212035\n",
      "accuracy score correspondng to random state 56 is: 0.8062320916905444\n",
      "accuracy score correspondng to random state 57 is: 0.8075453677172875\n",
      "accuracy score correspondng to random state 58 is: 0.8030085959885387\n",
      "accuracy score correspondng to random state 59 is: 0.8045606494746896\n",
      "accuracy score correspondng to random state 60 is: 0.8063514804202483\n",
      "accuracy score correspondng to random state 61 is: 0.8006208213944603\n",
      "accuracy score correspondng to random state 62 is: 0.8032473734479465\n",
      "accuracy score correspondng to random state 63 is: 0.8057545367717287\n",
      "accuracy score correspondng to random state 64 is: 0.8065902578796562\n",
      "accuracy score correspondng to random state 65 is: 0.8055157593123209\n",
      "accuracy score correspondng to random state 66 is: 0.8028892072588347\n",
      "accuracy score correspondng to random state 67 is: 0.8106494746895893\n",
      "accuracy score correspondng to random state 68 is: 0.8022922636103151\n",
      "accuracy score correspondng to random state 69 is: 0.808261700095511\n",
      "accuracy score correspondng to random state 70 is: 0.805396370582617\n",
      "accuracy score correspondng to random state 71 is: 0.8069484240687679\n",
      "accuracy score correspondng to random state 72 is: 0.8076647564469914\n",
      "accuracy score correspondng to random state 73 is: 0.8046800382043935\n",
      "accuracy score correspondng to random state 74 is: 0.8101719197707736\n",
      "accuracy score correspondng to random state 75 is: 0.8059933142311366\n",
      "accuracy score correspondng to random state 76 is: 0.7982330468003821\n",
      "accuracy score correspondng to random state 77 is: 0.8059933142311366\n",
      "accuracy score correspondng to random state 78 is: 0.8071872015281757\n",
      "accuracy score correspondng to random state 79 is: 0.8046800382043935\n",
      "accuracy score correspondng to random state 80 is: 0.8075453677172875\n",
      "accuracy score correspondng to random state 81 is: 0.8106494746895893\n",
      "accuracy score correspondng to random state 82 is: 0.8047994269340975\n",
      "accuracy score correspondng to random state 83 is: 0.815305635148042\n",
      "accuracy score correspondng to random state 84 is: 0.8003820439350525\n",
      "accuracy score correspondng to random state 85 is: 0.8130372492836676\n",
      "accuracy score correspondng to random state 86 is: 0.8074259789875836\n",
      "accuracy score correspondng to random state 87 is: 0.8075453677172875\n",
      "accuracy score correspondng to random state 88 is: 0.8077841451766953\n",
      "accuracy score correspondng to random state 89 is: 0.8040830945558739\n",
      "accuracy score correspondng to random state 90 is: 0.8062320916905444\n",
      "accuracy score correspondng to random state 91 is: 0.8028892072588347\n",
      "accuracy score correspondng to random state 92 is: 0.8058739255014327\n",
      "accuracy score correspondng to random state 93 is: 0.8047994269340975\n",
      "accuracy score correspondng to random state 94 is: 0.8113658070678128\n",
      "accuracy score correspondng to random state 95 is: 0.8057545367717287\n",
      "accuracy score correspondng to random state 96 is: 0.8065902578796562\n",
      "accuracy score correspondng to random state 97 is: 0.7993075453677173\n",
      "accuracy score correspondng to random state 98 is: 0.8088586437440306\n",
      "accuracy score correspondng to random state 99 is: 0.8065902578796562\n",
      "\n",
      "maximum accuracy score corresponding to random state 48 is 0.816738299904489\n"
     ]
    }
   ],
   "source": [
    "# Since the target is binary, we can use logistic regression to train the model\n",
    "# lets optimise the seed value to get the highest possible accuracy score \n",
    "maxr=0\n",
    "for i in range(41,100):\n",
    "    x_train,x_test,y_train,y_test=train_test_split(x,y,random_state=i,test_size=0.3)\n",
    "    lg=LogisticRegression()\n",
    "    lg.fit(x_train,y_train)\n",
    "    pred=lg.predict(x_test)\n",
    "    score=accuracy_score(y_test,pred)\n",
    "    print('accuracy score correspondng to random state',i,'is:',score)\n",
    "    if score>maxr:\n",
    "        maxr=score\n",
    "        finalr=i\n",
    "print()\n",
    "print('maximum accuracy score corresponding to random state',finalr,'is',maxr)\n"
   ]
  },
  {
   "cell_type": "code",
   "execution_count": 101,
   "metadata": {},
   "outputs": [],
   "source": [
    "x_train,x_test,y_train,y_test=train_test_split(x,y,random_state=48,test_size=0.3)\n",
    "# Here we use seed value (random state) of 48 to train the model"
   ]
  },
  {
   "cell_type": "code",
   "execution_count": 102,
   "metadata": {},
   "outputs": [
    {
     "data": {
      "text/plain": [
       "LogisticRegression(C=1.0, class_weight=None, dual=False, fit_intercept=True,\n",
       "                   intercept_scaling=1, l1_ratio=None, max_iter=100,\n",
       "                   multi_class='auto', n_jobs=None, penalty='l2',\n",
       "                   random_state=None, solver='lbfgs', tol=0.0001, verbose=0,\n",
       "                   warm_start=False)"
      ]
     },
     "execution_count": 102,
     "metadata": {},
     "output_type": "execute_result"
    }
   ],
   "source": [
    "lg.fit(x_train,y_train)"
   ]
  },
  {
   "cell_type": "code",
   "execution_count": 103,
   "metadata": {},
   "outputs": [
    {
     "name": "stdout",
     "output_type": "stream",
     "text": [
      "0.811007640878701\n",
      "[[5733  857]\n",
      " [ 726 1060]]\n",
      "              precision    recall  f1-score   support\n",
      "\n",
      "           0       0.89      0.87      0.88      6590\n",
      "           1       0.55      0.59      0.57      1786\n",
      "\n",
      "    accuracy                           0.81      8376\n",
      "   macro avg       0.72      0.73      0.73      8376\n",
      "weighted avg       0.82      0.81      0.81      8376\n",
      "\n",
      "[0 0 0 ... 0 1 0]\n",
      "AxesSubplot(0.125,0.125;0.62x0.755)\n",
      "\n",
      "\n",
      "Cross_val_score is:\n",
      " 0.8065405126387782\n"
     ]
    },
    {
     "data": {
      "image/png": "[encoded data removed]",
      "text/plain": [
       "<Figure size 432x288 with 2 Axes>"
      ]
     },
     "metadata": {
      "needs_background": "light"
     },
     "output_type": "display_data"
    }
   ],
   "source": [
    "score=accuracy_score(y_test,pred)\n",
    "matrix=confusion_matrix(y_test,pred)\n",
    "report=classification_report(y_test,pred)\n",
    "pred=lg.predict(x_test)\n",
    "print(score)\n",
    "print(matrix)\n",
    "print(report)\n",
    "print(pred)\n",
    "print(sns.heatmap(matrix))\n",
    "print('\\n')\n",
    "cvs=cross_val_score(lg,x,y,cv=15,scoring='accuracy')\n",
    "print('Cross_val_score is:\\n',cvs.mean())"
   ]
  },
  {
   "cell_type": "code",
   "execution_count": 67,
   "metadata": {},
   "outputs": [],
   "source": [
    "# AUC-ROC curve to represent logistic regression grapgically "
   ]
  },
  {
   "cell_type": "code",
   "execution_count": 68,
   "metadata": {},
   "outputs": [
    {
     "data": {
      "text/plain": [
       "array([0.09825449, 0.10546443, 0.00781039, ..., 0.01353222, 0.87855359,\n",
       "       0.14263935])"
      ]
     },
     "execution_count": 68,
     "metadata": {},
     "output_type": "execute_result"
    }
   ],
   "source": [
    "y_pred_prob=lg.predict_proba(x_test)[:,-1]\n",
    "y_pred_prob"
   ]
  },
  {
   "cell_type": "code",
   "execution_count": 69,
   "metadata": {},
   "outputs": [],
   "source": [
    "fpr,tpr,thresholds=roc_curve(y_test,y_pred_prob)"
   ]
  },
  {
   "cell_type": "code",
   "execution_count": 70,
   "metadata": {},
   "outputs": [
    {
     "data": {
      "image/png": "[encoded data removed]",
      "text/plain": [
       "<Figure size 432x288 with 1 Axes>"
      ]
     },
     "metadata": {
      "needs_background": "light"
     },
     "output_type": "display_data"
    }
   ],
   "source": [
    "plt.plot([0,1],[0,1],'k--')\n",
    "plt.plot(fpr,tpr)\n",
    "plt.xlabel('false positive rate')\n",
    "plt.ylabel('true positive rate')\n",
    "plt.title('AUC ROC Curve for Logistic Regressuion')\n",
    "plt.show()"
   ]
  },
  {
   "cell_type": "code",
   "execution_count": 71,
   "metadata": {},
   "outputs": [],
   "source": [
    "# score is not good enough. lets try other algorithms to get better score "
   ]
  },
  {
   "cell_type": "code",
   "execution_count": 72,
   "metadata": {},
   "outputs": [],
   "source": [
    "# lets try DecisionTreeClassifier to train the model"
   ]
  },
  {
   "cell_type": "code",
   "execution_count": 73,
   "metadata": {},
   "outputs": [
    {
     "name": "stdout",
     "output_type": "stream",
     "text": [
      "0.8093708855819495\n",
      "{'criterion': 'entropy'}\n"
     ]
    }
   ],
   "source": [
    "dtc=DecisionTreeClassifier()\n",
    "param_grid={'criterion':['gini','entropy']}\n",
    "grid=GridSearchCV(dtc,param_grid,scoring='accuracy',cv=20)\n",
    "grid.fit(x,y)\n",
    "print(grid.best_score_)\n",
    "print(grid.best_params_)"
   ]
  },
  {
   "cell_type": "code",
   "execution_count": 99,
   "metadata": {},
   "outputs": [
    {
     "data": {
      "text/plain": [
       "DecisionTreeClassifier(ccp_alpha=0.0, class_weight=None, criterion='entropy',\n",
       "                       max_depth=None, max_features=None, max_leaf_nodes=None,\n",
       "                       min_impurity_decrease=0.0, min_impurity_split=None,\n",
       "                       min_samples_leaf=1, min_samples_split=2,\n",
       "                       min_weight_fraction_leaf=0.0, presort='deprecated',\n",
       "                       random_state=None, splitter='best')"
      ]
     },
     "execution_count": 99,
     "metadata": {},
     "output_type": "execute_result"
    }
   ],
   "source": [
    "dtc=DecisionTreeClassifier(criterion='entropy')\n",
    "dtc.fit(x_train,y_train)"
   ]
  },
  {
   "cell_type": "code",
   "execution_count": 100,
   "metadata": {},
   "outputs": [
    {
     "name": "stdout",
     "output_type": "stream",
     "text": [
      "0.811007640878701\n",
      "              precision    recall  f1-score   support\n",
      "\n",
      "           0       0.89      0.87      0.88      6590\n",
      "           1       0.55      0.59      0.57      1786\n",
      "\n",
      "    accuracy                           0.81      8376\n",
      "   macro avg       0.72      0.73      0.73      8376\n",
      "weighted avg       0.82      0.81      0.81      8376\n",
      "\n",
      "[[5733  857]\n",
      " [ 726 1060]]\n",
      "Cross_val_score is:\n",
      " 0.8081166491880274\n"
     ]
    },
    {
     "data": {
      "image/png": "[encoded data removed]",
      "text/plain": [
       "<Figure size 432x288 with 2 Axes>"
      ]
     },
     "metadata": {
      "needs_background": "light"
     },
     "output_type": "display_data"
    }
   ],
   "source": [
    "pred=dtc.predict(x_test)\n",
    "print(accuracy_score(y_test,pred))\n",
    "print(classification_report(y_test,pred))\n",
    "print(confusion_matrix(y_test,pred))\n",
    "sns.heatmap(confusion_matrix(y_test,pred))\n",
    "cvs=cross_val_score(dtc,x,y,cv=15,scoring='accuracy')\n",
    "print('Cross_val_score is:\\n',cvs.mean())"
   ]
  },
  {
   "cell_type": "code",
   "execution_count": 76,
   "metadata": {},
   "outputs": [
    {
     "data": {
      "text/plain": [
       "array([0., 0., 0., ..., 0., 1., 1.])"
      ]
     },
     "execution_count": 76,
     "metadata": {},
     "output_type": "execute_result"
    }
   ],
   "source": [
    "y_pred_prob=dtc.predict_proba(x_test)[:,-1]\n",
    "y_pred_prob"
   ]
  },
  {
   "cell_type": "code",
   "execution_count": 77,
   "metadata": {},
   "outputs": [],
   "source": [
    "fpr,tpr,thresholds=roc_curve(y_test,y_pred_prob)"
   ]
  },
  {
   "cell_type": "code",
   "execution_count": 78,
   "metadata": {},
   "outputs": [
    {
     "data": {
      "image/png": "[encoded data removed]",
      "text/plain": [
       "<Figure size 432x288 with 1 Axes>"
      ]
     },
     "metadata": {
      "needs_background": "light"
     },
     "output_type": "display_data"
    }
   ],
   "source": [
    "plt.plot([0,1],[0,1],'k--')\n",
    "plt.plot(fpr,tpr)\n",
    "plt.xlabel('false positive rate')\n",
    "plt.ylabel('true positive rate')\n",
    "plt.title('AUC ROC Curve for DecisionTreeClassifier ')\n",
    "plt.show()"
   ]
  },
  {
   "cell_type": "code",
   "execution_count": 79,
   "metadata": {},
   "outputs": [],
   "source": [
    "# lets try KNeighboursClassifier to train the model"
   ]
  },
  {
   "cell_type": "code",
   "execution_count": 80,
   "metadata": {},
   "outputs": [
    {
     "data": {
      "text/plain": [
       "KNeighborsClassifier(algorithm='auto', leaf_size=30, metric='minkowski',\n",
       "                     metric_params=None, n_jobs=None, n_neighbors=5, p=2,\n",
       "                     weights='uniform')"
      ]
     },
     "execution_count": 80,
     "metadata": {},
     "output_type": "execute_result"
    }
   ],
   "source": [
    "knn= KNeighborsClassifier()\n",
    "knn.fit(x_train,y_train)"
   ]
  },
  {
   "cell_type": "code",
   "execution_count": 81,
   "metadata": {},
   "outputs": [
    {
     "name": "stdout",
     "output_type": "stream",
     "text": [
      "0.8347659980897804\n",
      "              precision    recall  f1-score   support\n",
      "\n",
      "           0       0.88      0.91      0.90      6590\n",
      "           1       0.62      0.56      0.59      1786\n",
      "\n",
      "    accuracy                           0.83      8376\n",
      "   macro avg       0.75      0.74      0.74      8376\n",
      "weighted avg       0.83      0.83      0.83      8376\n",
      "\n",
      "[[5986  604]\n",
      " [ 780 1006]]\n",
      "Cross_val_score is:\n",
      " 0.8315070319538772\n"
     ]
    },
    {
     "data": {
      "image/png": "[encoded data removed]",
      "text/plain": [
       "<Figure size 432x288 with 2 Axes>"
      ]
     },
     "metadata": {
      "needs_background": "light"
     },
     "output_type": "display_data"
    }
   ],
   "source": [
    "pred=knn.predict(x_test)\n",
    "print(accuracy_score(y_test,pred))\n",
    "print(classification_report(y_test,pred))\n",
    "print(confusion_matrix(y_test,pred))\n",
    "sns.heatmap(confusion_matrix(y_test,pred))\n",
    "cvs=cross_val_score(knn,x,y,cv=15,scoring='accuracy')\n",
    "print('Cross_val_score is:\\n',cvs.mean())"
   ]
  },
  {
   "cell_type": "code",
   "execution_count": 82,
   "metadata": {},
   "outputs": [
    {
     "data": {
      "text/plain": [
       "array([0. , 0.6, 0. , ..., 0. , 1. , 0.2])"
      ]
     },
     "execution_count": 82,
     "metadata": {},
     "output_type": "execute_result"
    }
   ],
   "source": [
    "y_pred_prob=knn.predict_proba(x_test)[:,-1]\n",
    "y_pred_prob"
   ]
  },
  {
   "cell_type": "code",
   "execution_count": 83,
   "metadata": {},
   "outputs": [],
   "source": [
    "fpr,tpr,thresholds=roc_curve(y_test,y_pred_prob)"
   ]
  },
  {
   "cell_type": "code",
   "execution_count": 84,
   "metadata": {},
   "outputs": [
    {
     "data": {
      "image/png": "[encoded data removed]",
      "text/plain": [
       "<Figure size 432x288 with 1 Axes>"
      ]
     },
     "metadata": {
      "needs_background": "light"
     },
     "output_type": "display_data"
    }
   ],
   "source": [
    "plt.plot([0,1],[0,1],'k--')\n",
    "plt.plot(fpr,tpr)\n",
    "plt.xlabel('false positive rate')\n",
    "plt.ylabel('true positive rate')\n",
    "plt.title('AUC ROC Curve for KNeighboursClassifier')\n",
    "plt.show()"
   ]
  },
  {
   "cell_type": "code",
   "execution_count": 85,
   "metadata": {},
   "outputs": [],
   "source": [
    "# lets try GaussianNB to train the model"
   ]
  },
  {
   "cell_type": "code",
   "execution_count": 86,
   "metadata": {},
   "outputs": [
    {
     "data": {
      "text/plain": [
       "GaussianNB(priors=None, var_smoothing=1e-09)"
      ]
     },
     "execution_count": 86,
     "metadata": {},
     "output_type": "execute_result"
    }
   ],
   "source": [
    "gb=GaussianNB()\n",
    "gb.fit(x_train,y_train)"
   ]
  },
  {
   "cell_type": "code",
   "execution_count": 87,
   "metadata": {},
   "outputs": [
    {
     "name": "stdout",
     "output_type": "stream",
     "text": [
      "0.7876074498567335\n",
      "              precision    recall  f1-score   support\n",
      "\n",
      "           0       0.92      0.80      0.86      6590\n",
      "           1       0.50      0.74      0.60      1786\n",
      "\n",
      "    accuracy                           0.79      8376\n",
      "   macro avg       0.71      0.77      0.73      8376\n",
      "weighted avg       0.83      0.79      0.80      8376\n",
      "\n",
      "[[5279 1311]\n",
      " [ 468 1318]]\n",
      "Cross_val_score is:\n",
      " 0.7759870813904339\n"
     ]
    },
    {
     "data": {
      "image/png": "[encoded data removed]",
      "text/plain": [
       "<Figure size 432x288 with 2 Axes>"
      ]
     },
     "metadata": {
      "needs_background": "light"
     },
     "output_type": "display_data"
    }
   ],
   "source": [
    "pred=gb.predict(x_test)\n",
    "print(accuracy_score(y_test,pred))\n",
    "print(classification_report(y_test,pred))\n",
    "print(confusion_matrix(y_test,pred))\n",
    "sns.heatmap(confusion_matrix(y_test,pred))\n",
    "cvs=cross_val_score(gb,x,y,cv=15,scoring='accuracy')\n",
    "print('Cross_val_score is:\\n',cvs.mean())"
   ]
  },
  {
   "cell_type": "code",
   "execution_count": 88,
   "metadata": {},
   "outputs": [
    {
     "data": {
      "text/plain": [
       "array([1.75331989e-06, 4.90609061e-03, 3.65756867e-06, ...,\n",
       "       1.01983511e-05, 1.00000000e+00, 8.05866332e-02])"
      ]
     },
     "execution_count": 88,
     "metadata": {},
     "output_type": "execute_result"
    }
   ],
   "source": [
    "y_pred_prob=gb.predict_proba(x_test)[:,-1]\n",
    "y_pred_prob"
   ]
  },
  {
   "cell_type": "code",
   "execution_count": 89,
   "metadata": {},
   "outputs": [],
   "source": [
    "fpr,tpr,thresholds=roc_curve(y_test,y_pred_prob)"
   ]
  },
  {
   "cell_type": "code",
   "execution_count": 90,
   "metadata": {},
   "outputs": [
    {
     "data": {
      "image/png": "[encoded data removed]",
      "text/plain": [
       "<Figure size 432x288 with 1 Axes>"
      ]
     },
     "metadata": {
      "needs_background": "light"
     },
     "output_type": "display_data"
    }
   ],
   "source": [
    "plt.plot([0,1],[0,1],'k--')\n",
    "plt.plot(fpr,tpr)\n",
    "plt.xlabel('false positive rate')\n",
    "plt.ylabel('true positive rate')\n",
    "plt.title('AUC ROC Curve for GaussianMB ') \n",
    "plt.show()"
   ]
  },
  {
   "cell_type": "code",
   "execution_count": 91,
   "metadata": {},
   "outputs": [],
   "source": [
    "# since the score is still not good enough, we may try to boost the score ensemble techniques"
   ]
  },
  {
   "cell_type": "code",
   "execution_count": 92,
   "metadata": {},
   "outputs": [
    {
     "data": {
      "text/plain": [
       "RandomForestClassifier(bootstrap=True, ccp_alpha=0.0, class_weight=None,\n",
       "                       criterion='gini', max_depth=None, max_features='auto',\n",
       "                       max_leaf_nodes=None, max_samples=None,\n",
       "                       min_impurity_decrease=0.0, min_impurity_split=None,\n",
       "                       min_samples_leaf=1, min_samples_split=2,\n",
       "                       min_weight_fraction_leaf=0.0, n_estimators=100,\n",
       "                       n_jobs=None, oob_score=False, random_state=None,\n",
       "                       verbose=0, warm_start=False)"
      ]
     },
     "execution_count": 92,
     "metadata": {},
     "output_type": "execute_result"
    }
   ],
   "source": [
    "rf=RandomForestClassifier()\n",
    "rf.fit(x_train,y_train)"
   ]
  },
  {
   "cell_type": "code",
   "execution_count": 93,
   "metadata": {},
   "outputs": [
    {
     "data": {
      "text/plain": [
       "1.0"
      ]
     },
     "execution_count": 93,
     "metadata": {},
     "output_type": "execute_result"
    }
   ],
   "source": [
    "predrf=rf.predict(x_test)\n",
    "rf.score(x_train,y_train)\n",
    "# we can ovserve the score perfect and hence the model has learbned well enough"
   ]
  },
  {
   "cell_type": "code",
   "execution_count": 94,
   "metadata": {},
   "outputs": [
    {
     "data": {
      "text/plain": [
       "array([0.04, 0.13, 0.  , ..., 0.  , 0.98, 0.18])"
      ]
     },
     "execution_count": 94,
     "metadata": {},
     "output_type": "execute_result"
    }
   ],
   "source": [
    "y_pred_prob=rf.predict_proba(x_test)[:,-1]\n",
    "y_pred_prob"
   ]
  },
  {
   "cell_type": "code",
   "execution_count": 95,
   "metadata": {},
   "outputs": [],
   "source": [
    "fpr,tpr,thresholds=roc_curve(y_test,y_pred_prob)"
   ]
  },
  {
   "cell_type": "code",
   "execution_count": 96,
   "metadata": {},
   "outputs": [
    {
     "data": {
      "image/png": "[encoded data removed]",
      "text/plain": [
       "<Figure size 432x288 with 1 Axes>"
      ]
     },
     "metadata": {
      "needs_background": "light"
     },
     "output_type": "display_data"
    }
   ],
   "source": [
    "plt.plot([0,1],[0,1],'k--')\n",
    "plt.plot(fpr,tpr)\n",
    "plt.xlabel('false positive rate')\n",
    "plt.ylabel('true positive rate')\n",
    "plt.title('AUC ROC Curve for RandomForestClassifier ') \n",
    "plt.show()"
   ]
  },
  {
   "cell_type": "code",
   "execution_count": 97,
   "metadata": {},
   "outputs": [
    {
     "data": {
      "text/plain": [
       "array([0, 0, 0, ..., 0, 1, 0])"
      ]
     },
     "execution_count": 97,
     "metadata": {},
     "output_type": "execute_result"
    }
   ],
   "source": [
    "predrf"
   ]
  },
  {
   "cell_type": "markdown",
   "metadata": {},
   "source": [
    "# Save the Model "
   ]
  },
  {
   "cell_type": "code",
   "execution_count": 98,
   "metadata": {},
   "outputs": [
    {
     "data": {
      "text/plain": [
       "['rfcensus.obj']"
      ]
     },
     "execution_count": 98,
     "metadata": {},
     "output_type": "execute_result"
    }
   ],
   "source": [
    "joblib.dump(rf,'rfcensus.obj')"
   ]
  },
  {
   "cell_type": "code",
   "execution_count": null,
   "metadata": {},
   "outputs": [],
   "source": []
  }
 ],
 "metadata": {
  "kernelspec": {
   "display_name": "Python 3",
   "language": "python",
   "name": "python3"
  },
  "language_info": {
   "codemirror_mode": {
    "name": "ipython",
    "version": 3
   },
   "file_extension": ".py",
   "mimetype": "text/x-python",
   "name": "python",
   "nbconvert_exporter": "python",
   "pygments_lexer": "ipython3",
   "version": "3.7.6"
  }
 },
 "nbformat": 4,
 "nbformat_minor": 4
}
